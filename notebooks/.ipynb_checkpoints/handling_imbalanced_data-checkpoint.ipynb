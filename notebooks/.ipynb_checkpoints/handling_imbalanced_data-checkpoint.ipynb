{
 "cells": [
  {
   "cell_type": "code",
   "execution_count": 6,
   "metadata": {},
   "outputs": [],
   "source": [
    "# Necessary imports\n",
    "import numpy as np\n",
    "import pandas as pd"
   ]
  },
  {
   "cell_type": "code",
   "execution_count": 2,
   "metadata": {},
   "outputs": [],
   "source": [
    "# Data paths\n",
    "one_percent = '../data/train_one_percent.csv'\n",
    "three_percent = '../data/train_three_percent.csv'\n",
    "five_percent = '../data/train_five_percent.csv'\n",
    "twentyfive_percent = '../data/train_twentyfive_percent.csv'\n",
    "fifty_percent = '../data/train_fifty_percent.csv'"
   ]
  },
  {
   "cell_type": "code",
   "execution_count": 3,
   "metadata": {},
   "outputs": [],
   "source": [
    "# Load dataframes\n",
    "train_df_one = pd.read_csv(one_percent)\n",
    "train_df_three = pd.read_csv(three_percent)\n",
    "train_df_five = pd.read_csv(five_percent)\n",
    "train_df_twentyfive = pd.read_csv(twentyfive_percent)\n",
    "train_df_fifty = pd.read_csv(fifty_percent)"
   ]
  },
  {
   "cell_type": "code",
   "execution_count": 4,
   "metadata": {
    "scrolled": false
   },
   "outputs": [
    {
     "name": "stdout",
     "output_type": "stream",
     "text": [
      "<class 'pandas.core.frame.DataFrame'>\n",
      "RangeIndex: 251516 entries, 0 to 251515\n",
      "Data columns (total 14 columns):\n",
      " #   Column          Non-Null Count   Dtype  \n",
      "---  ------          --------------   -----  \n",
      " 0   orderItemID     251516 non-null  int64  \n",
      " 1   orderDate       251516 non-null  object \n",
      " 2   deliveryDate    251516 non-null  object \n",
      " 3   itemID          251516 non-null  int64  \n",
      " 4   size            251516 non-null  object \n",
      " 5   color           251516 non-null  object \n",
      " 6   manufacturerID  251516 non-null  int64  \n",
      " 7   price           251516 non-null  float64\n",
      " 8   customerID      251516 non-null  int64  \n",
      " 9   salutation      251516 non-null  object \n",
      " 10  dateOfBirth     251516 non-null  object \n",
      " 11  state           251516 non-null  object \n",
      " 12  creationDate    251516 non-null  object \n",
      " 13  returnShipment  251516 non-null  int64  \n",
      "dtypes: float64(1), int64(5), object(8)\n",
      "memory usage: 26.9+ MB\n",
      "None\n",
      "<class 'pandas.core.frame.DataFrame'>\n",
      "RangeIndex: 256702 entries, 0 to 256701\n",
      "Data columns (total 14 columns):\n",
      " #   Column          Non-Null Count   Dtype  \n",
      "---  ------          --------------   -----  \n",
      " 0   orderItemID     256702 non-null  int64  \n",
      " 1   orderDate       256702 non-null  object \n",
      " 2   deliveryDate    256702 non-null  object \n",
      " 3   itemID          256702 non-null  int64  \n",
      " 4   size            256702 non-null  object \n",
      " 5   color           256702 non-null  object \n",
      " 6   manufacturerID  256702 non-null  int64  \n",
      " 7   price           256702 non-null  float64\n",
      " 8   customerID      256702 non-null  int64  \n",
      " 9   salutation      256702 non-null  object \n",
      " 10  dateOfBirth     256702 non-null  object \n",
      " 11  state           256702 non-null  object \n",
      " 12  creationDate    256702 non-null  object \n",
      " 13  returnShipment  256702 non-null  int64  \n",
      "dtypes: float64(1), int64(5), object(8)\n",
      "memory usage: 27.4+ MB\n",
      "None\n",
      "<class 'pandas.core.frame.DataFrame'>\n",
      "RangeIndex: 262106 entries, 0 to 262105\n",
      "Data columns (total 14 columns):\n",
      " #   Column          Non-Null Count   Dtype  \n",
      "---  ------          --------------   -----  \n",
      " 0   orderItemID     262106 non-null  int64  \n",
      " 1   orderDate       262106 non-null  object \n",
      " 2   deliveryDate    262106 non-null  object \n",
      " 3   itemID          262106 non-null  int64  \n",
      " 4   size            262106 non-null  object \n",
      " 5   color           262106 non-null  object \n",
      " 6   manufacturerID  262106 non-null  int64  \n",
      " 7   price           262106 non-null  float64\n",
      " 8   customerID      262106 non-null  int64  \n",
      " 9   salutation      262106 non-null  object \n",
      " 10  dateOfBirth     262106 non-null  object \n",
      " 11  state           262106 non-null  object \n",
      " 12  creationDate    262106 non-null  object \n",
      " 13  returnShipment  262106 non-null  int64  \n",
      "dtypes: float64(1), int64(5), object(8)\n",
      "memory usage: 28.0+ MB\n",
      "None\n",
      "<class 'pandas.core.frame.DataFrame'>\n",
      "RangeIndex: 332001 entries, 0 to 332000\n",
      "Data columns (total 14 columns):\n",
      " #   Column          Non-Null Count   Dtype  \n",
      "---  ------          --------------   -----  \n",
      " 0   orderItemID     332001 non-null  int64  \n",
      " 1   orderDate       332001 non-null  object \n",
      " 2   deliveryDate    332001 non-null  object \n",
      " 3   itemID          332001 non-null  int64  \n",
      " 4   size            332001 non-null  object \n",
      " 5   color           332001 non-null  object \n",
      " 6   manufacturerID  332001 non-null  int64  \n",
      " 7   price           332001 non-null  float64\n",
      " 8   customerID      332001 non-null  int64  \n",
      " 9   salutation      332001 non-null  object \n",
      " 10  dateOfBirth     332001 non-null  object \n",
      " 11  state           332001 non-null  object \n",
      " 12  creationDate    332001 non-null  object \n",
      " 13  returnShipment  332001 non-null  int64  \n",
      "dtypes: float64(1), int64(5), object(8)\n",
      "memory usage: 35.5+ MB\n",
      "None\n",
      "<class 'pandas.core.frame.DataFrame'>\n",
      "RangeIndex: 464182 entries, 0 to 464181\n",
      "Data columns (total 14 columns):\n",
      " #   Column          Non-Null Count   Dtype  \n",
      "---  ------          --------------   -----  \n",
      " 0   orderItemID     464182 non-null  int64  \n",
      " 1   orderDate       464182 non-null  object \n",
      " 2   deliveryDate    464182 non-null  object \n",
      " 3   itemID          464182 non-null  int64  \n",
      " 4   size            464182 non-null  object \n",
      " 5   color           464182 non-null  object \n",
      " 6   manufacturerID  464182 non-null  int64  \n",
      " 7   price           464182 non-null  float64\n",
      " 8   customerID      464182 non-null  int64  \n",
      " 9   salutation      464182 non-null  object \n",
      " 10  dateOfBirth     464182 non-null  object \n",
      " 11  state           464182 non-null  object \n",
      " 12  creationDate    464182 non-null  object \n",
      " 13  returnShipment  464182 non-null  int64  \n",
      "dtypes: float64(1), int64(5), object(8)\n",
      "memory usage: 49.6+ MB\n",
      "None\n"
     ]
    }
   ],
   "source": [
    "# Sanity check for correct loading\n",
    "print(train_df_one.info())\n",
    "print(train_df_three.info())\n",
    "print(train_df_five.info())\n",
    "print(train_df_twentyfive.info())\n",
    "print(train_df_fifty.info())"
   ]
  },
  {
   "cell_type": "code",
   "execution_count": 11,
   "metadata": {},
   "outputs": [],
   "source": [
    "# Under sampling"
   ]
  }
 ],
 "metadata": {
  "kernelspec": {
   "display_name": "Python 3 (ipykernel)",
   "language": "python",
   "name": "python3"
  },
  "language_info": {
   "codemirror_mode": {
    "name": "ipython",
    "version": 3
   },
   "file_extension": ".py",
   "mimetype": "text/x-python",
   "name": "python",
   "nbconvert_exporter": "python",
   "pygments_lexer": "ipython3",
   "version": "3.9.2"
  }
 },
 "nbformat": 4,
 "nbformat_minor": 1
}
