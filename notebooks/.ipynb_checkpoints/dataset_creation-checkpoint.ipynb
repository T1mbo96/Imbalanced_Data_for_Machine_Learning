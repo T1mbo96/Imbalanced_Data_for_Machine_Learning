{
 "cells": [
  {
   "cell_type": "code",
   "execution_count": 1,
   "id": "d92ecf22",
   "metadata": {
    "pycharm": {
     "is_executing": true
    }
   },
   "outputs": [],
   "source": [
    "# Necessary imports\n",
    "import numpy as np\n",
    "import pandas as pd\n",
    "\n",
    "from datetime import datetime\n",
    "from dateutil.relativedelta import relativedelta\n",
    "from sklearn.preprocessing import OrdinalEncoder, OneHotEncoder, LabelBinarizer\n",
    "\n",
    "from utils.calculate_delivery_time import calculate_delivery_time\n",
    "from utils.calculate_account_age_until_time_of_order import calculate_account_age_until_time_of_order\n",
    "from utils.split_x_y import split_x_y\n",
    "from utils.save_dataset import save_dataset"
   ]
  },
  {
   "cell_type": "code",
   "execution_count": 2,
   "id": "719d5bbf",
   "metadata": {
    "pycharm": {
     "is_executing": true
    }
   },
   "outputs": [],
   "source": [
    "# Data paths\n",
    "train_path = '../data/orders_train.txt'\n",
    "test_features_path = '../data/orders_test_features.txt'\n",
    "test_realclass_path = '../data/orders_test_realclass.txt'"
   ]
  },
  {
   "cell_type": "code",
   "execution_count": 3,
   "id": "97bac85c",
   "metadata": {
    "pycharm": {
     "is_executing": true
    }
   },
   "outputs": [],
   "source": [
    "# Load csv data into dataframes\n",
    "train_df = pd.read_csv(train_path, sep=';')\n",
    "test_features_df = pd.read_csv(test_features_path, sep=';')\n",
    "test_realclass_df = pd.read_csv(test_realclass_path, sep=';')\n",
    "test_df = pd.concat([test_features_df, test_realclass_df], axis=1)"
   ]
  },
  {
   "cell_type": "code",
   "execution_count": 4,
   "id": "bf1f540d",
   "metadata": {
    "pycharm": {
     "is_executing": true
    }
   },
   "outputs": [],
   "source": [
    "# Drop column 'orderItemID'\n",
    "train_df = train_df.drop('orderItemID', axis=1)\n",
    "test_df = test_df.drop('orderItemID', axis=1)\n",
    "\n",
    "# Replace all '?' values with NaN\n",
    "train_df = train_df.replace('?', np.nan)\n",
    "test_df = test_df.replace('?', np.nan)\n",
    "\n",
    "# Drop all rows with NaN values in column 'color'\n",
    "train_df = train_df[train_df['color'].notna()]"
   ]
  },
  {
   "cell_type": "code",
   "execution_count": 5,
   "id": "9a63ebdf",
   "metadata": {},
   "outputs": [
    {
     "name": "stdout",
     "output_type": "stream",
     "text": [
      "<class 'pandas.core.frame.DataFrame'>\n",
      "Int64Index: 480949 entries, 0 to 481091\n",
      "Data columns (total 13 columns):\n",
      " #   Column          Non-Null Count   Dtype  \n",
      "---  ------          --------------   -----  \n",
      " 0   orderDate       480949 non-null  object \n",
      " 1   deliveryDate    441535 non-null  object \n",
      " 2   itemID          480949 non-null  int64  \n",
      " 3   size            480949 non-null  object \n",
      " 4   color           480949 non-null  object \n",
      " 5   manufacturerID  480949 non-null  int64  \n",
      " 6   price           480949 non-null  float64\n",
      " 7   customerID      480949 non-null  int64  \n",
      " 8   salutation      480949 non-null  object \n",
      " 9   dateOfBirth     432073 non-null  object \n",
      " 10  state           480949 non-null  object \n",
      " 11  creationDate    480949 non-null  object \n",
      " 12  returnShipment  480949 non-null  int64  \n",
      "dtypes: float64(1), int64(4), object(8)\n",
      "memory usage: 51.4+ MB\n"
     ]
    }
   ],
   "source": [
    "train_df.info()"
   ]
  },
  {
   "cell_type": "code",
   "execution_count": 6,
   "id": "2218117d",
   "metadata": {},
   "outputs": [
    {
     "name": "stdout",
     "output_type": "stream",
     "text": [
      "0    248865\n",
      "Name: returnShipment, dtype: int64\n",
      "1    232084\n",
      "Name: returnShipment, dtype: int64\n"
     ]
    }
   ],
   "source": [
    "train_df_0 = train_df[train_df.returnShipment == 0]\n",
    "train_df_1 = train_df[train_df.returnShipment == 1]\n",
    "print(train_df_0['returnShipment'].value_counts())\n",
    "print(train_df_1['returnShipment'].value_counts())"
   ]
  },
  {
   "cell_type": "code",
   "execution_count": 7,
   "id": "681821be",
   "metadata": {},
   "outputs": [
    {
     "name": "stdout",
     "output_type": "stream",
     "text": [
      "<class 'pandas.core.frame.DataFrame'>\n",
      "Int64Index: 15000 entries, 252762 to 379183\n",
      "Data columns (total 13 columns):\n",
      " #   Column          Non-Null Count  Dtype  \n",
      "---  ------          --------------  -----  \n",
      " 0   orderDate       15000 non-null  object \n",
      " 1   deliveryDate    12609 non-null  object \n",
      " 2   itemID          15000 non-null  int64  \n",
      " 3   size            15000 non-null  object \n",
      " 4   color           15000 non-null  object \n",
      " 5   manufacturerID  15000 non-null  int64  \n",
      " 6   price           15000 non-null  float64\n",
      " 7   customerID      15000 non-null  int64  \n",
      " 8   salutation      15000 non-null  object \n",
      " 9   dateOfBirth     13473 non-null  object \n",
      " 10  state           15000 non-null  object \n",
      " 11  creationDate    15000 non-null  object \n",
      " 12  returnShipment  15000 non-null  int64  \n",
      "dtypes: float64(1), int64(4), object(8)\n",
      "memory usage: 1.6+ MB\n",
      "None\n",
      "<class 'pandas.core.frame.DataFrame'>\n",
      "Int64Index: 15000 entries, 19624 to 166665\n",
      "Data columns (total 13 columns):\n",
      " #   Column          Non-Null Count  Dtype  \n",
      "---  ------          --------------  -----  \n",
      " 0   orderDate       15000 non-null  object \n",
      " 1   deliveryDate    15000 non-null  object \n",
      " 2   itemID          15000 non-null  int64  \n",
      " 3   size            15000 non-null  object \n",
      " 4   color           15000 non-null  object \n",
      " 5   manufacturerID  15000 non-null  int64  \n",
      " 6   price           15000 non-null  float64\n",
      " 7   customerID      15000 non-null  int64  \n",
      " 8   salutation      15000 non-null  object \n",
      " 9   dateOfBirth     13525 non-null  object \n",
      " 10  state           15000 non-null  object \n",
      " 11  creationDate    15000 non-null  object \n",
      " 12  returnShipment  15000 non-null  int64  \n",
      "dtypes: float64(1), int64(4), object(8)\n",
      "memory usage: 1.6+ MB\n",
      "None\n"
     ]
    }
   ],
   "source": [
    "# 480 949 entries\n",
    "# 0: 248 865 -> 51.74%\n",
    "# 1: 232 084 -> 48.26%\n",
    "# 60 000 entries -> 50% = 30 000\n",
    "train_df_0 = train_df_0.sample(n=15000)\n",
    "train_df_1 = train_df_1.sample(n=15000)\n",
    "print(train_df_0.info())\n",
    "print(train_df_1.info())"
   ]
  },
  {
   "cell_type": "code",
   "execution_count": 8,
   "id": "2ca03593",
   "metadata": {},
   "outputs": [
    {
     "name": "stdout",
     "output_type": "stream",
     "text": [
      "<class 'pandas.core.frame.DataFrame'>\n",
      "Int64Index: 30000 entries, 252762 to 166665\n",
      "Data columns (total 13 columns):\n",
      " #   Column          Non-Null Count  Dtype  \n",
      "---  ------          --------------  -----  \n",
      " 0   orderDate       30000 non-null  object \n",
      " 1   deliveryDate    27609 non-null  object \n",
      " 2   itemID          30000 non-null  int64  \n",
      " 3   size            30000 non-null  object \n",
      " 4   color           30000 non-null  object \n",
      " 5   manufacturerID  30000 non-null  int64  \n",
      " 6   price           30000 non-null  float64\n",
      " 7   customerID      30000 non-null  int64  \n",
      " 8   salutation      30000 non-null  object \n",
      " 9   dateOfBirth     26998 non-null  object \n",
      " 10  state           30000 non-null  object \n",
      " 11  creationDate    30000 non-null  object \n",
      " 12  returnShipment  30000 non-null  int64  \n",
      "dtypes: float64(1), int64(4), object(8)\n",
      "memory usage: 3.2+ MB\n"
     ]
    }
   ],
   "source": [
    "train_df = pd.concat([train_df_0, train_df_1])\n",
    "train_df.info()"
   ]
  },
  {
   "cell_type": "code",
   "execution_count": 9,
   "id": "668d50a2",
   "metadata": {
    "pycharm": {
     "is_executing": true
    }
   },
   "outputs": [],
   "source": [
    "# Calculate delivery time; -1 if no delivery date is giving; -1 if delivery date is before order date\n",
    "train_df['deliveryTime'] = train_df.apply(lambda x: calculate_delivery_time(x['orderDate'], x['deliveryDate']), axis=1)\n",
    "test_df['deliveryTime'] = test_df.apply(lambda x: calculate_delivery_time(x['orderDate'], x['deliveryDate']), axis=1)\n",
    "\n",
    "# Calculate age of account until time of order\n",
    "train_df['ageOfAccountUntilTimeOfOrder'] = train_df.apply(lambda x: calculate_account_age_until_time_of_order(x['creationDate'], x['orderDate']), axis=1)\n",
    "test_df['ageOfAccountUntilTimeOfOrder'] = test_df.apply(lambda x: calculate_account_age_until_time_of_order(x['creationDate'], x['orderDate']), axis=1)\n",
    "\n",
    "# Drop columns 'orderDate', 'deliveryDate' and 'creationDate'\n",
    "train_df = train_df.drop(columns=['orderDate', 'deliveryDate', 'creationDate'])\n",
    "test_df = test_df.drop(columns=['orderDate', 'deliveryDate', 'creationDate'])\n",
    "\n",
    "# Missing Category Imputation -> Impute all NaN values with a new category 'Missing'\n",
    "train_df = train_df.fillna(-1)\n",
    "test_df = test_df.fillna(-1)\n",
    "\n",
    "# Create new column 'age'\n",
    "train_df['age'] = train_df['dateOfBirth'].apply(lambda x: relativedelta(pd.to_datetime('now'), datetime.strptime(x, '%Y-%m-%d')).years if x != -1 else -1)\n",
    "test_df['age'] = test_df['dateOfBirth'].apply(lambda x: relativedelta(pd.to_datetime('now'), datetime.strptime(x, '%Y-%m-%d')).years if x != -1 else -1)\n",
    "\n",
    "# Drop column 'dateOfBirth'\n",
    "train_df = train_df.drop(columns=['dateOfBirth'])\n",
    "test_df = test_df.drop(columns=['dateOfBirth'])"
   ]
  },
  {
   "cell_type": "code",
   "execution_count": 39,
   "id": "d7fee3e1",
   "metadata": {},
   "outputs": [],
   "source": [
    "# One hot encoding for categorical columns\n",
    "train_df = pd.get_dummies(train_df, columns=['itemID', 'size', 'color', 'manufacturerID', 'customerID', 'salutation', 'state'])\n",
    "test_df = pd.get_dummies(test_df, columns=['itemID', 'size', 'color', 'manufacturerID', 'customerID', 'salutation', 'state'])\n",
    "test_df = test_df.reindex(columns=train_df.columns, fill_value=np.uint8(0))"
   ]
  },
  {
   "cell_type": "code",
   "execution_count": 10,
   "id": "97041c9a",
   "metadata": {},
   "outputs": [],
   "source": [
    "# Ordinal Encoding for categorical columns\n",
    "# TODO: cast values to string again -> age, deliveryTime and ageOfAccountUntilTimeOfOrder, itemID, manufacturerID und customerID == continous\n",
    "oe_item_id = OrdinalEncoder(handle_unknown='use_encoded_value', unknown_value=-1).fit(train_df['itemID'].values.reshape(-1, 1))\n",
    "oe_size = OrdinalEncoder(handle_unknown='use_encoded_value', unknown_value=-1).fit(train_df['size'].values.reshape(-1, 1))\n",
    "oe_color = OrdinalEncoder(handle_unknown='use_encoded_value', unknown_value=-1).fit(train_df['color'].values.reshape(-1, 1))\n",
    "oe_manufacturer_id = OrdinalEncoder(handle_unknown='use_encoded_value', unknown_value=-1).fit(train_df['manufacturerID'].values.reshape(-1, 1))\n",
    "oe_customer_id = OrdinalEncoder(handle_unknown='use_encoded_value', unknown_value=-1).fit(train_df['customerID'].values.reshape(-1, 1))\n",
    "oe_salutation = OrdinalEncoder(handle_unknown='use_encoded_value', unknown_value=-1).fit(train_df['salutation'].values.reshape(-1, 1))\n",
    "oe_state = OrdinalEncoder(handle_unknown='use_encoded_value', unknown_value=-1).fit(train_df['state'].values.reshape(-1, 1))\n",
    "\n",
    "train_df['itemID'] = oe_item_id.transform(train_df['itemID'].values.reshape(-1, 1))\n",
    "train_df['size'] = oe_size.transform(train_df['size'].values.reshape(-1, 1))\n",
    "train_df['color'] = oe_color.transform(train_df['color'].values.reshape(-1, 1))\n",
    "train_df['manufacturerID'] = oe_manufacturer_id.transform(train_df['manufacturerID'].values.reshape(-1, 1))\n",
    "train_df['customerID'] = oe_customer_id.transform(train_df['customerID'].values.reshape(-1, 1))\n",
    "train_df['salutation'] = oe_salutation.transform(train_df['salutation'].values.reshape(-1, 1))\n",
    "train_df['state'] = oe_state.transform(train_df['state'].values.reshape(-1, 1))\n",
    "\n",
    "test_df['itemID'] = oe_item_id.transform(test_df['itemID'].values.reshape(-1, 1))\n",
    "test_df['size'] = oe_size.transform(test_df['size'].values.reshape(-1, 1))\n",
    "test_df['color'] = oe_color.transform(test_df['color'].values.reshape(-1, 1))\n",
    "test_df['manufacturerID'] = oe_manufacturer_id.transform(test_df['manufacturerID'].values.reshape(-1, 1))\n",
    "test_df['customerID'] = oe_customer_id.transform(test_df['customerID'].values.reshape(-1, 1))\n",
    "test_df['salutation'] = oe_salutation.transform(test_df['salutation'].values.reshape(-1, 1))\n",
    "test_df['state'] = oe_state.transform(test_df['state'].values.reshape(-1, 1))"
   ]
  },
  {
   "cell_type": "code",
   "execution_count": 11,
   "id": "231570cc",
   "metadata": {},
   "outputs": [
    {
     "name": "stdout",
     "output_type": "stream",
     "text": [
      "<class 'pandas.core.frame.DataFrame'>\n",
      "Int64Index: 30000 entries, 252762 to 166665\n",
      "Data columns (total 12 columns):\n",
      " #   Column                        Non-Null Count  Dtype  \n",
      "---  ------                        --------------  -----  \n",
      " 0   itemID                        30000 non-null  float64\n",
      " 1   size                          30000 non-null  float64\n",
      " 2   color                         30000 non-null  float64\n",
      " 3   manufacturerID                30000 non-null  float64\n",
      " 4   price                         30000 non-null  float64\n",
      " 5   customerID                    30000 non-null  float64\n",
      " 6   salutation                    30000 non-null  float64\n",
      " 7   state                         30000 non-null  float64\n",
      " 8   returnShipment                30000 non-null  int64  \n",
      " 9   deliveryTime                  30000 non-null  int64  \n",
      " 10  ageOfAccountUntilTimeOfOrder  30000 non-null  int64  \n",
      " 11  age                           30000 non-null  int64  \n",
      "dtypes: float64(8), int64(4)\n",
      "memory usage: 3.0 MB\n",
      "None\n",
      "<class 'pandas.core.frame.DataFrame'>\n",
      "RangeIndex: 50078 entries, 0 to 50077\n",
      "Data columns (total 12 columns):\n",
      " #   Column                        Non-Null Count  Dtype  \n",
      "---  ------                        --------------  -----  \n",
      " 0   itemID                        50078 non-null  float64\n",
      " 1   size                          50078 non-null  float64\n",
      " 2   color                         50078 non-null  float64\n",
      " 3   manufacturerID                50078 non-null  float64\n",
      " 4   price                         50078 non-null  float64\n",
      " 5   customerID                    50078 non-null  float64\n",
      " 6   salutation                    50078 non-null  float64\n",
      " 7   state                         50078 non-null  float64\n",
      " 8   returnShipment                50078 non-null  int64  \n",
      " 9   deliveryTime                  50078 non-null  int64  \n",
      " 10  ageOfAccountUntilTimeOfOrder  50078 non-null  int64  \n",
      " 11  age                           50078 non-null  int64  \n",
      "dtypes: float64(8), int64(4)\n",
      "memory usage: 4.6 MB\n",
      "None\n"
     ]
    }
   ],
   "source": [
    "print(train_df.info())\n",
    "print(test_df.info())"
   ]
  },
  {
   "cell_type": "code",
   "execution_count": 12,
   "id": "7c49c643",
   "metadata": {},
   "outputs": [],
   "source": [
    "# Split dataset on target classes\n",
    "train_df_0 = train_df[train_df.returnShipment == 0]\n",
    "train_df_1 = train_df[train_df.returnShipment == 1]"
   ]
  },
  {
   "cell_type": "code",
   "execution_count": 13,
   "id": "6d069593",
   "metadata": {},
   "outputs": [],
   "source": [
    "# FULL\n",
    "# Generate new datasets with 1%, 3%, 5%, 25% and 50% class balance\n",
    "# (232 084 * 100 / 99) = 234 428 -> 1% of 234 428 = 2 344\n",
    "# (232 084 * 100 / 97) = 239 262 -> 3% of 239 262 = 7 178\n",
    "# (232 084 * 100 / 95) = 244 299 -> 5% of 244 299 = 12 214\n",
    "# (232 084 * 100 / 75) = 309 445 -> 25% of 309 445 = 77 361\n",
    "# (232 084 * 100 / 50) = 464 168 -> 50% of 464 168 = 232 084\n",
    "\n",
    "# Filter dataframes for the correct number of instances\n",
    "# train_df_0 = train_df_0.sample(n=232084)\n",
    "\n",
    "# one_percent = train_df_1.sample(n=2344)\n",
    "# three_percent = train_df_1.sample(n=7178)\n",
    "# five_percent = train_df_1.sample(n=12214)\n",
    "# twenty_five_percent = train_df_1.sample(n=77361)\n",
    "# fifty_percent = train_df_1.sample(n=232084)\n",
    "\n",
    "# RESAMPLED\n",
    "# Generate new datasets with 1%, 3%, 5%, 25% and 50% class balance\n",
    "# (15 000 * 100 / 99) = 15 152 -> 1% of 15 152 = 152\n",
    "# (15 000 * 100 / 97) = 15 464 -> 3% of 15 464 = 464\n",
    "# (15 000 * 100 / 95) = 15 789 -> 5% of 15 789 = 789\n",
    "# (15 000 * 100 / 75) = 20 000 -> 25% of 20 000 = 5000\n",
    "# (15 000 * 100 / 50) = 30 000 -> 50% of 30 000 = 15 000\n",
    "\n",
    "one_percent = train_df_1.sample(n=152)\n",
    "three_percent = train_df_1.sample(n=464)\n",
    "five_percent = train_df_1.sample(n=789)\n",
    "twenty_five_percent = train_df_1.sample(n=5000)\n",
    "\n",
    "# Generate the new datasets\n",
    "train_df_one = train_df_0.append(one_percent)\n",
    "train_df_three = train_df_0.append(three_percent)\n",
    "train_df_five = train_df_0.append(five_percent)\n",
    "train_df_twenty_five = train_df_0.append(twenty_five_percent)\n",
    "train_df_fifty = train_df_0.append(train_df_1)"
   ]
  },
  {
   "cell_type": "code",
   "execution_count": 14,
   "id": "992c01b0",
   "metadata": {},
   "outputs": [
    {
     "name": "stdout",
     "output_type": "stream",
     "text": [
      "0    15000\n",
      "1      152\n",
      "Name: returnShipment, dtype: int64\n",
      "0    15000\n",
      "1      464\n",
      "Name: returnShipment, dtype: int64\n",
      "0    15000\n",
      "1      789\n",
      "Name: returnShipment, dtype: int64\n",
      "0    15000\n",
      "1     5000\n",
      "Name: returnShipment, dtype: int64\n",
      "0    15000\n",
      "1    15000\n",
      "Name: returnShipment, dtype: int64\n"
     ]
    }
   ],
   "source": [
    "# Sanity check new datasets\n",
    "print(train_df_one['returnShipment'].value_counts())\n",
    "print(train_df_three['returnShipment'].value_counts())\n",
    "print(train_df_five['returnShipment'].value_counts())\n",
    "print(train_df_twenty_five['returnShipment'].value_counts())\n",
    "print(train_df_fifty['returnShipment'].value_counts())"
   ]
  },
  {
   "cell_type": "code",
   "execution_count": 15,
   "id": "8c252b66",
   "metadata": {},
   "outputs": [],
   "source": [
    "# Sort new datasets by index\n",
    "train_df_one = train_df_one.sort_index()\n",
    "train_df_three = train_df_three.sort_index()\n",
    "train_df_five = train_df_five.sort_index()\n",
    "train_df_twenty_five = train_df_twenty_five.sort_index()\n",
    "train_df_fifty = train_df_fifty.sort_index()"
   ]
  },
  {
   "cell_type": "code",
   "execution_count": 16,
   "id": "b0323afc",
   "metadata": {},
   "outputs": [],
   "source": [
    "# Save new datasets\n",
    "save_dataset(df=train_df_one, dataset_type='train', encoding='oe', balance=1)\n",
    "save_dataset(df=train_df_three, dataset_type='train', encoding='oe', balance=3)\n",
    "save_dataset(df=train_df_five, dataset_type='train', encoding='oe', balance=5)\n",
    "save_dataset(df=train_df_twenty_five, dataset_type='train', encoding='oe', balance=25)\n",
    "save_dataset(df=train_df_fifty, dataset_type='train', encoding='oe', balance=50)\n",
    "\n",
    "save_dataset(df=test_df, dataset_type='test', encoding='oe')"
   ]
  }
 ],
 "metadata": {
  "kernelspec": {
   "display_name": "Python 3 (ipykernel)",
   "language": "python",
   "name": "python3"
  },
  "language_info": {
   "codemirror_mode": {
    "name": "ipython",
    "version": 3
   },
   "file_extension": ".py",
   "mimetype": "text/x-python",
   "name": "python",
   "nbconvert_exporter": "python",
   "pygments_lexer": "ipython3",
   "version": "3.9.2"
  }
 },
 "nbformat": 4,
 "nbformat_minor": 5
}
