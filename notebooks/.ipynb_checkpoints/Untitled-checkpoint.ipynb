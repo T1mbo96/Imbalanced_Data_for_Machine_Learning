{
 "cells": [
  {
   "cell_type": "code",
   "execution_count": 1,
   "id": "d92ecf22",
   "metadata": {},
   "outputs": [],
   "source": [
    "# Necessary imports\n",
    "import pandas as pd"
   ]
  },
  {
   "cell_type": "code",
   "execution_count": 2,
   "id": "719d5bbf",
   "metadata": {},
   "outputs": [],
   "source": [
    "# Data paths\n",
    "train_path = '../data/orders_train.txt'"
   ]
  },
  {
   "cell_type": "code",
   "execution_count": 3,
   "id": "97bac85c",
   "metadata": {},
   "outputs": [],
   "source": [
    "# Load csv data into dataframes\n",
    "train_df = pd.read_csv(train_path, sep=';', index_col=0)"
   ]
  },
  {
   "cell_type": "code",
   "execution_count": 4,
   "id": "8e010ff2",
   "metadata": {},
   "outputs": [
    {
     "name": "stdout",
     "output_type": "stream",
     "text": [
      "<class 'pandas.core.frame.DataFrame'>\n",
      "Int64Index: 249001 entries, 1 to 481092\n",
      "Data columns (total 13 columns):\n",
      " #   Column          Non-Null Count   Dtype  \n",
      "---  ------          --------------   -----  \n",
      " 0   orderDate       249001 non-null  object \n",
      " 1   deliveryDate    249001 non-null  object \n",
      " 2   itemID          249001 non-null  int64  \n",
      " 3   size            249001 non-null  object \n",
      " 4   color           249001 non-null  object \n",
      " 5   manufacturerID  249001 non-null  int64  \n",
      " 6   price           249001 non-null  float64\n",
      " 7   customerID      249001 non-null  int64  \n",
      " 8   salutation      249001 non-null  object \n",
      " 9   dateOfBirth     249001 non-null  object \n",
      " 10  state           249001 non-null  object \n",
      " 11  creationDate    249001 non-null  object \n",
      " 12  returnShipment  249001 non-null  int64  \n",
      "dtypes: float64(1), int64(4), object(8)\n",
      "memory usage: 26.6+ MB\n"
     ]
    }
   ],
   "source": [
    "# Split dataframe on classes \n",
    "train_df_0 = train_df[train_df.returnShipment == 0]\n",
    "train_df_1 = train_df[train_df.returnShipment == 1]"
   ]
  },
  {
   "cell_type": "code",
   "execution_count": 11,
   "id": "7b750e24",
   "metadata": {},
   "outputs": [
    {
     "name": "stdout",
     "output_type": "stream",
     "text": [
      "<class 'pandas.core.frame.DataFrame'>\n",
      "Int64Index: 249001 entries, 1 to 481092\n",
      "Data columns (total 13 columns):\n",
      " #   Column          Non-Null Count   Dtype  \n",
      "---  ------          --------------   -----  \n",
      " 0   orderDate       249001 non-null  object \n",
      " 1   deliveryDate    249001 non-null  object \n",
      " 2   itemID          249001 non-null  int64  \n",
      " 3   size            249001 non-null  object \n",
      " 4   color           249001 non-null  object \n",
      " 5   manufacturerID  249001 non-null  int64  \n",
      " 6   price           249001 non-null  float64\n",
      " 7   customerID      249001 non-null  int64  \n",
      " 8   salutation      249001 non-null  object \n",
      " 9   dateOfBirth     249001 non-null  object \n",
      " 10  state           249001 non-null  object \n",
      " 11  creationDate    249001 non-null  object \n",
      " 12  returnShipment  249001 non-null  int64  \n",
      "dtypes: float64(1), int64(4), object(8)\n",
      "memory usage: 26.6+ MB\n",
      "None\n",
      "<class 'pandas.core.frame.DataFrame'>\n",
      "Int64Index: 232091 entries, 2 to 481088\n",
      "Data columns (total 13 columns):\n",
      " #   Column          Non-Null Count   Dtype  \n",
      "---  ------          --------------   -----  \n",
      " 0   orderDate       232091 non-null  object \n",
      " 1   deliveryDate    232091 non-null  object \n",
      " 2   itemID          232091 non-null  int64  \n",
      " 3   size            232091 non-null  object \n",
      " 4   color           232091 non-null  object \n",
      " 5   manufacturerID  232091 non-null  int64  \n",
      " 6   price           232091 non-null  float64\n",
      " 7   customerID      232091 non-null  int64  \n",
      " 8   salutation      232091 non-null  object \n",
      " 9   dateOfBirth     232091 non-null  object \n",
      " 10  state           232091 non-null  object \n",
      " 11  creationDate    232091 non-null  object \n",
      " 12  returnShipment  232091 non-null  int64  \n",
      "dtypes: float64(1), int64(4), object(8)\n",
      "memory usage: 24.8+ MB\n",
      "None\n"
     ]
    }
   ],
   "source": [
    "# Sanity check splitted datasets\n",
    "print(train_df_0.info())\n",
    "print(train_df_1.info())"
   ]
  },
  {
   "cell_type": "code",
   "execution_count": 12,
   "id": "6d069593",
   "metadata": {},
   "outputs": [],
   "source": [
    "# Generate new datasets with 1%, 3%, 5%, 25% and 50% class balance\n",
    "# (249 001 * 100 / 99) = 251 516 -> 1% of 251 516 = 2 515\n",
    "# (249 001 * 100 / 97) = 256 702 -> 3% of 256 702 = 7 701\n",
    "# (249 001 * 100 / 95) = 262 106 -> 5% of 262 106 = 13 105\n",
    "# (249 001 * 100 / 75) = 332 001 -> 25% of 332 001 = 83 000\n",
    "# (232 091 * 100 / 50) = 464 182 -> 50% of 464 182 = 232 091 \n",
    "\n",
    "# Filter dataframes for the correct number of instances\n",
    "one_percent = train_df_1.sample(n=2515)\n",
    "three_percent = train_df_1.sample(n=7701)\n",
    "five_percent = train_df_1.sample(n=13105)\n",
    "twentyfive_percent = train_df_1.sample(n=83000)\n",
    "fifty_percent = train_df_0.sample(n=232091)\n",
    "\n",
    "# Generate the new datasets\n",
    "train_df_one = train_df_0.append(one_percent)\n",
    "train_df_three = train_df_0.append(three_percent)\n",
    "train_df_five = train_df_0.append(five_percent)\n",
    "train_df_twentyfive = train_df_0.append(twentyfive_percent)\n",
    "train_df_fifty = train_df_1.append(fifty_percent)"
   ]
  },
  {
   "cell_type": "code",
   "execution_count": 13,
   "id": "992c01b0",
   "metadata": {},
   "outputs": [
    {
     "name": "stdout",
     "output_type": "stream",
     "text": [
      "0    249001\n",
      "1      2515\n",
      "Name: returnShipment, dtype: int64\n",
      "0    249001\n",
      "1      7701\n",
      "Name: returnShipment, dtype: int64\n",
      "0    249001\n",
      "1     13105\n",
      "Name: returnShipment, dtype: int64\n",
      "0    249001\n",
      "1     83000\n",
      "Name: returnShipment, dtype: int64\n",
      "1    232091\n",
      "0    232091\n",
      "Name: returnShipment, dtype: int64\n"
     ]
    }
   ],
   "source": [
    "# Sanity check new datasets\n",
    "print(train_df_one['returnShipment'].value_counts())\n",
    "print(train_df_three['returnShipment'].value_counts())\n",
    "print(train_df_five['returnShipment'].value_counts())\n",
    "print(train_df_twentyfive['returnShipment'].value_counts())\n",
    "print(train_df_fifty['returnShipment'].value_counts())"
   ]
  }
 ],
 "metadata": {
  "kernelspec": {
   "display_name": "Python 3 (ipykernel)",
   "language": "python",
   "name": "python3"
  },
  "language_info": {
   "codemirror_mode": {
    "name": "ipython",
    "version": 3
   },
   "file_extension": ".py",
   "mimetype": "text/x-python",
   "name": "python",
   "nbconvert_exporter": "python",
   "pygments_lexer": "ipython3",
   "version": "3.9.2"
  }
 },
 "nbformat": 4,
 "nbformat_minor": 5
}
