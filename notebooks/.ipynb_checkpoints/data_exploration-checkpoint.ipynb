{
 "cells": [
  {
   "cell_type": "code",
   "execution_count": 10,
   "metadata": {},
   "outputs": [],
   "source": [
    "# Necessary imports\n",
    "import pandas as pd"
   ]
  },
  {
   "cell_type": "code",
   "execution_count": 11,
   "metadata": {},
   "outputs": [],
   "source": [
    "# Data paths\n",
    "train_path = '../data/orders_train.txt'\n",
    "test_X_path = '../data/orders_class.txt'\n",
    "test_y_path = '../data/orders_realclass.txt'"
   ]
  },
  {
   "cell_type": "code",
   "execution_count": 12,
   "metadata": {
    "pycharm": {
     "is_executing": true
    }
   },
   "outputs": [],
   "source": [
    "# Load csv data into dataframes\n",
    "train_df = pd.read_csv(train_path, sep=';', index_col=0)\n",
    "train_y = pd.DataFrame({'orderItemID': train_df['returnShipment'].index, 'returnShipment': train_df['returnShipment'].values}).set_index('orderItemID')\n",
    "train_X = train_df.drop('returnShipment', axis=1)\n",
    "test_X = pd.read_csv(test_X_path, sep=';', index_col=0)\n",
    "test_y = pd.read_csv(test_y_path, sep=';', index_col=0)"
   ]
  },
  {
   "cell_type": "code",
   "execution_count": 13,
   "metadata": {
    "pycharm": {
     "is_executing": true
    }
   },
   "outputs": [
    {
     "name": "stdout",
     "output_type": "stream",
     "text": [
      "<class 'pandas.core.frame.DataFrame'>\n",
      "Int64Index: 481092 entries, 1 to 481092\n",
      "Data columns (total 12 columns):\n",
      " #   Column          Non-Null Count   Dtype  \n",
      "---  ------          --------------   -----  \n",
      " 0   orderDate       481092 non-null  object \n",
      " 1   deliveryDate    481092 non-null  object \n",
      " 2   itemID          481092 non-null  int64  \n",
      " 3   size            481092 non-null  object \n",
      " 4   color           481092 non-null  object \n",
      " 5   manufacturerID  481092 non-null  int64  \n",
      " 6   price           481092 non-null  float64\n",
      " 7   customerID      481092 non-null  int64  \n",
      " 8   salutation      481092 non-null  object \n",
      " 9   dateOfBirth     481092 non-null  object \n",
      " 10  state           481092 non-null  object \n",
      " 11  creationDate    481092 non-null  object \n",
      "dtypes: float64(1), int64(3), object(8)\n",
      "memory usage: 47.7+ MB\n"
     ]
    }
   ],
   "source": [
    "# train_X info\n",
    "train_X.info()"
   ]
  },
  {
   "cell_type": "code",
   "execution_count": 14,
   "metadata": {
    "pycharm": {
     "is_executing": true
    }
   },
   "outputs": [
    {
     "name": "stdout",
     "output_type": "stream",
     "text": [
      "<class 'pandas.core.frame.DataFrame'>\n",
      "Int64Index: 481092 entries, 1 to 481092\n",
      "Data columns (total 1 columns):\n",
      " #   Column          Non-Null Count   Dtype\n",
      "---  ------          --------------   -----\n",
      " 0   returnShipment  481092 non-null  int64\n",
      "dtypes: int64(1)\n",
      "memory usage: 7.3 MB\n"
     ]
    }
   ],
   "source": [
    "# train_y info\n",
    "train_y.info()"
   ]
  },
  {
   "cell_type": "code",
   "execution_count": 15,
   "metadata": {
    "pycharm": {
     "is_executing": true
    }
   },
   "outputs": [
    {
     "name": "stdout",
     "output_type": "stream",
     "text": [
      "<class 'pandas.core.frame.DataFrame'>\n",
      "Int64Index: 50078 entries, 1 to 50078\n",
      "Data columns (total 12 columns):\n",
      " #   Column          Non-Null Count  Dtype  \n",
      "---  ------          --------------  -----  \n",
      " 0   orderDate       50078 non-null  object \n",
      " 1   deliveryDate    50078 non-null  object \n",
      " 2   itemID          50078 non-null  int64  \n",
      " 3   size            50078 non-null  object \n",
      " 4   color           50078 non-null  object \n",
      " 5   manufacturerID  50078 non-null  int64  \n",
      " 6   price           50078 non-null  float64\n",
      " 7   customerID      50078 non-null  int64  \n",
      " 8   salutation      50078 non-null  object \n",
      " 9   dateOfBirth     50078 non-null  object \n",
      " 10  state           50078 non-null  object \n",
      " 11  creationDate    50078 non-null  object \n",
      "dtypes: float64(1), int64(3), object(8)\n",
      "memory usage: 5.0+ MB\n"
     ]
    }
   ],
   "source": [
    "# test_X info\n",
    "test_X.info()"
   ]
  },
  {
   "cell_type": "code",
   "execution_count": 16,
   "metadata": {
    "pycharm": {
     "is_executing": true
    }
   },
   "outputs": [
    {
     "name": "stdout",
     "output_type": "stream",
     "text": [
      "<class 'pandas.core.frame.DataFrame'>\n",
      "Int64Index: 50078 entries, 1 to 50078\n",
      "Data columns (total 1 columns):\n",
      " #   Column          Non-Null Count  Dtype\n",
      "---  ------          --------------  -----\n",
      " 0   returnShipment  50078 non-null  int64\n",
      "dtypes: int64(1)\n",
      "memory usage: 782.5 KB\n"
     ]
    }
   ],
   "source": [
    "# test_y info\n",
    "test_y.info()"
   ]
  },
  {
   "cell_type": "code",
   "execution_count": 17,
   "metadata": {
    "pycharm": {
     "is_executing": true
    }
   },
   "outputs": [
    {
     "data": {
      "text/plain": [
       "returnShipment    2\n",
       "dtype: int64"
      ]
     },
     "execution_count": 17,
     "metadata": {},
     "output_type": "execute_result"
    }
   ],
   "source": [
    "# Count of classes\n",
    "train_y.nunique()"
   ]
  },
  {
   "cell_type": "code",
   "execution_count": 18,
   "metadata": {
    "pycharm": {
     "is_executing": true
    }
   },
   "outputs": [
    {
     "data": {
      "text/plain": [
       "0    249001\n",
       "1    232091\n",
       "Name: returnShipment, dtype: int64"
      ]
     },
     "execution_count": 18,
     "metadata": {},
     "output_type": "execute_result"
    }
   ],
   "source": [
    "# Class distribution of the train data\n",
    "train_y.returnShipment.value_counts()"
   ]
  },
  {
   "cell_type": "code",
   "execution_count": null,
   "metadata": {},
   "outputs": [],
   "source": []
  }
 ],
 "metadata": {
  "kernelspec": {
   "display_name": "Python 3 (ipykernel)",
   "language": "python",
   "name": "python3"
  },
  "language_info": {
   "codemirror_mode": {
    "name": "ipython",
    "version": 3
   },
   "file_extension": ".py",
   "mimetype": "text/x-python",
   "name": "python",
   "nbconvert_exporter": "python",
   "pygments_lexer": "ipython3",
   "version": "3.9.2"
  }
 },
 "nbformat": 4,
 "nbformat_minor": 1
}
