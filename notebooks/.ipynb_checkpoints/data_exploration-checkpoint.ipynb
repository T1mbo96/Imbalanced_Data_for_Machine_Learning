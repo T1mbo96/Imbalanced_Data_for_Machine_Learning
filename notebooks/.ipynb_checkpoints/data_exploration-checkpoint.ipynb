{
 "cells": [
  {
   "cell_type": "code",
   "execution_count": 19,
   "metadata": {},
   "outputs": [],
   "source": [
    "# Necessary imports\n",
    "import pandas as pd\n",
    "import numpy as np\n",
    "import matplotlib.pyplot as plt"
   ]
  },
  {
   "cell_type": "code",
   "execution_count": 12,
   "metadata": {},
   "outputs": [],
   "source": [
    "# Data paths\n",
    "train_path = '../data/orders_train.txt'\n",
    "test_X_path = '../data/orders_test_features.txt'\n",
    "test_y_path = '../data/orders_test_realclass.txt'"
   ]
  },
  {
   "cell_type": "code",
   "execution_count": 13,
   "metadata": {},
   "outputs": [],
   "source": [
    "# Load csv data into dataframes\n",
    "train_df = pd.read_csv(train_path, sep=';')\n",
    "train_y = pd.DataFrame({'orderItemID': train_df['returnShipment'].index, 'returnShipment': train_df['returnShipment'].values}).set_index('orderItemID')\n",
    "train_X = train_df.drop('returnShipment', axis=1)\n",
    "test_X = pd.read_csv(test_X_path, sep=';')\n",
    "test_y = pd.read_csv(test_y_path, sep=';')\n",
    "test_y = test_y.drop(columns=['orderItemID'])\n",
    "test_df = pd.concat([test_X, test_y], axis=1)"
   ]
  },
  {
   "cell_type": "code",
   "execution_count": 14,
   "metadata": {},
   "outputs": [],
   "source": [
    "# Replace all '?' values with NaN\n",
    "train_df = train_df.replace('?', np.nan)\n",
    "test_df = test_df.replace('?', np.nan)"
   ]
  },
  {
   "cell_type": "code",
   "execution_count": 15,
   "metadata": {},
   "outputs": [
    {
     "name": "stdout",
     "output_type": "stream",
     "text": [
      "<class 'pandas.core.frame.DataFrame'>\n",
      "RangeIndex: 481092 entries, 0 to 481091\n",
      "Data columns (total 14 columns):\n",
      " #   Column          Non-Null Count   Dtype  \n",
      "---  ------          --------------   -----  \n",
      " 0   orderItemID     481092 non-null  int64  \n",
      " 1   orderDate       481092 non-null  object \n",
      " 2   deliveryDate    441673 non-null  object \n",
      " 3   itemID          481092 non-null  int64  \n",
      " 4   size            481092 non-null  object \n",
      " 5   color           480949 non-null  object \n",
      " 6   manufacturerID  481092 non-null  int64  \n",
      " 7   price           481092 non-null  float64\n",
      " 8   customerID      481092 non-null  int64  \n",
      " 9   salutation      481092 non-null  object \n",
      " 10  dateOfBirth     432203 non-null  object \n",
      " 11  state           481092 non-null  object \n",
      " 12  creationDate    481092 non-null  object \n",
      " 13  returnShipment  481092 non-null  int64  \n",
      "dtypes: float64(1), int64(5), object(8)\n",
      "memory usage: 51.4+ MB\n"
     ]
    }
   ],
   "source": [
    "train_df.info()"
   ]
  },
  {
   "cell_type": "code",
   "execution_count": 16,
   "metadata": {},
   "outputs": [
    {
     "name": "stdout",
     "output_type": "stream",
     "text": [
      "<class 'pandas.core.frame.DataFrame'>\n",
      "RangeIndex: 50078 entries, 0 to 50077\n",
      "Data columns (total 14 columns):\n",
      " #   Column          Non-Null Count  Dtype  \n",
      "---  ------          --------------  -----  \n",
      " 0   orderItemID     50078 non-null  int64  \n",
      " 1   orderDate       50078 non-null  object \n",
      " 2   deliveryDate    45810 non-null  object \n",
      " 3   itemID          50078 non-null  int64  \n",
      " 4   size            50078 non-null  object \n",
      " 5   color           50078 non-null  object \n",
      " 6   manufacturerID  50078 non-null  int64  \n",
      " 7   price           50078 non-null  float64\n",
      " 8   customerID      50078 non-null  int64  \n",
      " 9   salutation      50078 non-null  object \n",
      " 10  dateOfBirth     44909 non-null  object \n",
      " 11  state           50078 non-null  object \n",
      " 12  creationDate    50078 non-null  object \n",
      " 13  returnShipment  50078 non-null  int64  \n",
      "dtypes: float64(1), int64(5), object(8)\n",
      "memory usage: 5.3+ MB\n"
     ]
    }
   ],
   "source": [
    "test_df.info()"
   ]
  },
  {
   "cell_type": "code",
   "execution_count": 17,
   "metadata": {},
   "outputs": [
    {
     "data": {
      "text/plain": [
       "orderItemID       481092\n",
       "orderDate            365\n",
       "deliveryDate         327\n",
       "itemID              3007\n",
       "size                 122\n",
       "color                 87\n",
       "manufacturerID       165\n",
       "price                379\n",
       "customerID         59754\n",
       "salutation             5\n",
       "dateOfBirth        14308\n",
       "state                 16\n",
       "creationDate         775\n",
       "returnShipment         2\n",
       "dtype: int64"
      ]
     },
     "execution_count": 17,
     "metadata": {},
     "output_type": "execute_result"
    }
   ],
   "source": [
    "train_df.nunique()"
   ]
  },
  {
   "cell_type": "code",
   "execution_count": 18,
   "metadata": {},
   "outputs": [
    {
     "data": {
      "text/plain": [
       "orderItemID       50078\n",
       "orderDate            30\n",
       "deliveryDate         72\n",
       "itemID             1283\n",
       "size                100\n",
       "color                66\n",
       "manufacturerID      119\n",
       "price               167\n",
       "customerID        12068\n",
       "salutation            5\n",
       "dateOfBirth        6998\n",
       "state                16\n",
       "creationDate        777\n",
       "returnShipment        2\n",
       "dtype: int64"
      ]
     },
     "execution_count": 18,
     "metadata": {},
     "output_type": "execute_result"
    }
   ],
   "source": [
    "test_df.nunique()"
   ]
  },
  {
   "cell_type": "code",
   "execution_count": 4,
   "metadata": {},
   "outputs": [
    {
     "name": "stdout",
     "output_type": "stream",
     "text": [
      "<class 'pandas.core.frame.DataFrame'>\n",
      "RangeIndex: 481092 entries, 0 to 481091\n",
      "Data columns (total 13 columns):\n",
      " #   Column          Non-Null Count   Dtype  \n",
      "---  ------          --------------   -----  \n",
      " 0   orderItemID     481092 non-null  int64  \n",
      " 1   orderDate       481092 non-null  object \n",
      " 2   deliveryDate    481092 non-null  object \n",
      " 3   itemID          481092 non-null  int64  \n",
      " 4   size            481092 non-null  object \n",
      " 5   color           481092 non-null  object \n",
      " 6   manufacturerID  481092 non-null  int64  \n",
      " 7   price           481092 non-null  float64\n",
      " 8   customerID      481092 non-null  int64  \n",
      " 9   salutation      481092 non-null  object \n",
      " 10  dateOfBirth     481092 non-null  object \n",
      " 11  state           481092 non-null  object \n",
      " 12  creationDate    481092 non-null  object \n",
      "dtypes: float64(1), int64(4), object(8)\n",
      "memory usage: 47.7+ MB\n"
     ]
    }
   ],
   "source": [
    "# train_X info\n",
    "train_X.info()"
   ]
  },
  {
   "cell_type": "code",
   "execution_count": 5,
   "metadata": {},
   "outputs": [
    {
     "name": "stdout",
     "output_type": "stream",
     "text": [
      "<class 'pandas.core.frame.DataFrame'>\n",
      "Int64Index: 481092 entries, 0 to 481091\n",
      "Data columns (total 1 columns):\n",
      " #   Column          Non-Null Count   Dtype\n",
      "---  ------          --------------   -----\n",
      " 0   returnShipment  481092 non-null  int64\n",
      "dtypes: int64(1)\n",
      "memory usage: 7.3 MB\n"
     ]
    }
   ],
   "source": [
    "# train_y info\n",
    "train_y.info()"
   ]
  },
  {
   "cell_type": "code",
   "execution_count": 6,
   "metadata": {},
   "outputs": [
    {
     "name": "stdout",
     "output_type": "stream",
     "text": [
      "<class 'pandas.core.frame.DataFrame'>\n",
      "RangeIndex: 50078 entries, 0 to 50077\n",
      "Data columns (total 13 columns):\n",
      " #   Column          Non-Null Count  Dtype  \n",
      "---  ------          --------------  -----  \n",
      " 0   orderItemID     50078 non-null  int64  \n",
      " 1   orderDate       50078 non-null  object \n",
      " 2   deliveryDate    50078 non-null  object \n",
      " 3   itemID          50078 non-null  int64  \n",
      " 4   size            50078 non-null  object \n",
      " 5   color           50078 non-null  object \n",
      " 6   manufacturerID  50078 non-null  int64  \n",
      " 7   price           50078 non-null  float64\n",
      " 8   customerID      50078 non-null  int64  \n",
      " 9   salutation      50078 non-null  object \n",
      " 10  dateOfBirth     50078 non-null  object \n",
      " 11  state           50078 non-null  object \n",
      " 12  creationDate    50078 non-null  object \n",
      "dtypes: float64(1), int64(4), object(8)\n",
      "memory usage: 5.0+ MB\n"
     ]
    }
   ],
   "source": [
    "# test_X info\n",
    "test_X.info()"
   ]
  },
  {
   "cell_type": "code",
   "execution_count": 7,
   "metadata": {},
   "outputs": [
    {
     "name": "stdout",
     "output_type": "stream",
     "text": [
      "<class 'pandas.core.frame.DataFrame'>\n",
      "RangeIndex: 50078 entries, 0 to 50077\n",
      "Data columns (total 2 columns):\n",
      " #   Column          Non-Null Count  Dtype\n",
      "---  ------          --------------  -----\n",
      " 0   orderItemID     50078 non-null  int64\n",
      " 1   returnShipment  50078 non-null  int64\n",
      "dtypes: int64(2)\n",
      "memory usage: 782.6 KB\n"
     ]
    }
   ],
   "source": [
    "# test_y info\n",
    "test_y.info()"
   ]
  },
  {
   "cell_type": "code",
   "execution_count": 8,
   "metadata": {},
   "outputs": [
    {
     "data": {
      "text/plain": [
       "returnShipment    2\n",
       "dtype: int64"
      ]
     },
     "execution_count": 8,
     "metadata": {},
     "output_type": "execute_result"
    }
   ],
   "source": [
    "# Count of classes\n",
    "train_y.nunique()"
   ]
  },
  {
   "cell_type": "code",
   "execution_count": 9,
   "metadata": {},
   "outputs": [
    {
     "data": {
      "text/plain": [
       "0    249001\n",
       "1    232091\n",
       "Name: returnShipment, dtype: int64"
      ]
     },
     "execution_count": 9,
     "metadata": {},
     "output_type": "execute_result"
    }
   ],
   "source": [
    "# Class distribution of the train data\n",
    "train_y.returnShipment.value_counts()"
   ]
  },
  {
   "cell_type": "code",
   "execution_count": 20,
   "metadata": {},
   "outputs": [
    {
     "data": {
      "text/plain": [
       "0    25049\n",
       "1    25029\n",
       "Name: returnShipment, dtype: int64"
      ]
     },
     "execution_count": 20,
     "metadata": {},
     "output_type": "execute_result"
    }
   ],
   "source": [
    "test_y.returnShipment.value_counts()"
   ]
  }
 ],
 "metadata": {
  "kernelspec": {
   "display_name": "Python 3 (ipykernel)",
   "language": "python",
   "name": "python3"
  },
  "language_info": {
   "codemirror_mode": {
    "name": "ipython",
    "version": 3
   },
   "file_extension": ".py",
   "mimetype": "text/x-python",
   "name": "python",
   "nbconvert_exporter": "python",
   "pygments_lexer": "ipython3",
   "version": "3.9.2"
  }
 },
 "nbformat": 4,
 "nbformat_minor": 1
}
