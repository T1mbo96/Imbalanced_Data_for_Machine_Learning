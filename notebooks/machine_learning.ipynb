{
 "cells": [
  {
   "cell_type": "code",
   "execution_count": 35,
   "metadata": {},
   "outputs": [],
   "source": [
    "# Necessary imports\n",
    "import xgboost as xgb\n",
    "import pandas as pd\n",
    "\n",
    "from sklearn.metrics import accuracy_score\n",
    "from sklearn.model_selection import train_test_split\n",
    "from sklearn.ensemble import RandomForestClassifier\n",
    "\n",
    "from utils.load_dataset import load_dataset\n",
    "from utils.split_x_y import split_x_y\n",
    "from utils.printmd import printmd"
   ]
  },
  {
   "cell_type": "code",
   "execution_count": 2,
   "metadata": {},
   "outputs": [],
   "source": [
    "# Load datasets\n",
    "\n",
    "# 1% class balance\n",
    "train_one_random_under = load_dataset(dataset_type='train', balance=1, technique='ru')\n",
    "train_one_near_miss_under = load_dataset(dataset_type='train', balance=1, technique='nmu')\n",
    "train_one_random_over = load_dataset(dataset_type='train', balance=1, technique='ro')\n",
    "\n",
    "# 3% class balance\n",
    "train_three_random_under = load_dataset(dataset_type='train', balance=3, technique='ru')\n",
    "train_three_near_miss_under = load_dataset(dataset_type='train', balance=3, technique='nmu')\n",
    "train_three_random_over = load_dataset(dataset_type='train', balance=3, technique='ro')\n",
    "\n",
    "# 5% class balance\n",
    "train_five_random_under = load_dataset(dataset_type='train', balance=5, technique='ru')\n",
    "train_five_near_miss_under = load_dataset(dataset_type='train', balance=5, technique='nmu')\n",
    "train_five_random_over = load_dataset(dataset_type='train', balance=5, technique='ro')\n",
    "\n",
    "# 25% class balance\n",
    "train_twenty_five_random_under = load_dataset(dataset_type='train', balance=25, technique='ru')\n",
    "train_twenty_five_near_miss_under = load_dataset(dataset_type='train', balance=25, technique='nmu')\n",
    "train_twenty_five_random_over = load_dataset(dataset_type='train', balance=25, technique='ro')\n",
    "\n",
    "# 50% class balance\n",
    "train_fifty_random_under = load_dataset(dataset_type='train', balance=50, technique='ru')\n",
    "train_fifty_near_miss_under = load_dataset(dataset_type='train', balance=50, technique='nmu')\n",
    "train_fifty_random_over = load_dataset(dataset_type='train', balance=50, technique='ro')\n",
    "\n",
    "# Test\n",
    "test = load_dataset(dataset_type='test')"
   ]
  },
  {
   "cell_type": "code",
   "execution_count": 3,
   "metadata": {},
   "outputs": [],
   "source": [
    "# Split datasets into train and validation\n",
    "\n",
    "# 1% class balance\n",
    "train_one_ru, validation_one_ru = train_test_split(train_one_random_under, test_size=0.2)\n",
    "train_one_nmu, validation_one_nmu = train_test_split(train_one_near_miss_under, test_size=0.2)\n",
    "train_one_ro, validation_one_ro = train_test_split(train_one_random_over, test_size=0.2)\n",
    "\n",
    "# 3% class balance\n",
    "train_three_ru, validation_three_ru = train_test_split(train_three_random_under, test_size=0.2)\n",
    "train_three_nmu, validation_three_nmu = train_test_split(train_three_near_miss_under, test_size=0.2)\n",
    "train_three_ro, validation_three_ro = train_test_split(train_three_random_over, test_size=0.2)\n",
    "\n",
    "# 5% class balance\n",
    "train_five_ru, validation_five_ru = train_test_split(train_five_random_under, test_size=0.2)\n",
    "train_five_nmu, validation_five_nmu = train_test_split(train_five_near_miss_under, test_size=0.2)\n",
    "train_five_ro, validation_five_ro = train_test_split(train_five_random_over, test_size=0.2)\n",
    "\n",
    "# 25% class balance\n",
    "train_twenty_five_ru, validation_twenty_five_ru = train_test_split(train_twenty_five_random_under, test_size=0.2)\n",
    "train_twenty_five_nmu, validation_twenty_five_nmu = train_test_split(train_twenty_five_near_miss_under, test_size=0.2)\n",
    "train_twenty_five_ro, validation_twenty_five_ro = train_test_split(train_twenty_five_random_over, test_size=0.2)\n",
    "\n",
    "# 50% class balance\n",
    "train_fifty_ru, validation_fifty_ru = train_test_split(train_fifty_random_under, test_size=0.2)\n",
    "train_fifty_nmu, validation_fifty_nmu = train_test_split(train_fifty_near_miss_under, test_size=0.2)\n",
    "train_fifty_ro, validation_fifty_ro = train_test_split(train_fifty_random_over, test_size=0.2)"
   ]
  },
  {
   "cell_type": "code",
   "execution_count": 4,
   "metadata": {},
   "outputs": [],
   "source": [
    "# Split datasets into features and target\n",
    "\n",
    "# 1% class balance\n",
    "train_one_ru_X, train_one_ru_y = split_x_y(df=train_one_ru, target='returnShipment')\n",
    "validation_one_ru_X, validation_one_ru_y = split_x_y(df=validation_one_ru, target='returnShipment')\n",
    "\n",
    "train_one_nmu_X, train_one_nmu_y = split_x_y(df=train_one_nmu, target='returnShipment')\n",
    "validation_one_nmu_X, validation_one_nmu_y = split_x_y(df=validation_one_nmu, target='returnShipment')\n",
    "\n",
    "train_one_ro_X, train_one_ro_y = split_x_y(df=train_one_ro, target='returnShipment')\n",
    "validation_one_ro_X, validation_one_ro_y = split_x_y(df=validation_one_ro, target='returnShipment')\n",
    "\n",
    "# 3% class balance\n",
    "train_three_ru_X, train_three_ru_y = split_x_y(df=train_three_ru, target='returnShipment')\n",
    "validation_three_ru_X, validation_three_ru_y = split_x_y(df=validation_three_ru, target='returnShipment')\n",
    "\n",
    "train_three_nmu_X, train_three_nmu_y = split_x_y(df=train_three_nmu, target='returnShipment')\n",
    "validation_three_nmu_X, validation_three_nmu_y = split_x_y(df=validation_three_nmu, target='returnShipment')\n",
    "\n",
    "train_three_ro_X, train_three_ro_y = split_x_y(df=train_three_ro, target='returnShipment')\n",
    "validation_three_ro_X, validation_three_ro_y = split_x_y(df=validation_three_ro, target='returnShipment')\n",
    "\n",
    "# 5% class balance\n",
    "train_five_ru_X, train_five_ru_y = split_x_y(df=train_five_ru, target='returnShipment')\n",
    "validation_five_ru_X, validation_five_ru_y = split_x_y(df=validation_five_ru, target='returnShipment')\n",
    "\n",
    "train_five_nmu_X, train_five_nmu_y = split_x_y(df=train_five_nmu, target='returnShipment')\n",
    "validation_five_nmu_X, validation_five_nmu_y = split_x_y(df=validation_five_nmu, target='returnShipment')\n",
    "\n",
    "train_five_ro_X, train_five_ro_y = split_x_y(df=train_five_ro, target='returnShipment')\n",
    "validation_five_ro_X, validation_five_ro_y = split_x_y(df=validation_five_ro, target='returnShipment')\n",
    "\n",
    "# 25% class balance\n",
    "train_twenty_five_ru_X, train_twenty_five_ru_y = split_x_y(df=train_twenty_five_ru, target='returnShipment')\n",
    "validation_twenty_five_ru_X, validation_twenty_five_ru_y = split_x_y(df=validation_twenty_five_ru, target='returnShipment')\n",
    "\n",
    "train_twenty_five_nmu_X, train_twenty_five_nmu_y = split_x_y(df=train_twenty_five_nmu, target='returnShipment')\n",
    "validation_twenty_five_nmu_X, validation_twenty_five_nmu_y = split_x_y(df=validation_five_nmu, target='returnShipment')\n",
    "\n",
    "train_twenty_five_ro_X, train_twenty_five_ro_y = split_x_y(df=train_twenty_five_ro, target='returnShipment')\n",
    "validation_twenty_five_ro_X, validation_twenty_five_ro_y = split_x_y(df=validation_twenty_five_ro, target='returnShipment')\n",
    "\n",
    "# 50% class balance\n",
    "train_fifty_ru_X, train_fifty_ru_y = split_x_y(df=train_fifty_ru, target='returnShipment')\n",
    "validation_fifty_ru_X, validation_fifty_ru_y = split_x_y(df=validation_fifty_ru, target='returnShipment')\n",
    "\n",
    "train_fifty_nmu_X, train_fifty_nmu_y = split_x_y(df=train_fifty_nmu, target='returnShipment')\n",
    "validation_fifty_nmu_X, validation_fifty_nmu_y = split_x_y(df=validation_fifty_nmu, target='returnShipment')\n",
    "\n",
    "train_fifty_ro_X, train_fifty_ro_y = split_x_y(df=train_fifty_ro, target='returnShipment')\n",
    "validation_fifty_ro_X, validation_fifty_ro_y = split_x_y(df=validation_fifty_ro, target='returnShipment')\n",
    "\n",
    "# Test\n",
    "test_X, test_y = split_x_y(df=test, target='returnShipment')"
   ]
  },
  {
   "cell_type": "code",
   "execution_count": 5,
   "metadata": {},
   "outputs": [],
   "source": [
    "# XGBoost classification"
   ]
  },
  {
   "cell_type": "code",
   "execution_count": 16,
   "metadata": {},
   "outputs": [
    {
     "data": {
      "text/markdown": [
       "**1% class balance random under**"
      ],
      "text/plain": [
       "<IPython.core.display.Markdown object>"
      ]
     },
     "metadata": {},
     "output_type": "display_data"
    },
    {
     "name": "stdout",
     "output_type": "stream",
     "text": [
      "Accuracy validation: 0.62\n",
      "Accuracy test: 0.6\n"
     ]
    }
   ],
   "source": [
    "xgb_cl_one_ru = xgb.XGBClassifier(eval_metric='error', use_label_encoder=False)\n",
    "xgb_cl_one_ru.fit(train_one_ru_X, train_one_ru_y)\n",
    "printmd('**1% class balance random under**')\n",
    "preds_validation = xgb_cl_one_ru.predict(validation_one_ru_X)\n",
    "print(f'Accuracy validation: {round(accuracy_score(validation_one_ru_y, preds_validation), 2)}')\n",
    "preds_test = xgb_cl_one_ru.predict(test_X)\n",
    "print(f'Accuracy test: {round(accuracy_score(test_y, preds_test), 2)}')"
   ]
  },
  {
   "cell_type": "code",
   "execution_count": 18,
   "metadata": {},
   "outputs": [
    {
     "data": {
      "text/markdown": [
       "**1% class balance near miss under**"
      ],
      "text/plain": [
       "<IPython.core.display.Markdown object>"
      ]
     },
     "metadata": {},
     "output_type": "display_data"
    },
    {
     "name": "stdout",
     "output_type": "stream",
     "text": [
      "Accuracy validation: 0.86\n",
      "Accuracy test: 0.51\n"
     ]
    }
   ],
   "source": [
    "xgb_cl_one_nmu = xgb.XGBClassifier(eval_metric='error', use_label_encoder=False)\n",
    "xgb_cl_one_nmu.fit(train_one_nmu_X, train_one_nmu_y)\n",
    "printmd('**1% class balance near miss under**')\n",
    "preds_validation = xgb_cl_one_nmu.predict(validation_one_nmu_X)\n",
    "print(f'Accuracy validation: {round(accuracy_score(validation_one_nmu_y, preds_validation), 2)}')\n",
    "preds_test = xgb_cl_one_nmu.predict(test_X)\n",
    "print(f'Accuracy test: {round(accuracy_score(test_y, preds_test), 2)}')"
   ]
  },
  {
   "cell_type": "code",
   "execution_count": 19,
   "metadata": {},
   "outputs": [
    {
     "data": {
      "text/markdown": [
       "**1% class balance random over**"
      ],
      "text/plain": [
       "<IPython.core.display.Markdown object>"
      ]
     },
     "metadata": {},
     "output_type": "display_data"
    },
    {
     "name": "stdout",
     "output_type": "stream",
     "text": [
      "Accuracy validation: 0.88\n",
      "Accuracy test: 0.54\n"
     ]
    }
   ],
   "source": [
    "xgb_cl_one_ro = xgb.XGBClassifier(eval_metric='error', use_label_encoder=False)\n",
    "xgb_cl_one_ro.fit(train_one_ro_X, train_one_ro_y)\n",
    "printmd('**1% class balance random over**')\n",
    "preds_validation = xgb_cl_one_ro.predict(validation_one_ro_X)\n",
    "print(f'Accuracy validation: {round(accuracy_score(validation_one_ro_y, preds_validation), 2)}')\n",
    "preds_test = xgb_cl_one_ro.predict(test_X)\n",
    "print(f'Accuracy test: {round(accuracy_score(test_y, preds_test), 2)}')"
   ]
  },
  {
   "cell_type": "code",
   "execution_count": 20,
   "metadata": {},
   "outputs": [
    {
     "data": {
      "text/markdown": [
       "**3% class balance random under**"
      ],
      "text/plain": [
       "<IPython.core.display.Markdown object>"
      ]
     },
     "metadata": {},
     "output_type": "display_data"
    },
    {
     "name": "stdout",
     "output_type": "stream",
     "text": [
      "Accuracy validation: 0.62\n",
      "Accuracy test: 0.62\n"
     ]
    }
   ],
   "source": [
    "xgb_cl_three_ru = xgb.XGBClassifier(eval_metric='error', use_label_encoder=False)\n",
    "xgb_cl_three_ru.fit(train_three_ru_X, train_three_ru_y)\n",
    "printmd('**3% class balance random under**')\n",
    "preds_validation = xgb_cl_three_ru.predict(validation_three_ru_X)\n",
    "print(f'Accuracy validation: {round(accuracy_score(validation_three_ru_y, preds_validation), 2)}')\n",
    "preds_test = xgb_cl_three_ru.predict(test_X)\n",
    "print(f'Accuracy test: {round(accuracy_score(test_y, preds_test), 2)}')"
   ]
  },
  {
   "cell_type": "code",
   "execution_count": 21,
   "metadata": {},
   "outputs": [
    {
     "data": {
      "text/markdown": [
       "**3% class balance near miss under**"
      ],
      "text/plain": [
       "<IPython.core.display.Markdown object>"
      ]
     },
     "metadata": {},
     "output_type": "display_data"
    },
    {
     "name": "stdout",
     "output_type": "stream",
     "text": [
      "Accuracy validation: 0.82\n",
      "Accuracy test: 0.53\n"
     ]
    }
   ],
   "source": [
    "xgb_cl_three_nmu = xgb.XGBClassifier(eval_metric='error', use_label_encoder=False)\n",
    "xgb_cl_three_nmu.fit(train_three_nmu_X, train_three_nmu_y)\n",
    "printmd('**3% class balance near miss under**')\n",
    "preds_validation = xgb_cl_three_nmu.predict(validation_three_nmu_X)\n",
    "print(f'Accuracy validation: {round(accuracy_score(validation_three_nmu_y, preds_validation), 2)}')\n",
    "preds_test = xgb_cl_three_nmu.predict(test_X)\n",
    "print(f'Accuracy test: {round(accuracy_score(test_y, preds_test), 2)}')"
   ]
  },
  {
   "cell_type": "code",
   "execution_count": 22,
   "metadata": {},
   "outputs": [
    {
     "data": {
      "text/markdown": [
       "**3% class balance random over**"
      ],
      "text/plain": [
       "<IPython.core.display.Markdown object>"
      ]
     },
     "metadata": {},
     "output_type": "display_data"
    },
    {
     "name": "stdout",
     "output_type": "stream",
     "text": [
      "Accuracy validation: 0.78\n",
      "Accuracy test: 0.57\n"
     ]
    }
   ],
   "source": [
    "xgb_cl_three_ro = xgb.XGBClassifier(eval_metric='error', use_label_encoder=False)\n",
    "xgb_cl_three_ro.fit(train_three_ro_X, train_three_ro_y)\n",
    "printmd('**3% class balance random over**')\n",
    "preds_validation = xgb_cl_three_ro.predict(validation_three_ro_X)\n",
    "print(f'Accuracy validation: {round(accuracy_score(validation_three_ro_y, preds_validation), 2)}')\n",
    "preds_test = xgb_cl_three_ro.predict(test_X)\n",
    "print(f'Accuracy test: {round(accuracy_score(test_y, preds_test), 2)}')"
   ]
  },
  {
   "cell_type": "code",
   "execution_count": 23,
   "metadata": {},
   "outputs": [
    {
     "data": {
      "text/markdown": [
       "**5% class balance random under**"
      ],
      "text/plain": [
       "<IPython.core.display.Markdown object>"
      ]
     },
     "metadata": {},
     "output_type": "display_data"
    },
    {
     "name": "stdout",
     "output_type": "stream",
     "text": [
      "Accuracy validation: 0.63\n",
      "Accuracy test: 0.63\n"
     ]
    }
   ],
   "source": [
    "xgb_cl_five_ru = xgb.XGBClassifier(eval_metric='error', use_label_encoder=False)\n",
    "xgb_cl_five_ru.fit(train_five_ru_X, train_five_ru_y)\n",
    "printmd('**5% class balance random under**')\n",
    "preds_validation = xgb_cl_five_ru.predict(validation_five_ru_X)\n",
    "print(f'Accuracy validation: {round(accuracy_score(validation_five_ru_y, preds_validation), 2)}')\n",
    "preds_test = xgb_cl_five_ru.predict(test_X)\n",
    "print(f'Accuracy test: {round(accuracy_score(test_y, preds_test), 2)}')"
   ]
  },
  {
   "cell_type": "code",
   "execution_count": 24,
   "metadata": {},
   "outputs": [
    {
     "data": {
      "text/markdown": [
       "**5% class balance near miss under**"
      ],
      "text/plain": [
       "<IPython.core.display.Markdown object>"
      ]
     },
     "metadata": {},
     "output_type": "display_data"
    },
    {
     "name": "stdout",
     "output_type": "stream",
     "text": [
      "Accuracy validation: 0.81\n",
      "Accuracy test: 0.53\n"
     ]
    }
   ],
   "source": [
    "xgb_cl_five_nmu = xgb.XGBClassifier(eval_metric='error', use_label_encoder=False)\n",
    "xgb_cl_five_nmu.fit(train_five_nmu_X, train_five_nmu_y)\n",
    "printmd('**5% class balance near miss under**')\n",
    "preds_validation = xgb_cl_five_nmu.predict(validation_five_nmu_X)\n",
    "print(f'Accuracy validation: {round(accuracy_score(validation_five_nmu_y, preds_validation), 2)}')\n",
    "preds_test = xgb_cl_five_nmu.predict(test_X)\n",
    "print(f'Accuracy test: {round(accuracy_score(test_y, preds_test), 2)}')"
   ]
  },
  {
   "cell_type": "code",
   "execution_count": 26,
   "metadata": {},
   "outputs": [
    {
     "data": {
      "text/markdown": [
       "**5% class balance random over**"
      ],
      "text/plain": [
       "<IPython.core.display.Markdown object>"
      ]
     },
     "metadata": {},
     "output_type": "display_data"
    },
    {
     "name": "stdout",
     "output_type": "stream",
     "text": [
      "Accuracy validation: 0.74\n",
      "Accuracy test: 0.6\n"
     ]
    }
   ],
   "source": [
    "xgb_cl_five_ro = xgb.XGBClassifier(eval_metric='error', use_label_encoder=False)\n",
    "xgb_cl_five_ro.fit(train_five_ro_X, train_five_ro_y)\n",
    "printmd('**5% class balance random over**')\n",
    "preds_validation = xgb_cl_five_ro.predict(validation_five_ro_X)\n",
    "print(f'Accuracy validation: {round(accuracy_score(validation_five_ro_y, preds_validation), 2)}')\n",
    "preds_test = xgb_cl_five_ro.predict(test_X)\n",
    "print(f'Accuracy test: {round(accuracy_score(test_y, preds_test), 2)}')"
   ]
  },
  {
   "cell_type": "code",
   "execution_count": 28,
   "metadata": {},
   "outputs": [
    {
     "data": {
      "text/markdown": [
       "**25% class balance random under**"
      ],
      "text/plain": [
       "<IPython.core.display.Markdown object>"
      ]
     },
     "metadata": {},
     "output_type": "display_data"
    },
    {
     "name": "stdout",
     "output_type": "stream",
     "text": [
      "Accuracy validation: 0.65\n",
      "Accuracy test: 0.64\n"
     ]
    }
   ],
   "source": [
    "xgb_cl_twenty_five_ru = xgb.XGBClassifier(eval_metric='error', use_label_encoder=False)\n",
    "xgb_cl_twenty_five_ru.fit(train_twenty_five_ru_X, train_twenty_five_ru_y)\n",
    "printmd('**25% class balance random under**')\n",
    "preds_validation = xgb_cl_twenty_five_ru.predict(validation_twenty_five_ru_X)\n",
    "print(f'Accuracy validation: {round(accuracy_score(validation_twenty_five_ru_y, preds_validation), 2)}')\n",
    "preds_test = xgb_cl_twenty_five_ru.predict(test_X)\n",
    "print(f'Accuracy test: {round(accuracy_score(test_y, preds_test), 2)}')"
   ]
  },
  {
   "cell_type": "code",
   "execution_count": 48,
   "metadata": {},
   "outputs": [
    {
     "data": {
      "text/markdown": [
       "**25% class balance near miss under**"
      ],
      "text/plain": [
       "<IPython.core.display.Markdown object>"
      ]
     },
     "metadata": {},
     "output_type": "display_data"
    },
    {
     "name": "stdout",
     "output_type": "stream",
     "text": [
      "Accuracy validation: 0.8\n",
      "Accuracy test: 0.58\n"
     ]
    }
   ],
   "source": [
    "xgb_cl_twenty_five_nmu = xgb.XGBClassifier(eval_metric='error', use_label_encoder=False)\n",
    "xgb_cl_twenty_five_nmu.fit(train_twenty_five_nmu_X, train_twenty_five_nmu_y)\n",
    "printmd('**25% class balance near miss under**')\n",
    "preds_validation = xgb_cl_twenty_five_nmu.predict(validation_twenty_five_nmu_X)\n",
    "print(f'Accuracy validation: {round(accuracy_score(validation_twenty_five_nmu_y, preds_validation), 2)}')\n",
    "preds_test = xgb_cl_twenty_five_nmu.predict(test_X)\n",
    "print(f'Accuracy test: {round(accuracy_score(test_y, preds_test), 2)}')"
   ]
  },
  {
   "cell_type": "code",
   "execution_count": 31,
   "metadata": {},
   "outputs": [
    {
     "data": {
      "text/markdown": [
       "**25% class balance random over**"
      ],
      "text/plain": [
       "<IPython.core.display.Markdown object>"
      ]
     },
     "metadata": {},
     "output_type": "display_data"
    },
    {
     "name": "stdout",
     "output_type": "stream",
     "text": [
      "Accuracy validation: 0.67\n",
      "Accuracy test: 0.64\n"
     ]
    }
   ],
   "source": [
    "xgb_cl_twenty_five_ro = xgb.XGBClassifier(eval_metric='error', use_label_encoder=False)\n",
    "xgb_cl_twenty_five_ro.fit(train_twenty_five_ro_X, train_twenty_five_ro_y)\n",
    "printmd('**25% class balance random over**')\n",
    "preds_validation = xgb_cl_twenty_five_ro.predict(validation_twenty_five_ro_X)\n",
    "print(f'Accuracy validation: {round(accuracy_score(validation_twenty_five_ro_y, preds_validation), 2)}')\n",
    "preds_test = xgb_cl_twenty_five_ro.predict(test_X)\n",
    "print(f'Accuracy test: {round(accuracy_score(test_y, preds_test), 2)}')"
   ]
  },
  {
   "cell_type": "code",
   "execution_count": 32,
   "metadata": {},
   "outputs": [
    {
     "data": {
      "text/markdown": [
       "**50% class balance random under**"
      ],
      "text/plain": [
       "<IPython.core.display.Markdown object>"
      ]
     },
     "metadata": {},
     "output_type": "display_data"
    },
    {
     "name": "stdout",
     "output_type": "stream",
     "text": [
      "Accuracy validation: 0.65\n",
      "Accuracy test: 0.65\n"
     ]
    }
   ],
   "source": [
    "xgb_cl_fifty_ru = xgb.XGBClassifier(eval_metric='error', use_label_encoder=False)\n",
    "xgb_cl_fifty_ru.fit(train_fifty_ru_X, train_fifty_ru_y)\n",
    "printmd('**50% class balance random under**')\n",
    "preds_validation = xgb_cl_fifty_ru.predict(validation_fifty_ru_X)\n",
    "print(f'Accuracy validation: {round(accuracy_score(validation_fifty_ru_y, preds_validation), 2)}')\n",
    "preds_test = xgb_cl_fifty_ru.predict(test_X)\n",
    "print(f'Accuracy test: {round(accuracy_score(test_y, preds_test), 2)}')"
   ]
  },
  {
   "cell_type": "code",
   "execution_count": 33,
   "metadata": {},
   "outputs": [
    {
     "data": {
      "text/markdown": [
       "**50% class balance near miss under**"
      ],
      "text/plain": [
       "<IPython.core.display.Markdown object>"
      ]
     },
     "metadata": {},
     "output_type": "display_data"
    },
    {
     "name": "stdout",
     "output_type": "stream",
     "text": [
      "Accuracy validation: 0.65\n",
      "Accuracy test: 0.64\n"
     ]
    }
   ],
   "source": [
    "xgb_cl_fifty_nmu = xgb.XGBClassifier(eval_metric='error', use_label_encoder=False)\n",
    "xgb_cl_fifty_nmu.fit(train_fifty_nmu_X, train_fifty_nmu_y)\n",
    "printmd('**50% class balance near miss under**')\n",
    "preds_validation = xgb_cl_fifty_nmu.predict(validation_fifty_nmu_X)\n",
    "print(f'Accuracy validation: {round(accuracy_score(validation_fifty_nmu_y, preds_validation), 2)}')\n",
    "preds_test = xgb_cl_fifty_nmu.predict(test_X)\n",
    "print(f'Accuracy test: {round(accuracy_score(test_y, preds_test), 2)}')"
   ]
  },
  {
   "cell_type": "code",
   "execution_count": 34,
   "metadata": {},
   "outputs": [
    {
     "data": {
      "text/markdown": [
       "**50% class balance random over**"
      ],
      "text/plain": [
       "<IPython.core.display.Markdown object>"
      ]
     },
     "metadata": {},
     "output_type": "display_data"
    },
    {
     "name": "stdout",
     "output_type": "stream",
     "text": [
      "Accuracy validation: 0.65\n",
      "Accuracy test: 0.64\n"
     ]
    }
   ],
   "source": [
    "xgb_cl_fifty_ro = xgb.XGBClassifier(eval_metric='error', use_label_encoder=False)\n",
    "xgb_cl_fifty_ro.fit(train_fifty_ro_X, train_fifty_ro_y)\n",
    "printmd('**50% class balance random over**')\n",
    "preds_validation = xgb_cl_fifty_ro.predict(validation_fifty_ro_X)\n",
    "print(f'Accuracy validation: {round(accuracy_score(validation_fifty_ro_y, preds_validation), 2)}')\n",
    "preds_test = xgb_cl_fifty_ro.predict(test_X)\n",
    "print(f'Accuracy test: {round(accuracy_score(test_y, preds_test), 2)}')"
   ]
  },
  {
   "cell_type": "code",
   "execution_count": null,
   "metadata": {},
   "outputs": [],
   "source": [
    "# Random forest classification"
   ]
  },
  {
   "cell_type": "code",
   "execution_count": 51,
   "metadata": {},
   "outputs": [
    {
     "data": {
      "text/markdown": [
       "**1% class balance random under**"
      ],
      "text/plain": [
       "<IPython.core.display.Markdown object>"
      ]
     },
     "metadata": {},
     "output_type": "display_data"
    },
    {
     "name": "stdout",
     "output_type": "stream",
     "text": [
      "Accuracy validation: 0.62\n",
      "Accuracy test: 0.62\n"
     ]
    }
   ],
   "source": [
    "rf_cl_one_ru = RandomForestClassifier()\n",
    "rf_cl_one_ru.fit(train_one_ru_X, train_one_ru_y.to_numpy().flatten())\n",
    "printmd('**1% class balance random under**')\n",
    "preds_validation = rf_cl_one_ru.predict(validation_one_ru_X)\n",
    "print(f'Accuracy validation: {round(accuracy_score(validation_one_ru_y, preds_validation), 2)}')\n",
    "preds_test = rf_cl_one_ru.predict(test_X)\n",
    "print(f'Accuracy test: {round(accuracy_score(test_y, preds_test), 2)}')"
   ]
  },
  {
   "cell_type": "code",
   "execution_count": 49,
   "metadata": {},
   "outputs": [
    {
     "data": {
      "text/markdown": [
       "**1% class balance near miss under**"
      ],
      "text/plain": [
       "<IPython.core.display.Markdown object>"
      ]
     },
     "metadata": {},
     "output_type": "display_data"
    },
    {
     "name": "stdout",
     "output_type": "stream",
     "text": [
      "Accuracy validation: 0.86\n",
      "Accuracy test: 0.5\n"
     ]
    }
   ],
   "source": [
    "rf_cl_one_nmu = RandomForestClassifier()\n",
    "rf_cl_one_nmu.fit(train_one_nmu_X, train_one_nmu_y.to_numpy().flatten())\n",
    "printmd('**1% class balance near miss under**')\n",
    "preds_validation = rf_cl_one_nmu.predict(validation_one_nmu_X)\n",
    "print(f'Accuracy validation: {round(accuracy_score(validation_one_nmu_y, preds_validation), 2)}')\n",
    "preds_test = rf_cl_one_nmu.predict(test_X)\n",
    "print(f'Accuracy test: {round(accuracy_score(test_y, preds_test), 2)}')"
   ]
  },
  {
   "cell_type": "code",
   "execution_count": 50,
   "metadata": {},
   "outputs": [
    {
     "data": {
      "text/markdown": [
       "**1% class balance random over**"
      ],
      "text/plain": [
       "<IPython.core.display.Markdown object>"
      ]
     },
     "metadata": {},
     "output_type": "display_data"
    },
    {
     "name": "stdout",
     "output_type": "stream",
     "text": [
      "Accuracy validation: 1.0\n",
      "Accuracy test: 0.5\n"
     ]
    }
   ],
   "source": [
    "rf_cl_one_ro = RandomForestClassifier()\n",
    "rf_cl_one_ro.fit(train_one_ro_X, train_one_ro_y.to_numpy().flatten())\n",
    "printmd('**1% class balance random over**')\n",
    "preds_validation = rf_cl_one_ro.predict(validation_one_ro_X)\n",
    "print(f'Accuracy validation: {round(accuracy_score(validation_one_ro_y, preds_validation), 2)}')\n",
    "preds_test = rf_cl_one_ro.predict(test_X)\n",
    "print(f'Accuracy test: {round(accuracy_score(test_y, preds_test), 2)}')"
   ]
  },
  {
   "cell_type": "code",
   "execution_count": 52,
   "metadata": {},
   "outputs": [
    {
     "data": {
      "text/markdown": [
       "**3% class balance random under**"
      ],
      "text/plain": [
       "<IPython.core.display.Markdown object>"
      ]
     },
     "metadata": {},
     "output_type": "display_data"
    },
    {
     "name": "stdout",
     "output_type": "stream",
     "text": [
      "Accuracy validation: 0.63\n",
      "Accuracy test: 0.63\n"
     ]
    }
   ],
   "source": [
    "rf_cl_three_ru = RandomForestClassifier()\n",
    "rf_cl_three_ru.fit(train_three_ru_X, train_three_ru_y.to_numpy().flatten())\n",
    "printmd('**3% class balance random under**')\n",
    "preds_validation = rf_cl_three_ru.predict(validation_three_ru_X)\n",
    "print(f'Accuracy validation: {round(accuracy_score(validation_three_ru_y, preds_validation), 2)}')\n",
    "preds_test = rf_cl_three_ru.predict(test_X)\n",
    "print(f'Accuracy test: {round(accuracy_score(test_y, preds_test), 2)}')"
   ]
  },
  {
   "cell_type": "code",
   "execution_count": 53,
   "metadata": {},
   "outputs": [
    {
     "data": {
      "text/markdown": [
       "**3% class balance near miss under**"
      ],
      "text/plain": [
       "<IPython.core.display.Markdown object>"
      ]
     },
     "metadata": {},
     "output_type": "display_data"
    },
    {
     "name": "stdout",
     "output_type": "stream",
     "text": [
      "Accuracy validation: 0.81\n",
      "Accuracy test: 0.51\n"
     ]
    }
   ],
   "source": [
    "rf_cl_three_nmu = RandomForestClassifier()\n",
    "rf_cl_three_nmu.fit(train_three_nmu_X, train_three_nmu_y.to_numpy().flatten())\n",
    "printmd('**3% class balance near miss under**')\n",
    "preds_validation = rf_cl_three_nmu.predict(validation_three_nmu_X)\n",
    "print(f'Accuracy validation: {round(accuracy_score(validation_three_nmu_y, preds_validation), 2)}')\n",
    "preds_test = rf_cl_three_nmu.predict(test_X)\n",
    "print(f'Accuracy test: {round(accuracy_score(test_y, preds_test), 2)}')"
   ]
  },
  {
   "cell_type": "code",
   "execution_count": 54,
   "metadata": {},
   "outputs": [
    {
     "data": {
      "text/markdown": [
       "**3% class balance random over**"
      ],
      "text/plain": [
       "<IPython.core.display.Markdown object>"
      ]
     },
     "metadata": {},
     "output_type": "display_data"
    },
    {
     "name": "stdout",
     "output_type": "stream",
     "text": [
      "Accuracy validation: 1.0\n",
      "Accuracy test: 0.5\n"
     ]
    }
   ],
   "source": [
    "rf_cl_three_ro = RandomForestClassifier()\n",
    "rf_cl_three_ro.fit(train_three_ro_X, train_three_ro_y.to_numpy().flatten())\n",
    "printmd('**3% class balance random over**')\n",
    "preds_validation = rf_cl_three_ro.predict(validation_three_ro_X)\n",
    "print(f'Accuracy validation: {round(accuracy_score(validation_three_ro_y, preds_validation), 2)}')\n",
    "preds_test = rf_cl_three_ro.predict(test_X)\n",
    "print(f'Accuracy test: {round(accuracy_score(test_y, preds_test), 2)}')"
   ]
  },
  {
   "cell_type": "code",
   "execution_count": 56,
   "metadata": {},
   "outputs": [
    {
     "data": {
      "text/markdown": [
       "**5% class balance random under**"
      ],
      "text/plain": [
       "<IPython.core.display.Markdown object>"
      ]
     },
     "metadata": {},
     "output_type": "display_data"
    },
    {
     "name": "stdout",
     "output_type": "stream",
     "text": [
      "Accuracy validation: 0.62\n",
      "Accurcay test: 0.62\n"
     ]
    }
   ],
   "source": [
    "rf_cl_five_ru = RandomForestClassifier()\n",
    "rf_cl_five_ru.fit(train_five_ru_X, train_five_ru_y.to_numpy().flatten())\n",
    "printmd('**5% class balance random under**')\n",
    "preds_validation = rf_cl_five_ru.predict(validation_five_ru_X)\n",
    "print(f'Accuracy validation: {round(accuracy_score(validation_five_ru_y, preds_validation), 2)}')\n",
    "preds_test = rf_cl_five_ru.predict(test_X)\n",
    "print(f'Accurcay test: {round(accuracy_score(test_y, preds_test), 2)}')"
   ]
  },
  {
   "cell_type": "code",
   "execution_count": 57,
   "metadata": {},
   "outputs": [
    {
     "data": {
      "text/markdown": [
       "**5% class balance near miss under**"
      ],
      "text/plain": [
       "<IPython.core.display.Markdown object>"
      ]
     },
     "metadata": {},
     "output_type": "display_data"
    },
    {
     "name": "stdout",
     "output_type": "stream",
     "text": [
      "Accuracy validation: 0.8\n",
      "Accuracy test: 0.51\n"
     ]
    }
   ],
   "source": [
    "rf_cl_five_nmu = RandomForestClassifier()\n",
    "rf_cl_five_nmu.fit(train_five_nmu_X, train_five_nmu_y.to_numpy().flatten())\n",
    "printmd('**5% class balance near miss under**')\n",
    "preds_validation = rf_cl_five_nmu.predict(validation_five_nmu_X)\n",
    "print(f'Accuracy validation: {round(accuracy_score(validation_five_nmu_y, preds_validation), 2)}')\n",
    "preds_test = rf_cl_five_nmu.predict(test_X)\n",
    "print(f'Accuracy test: {round(accuracy_score(test_y, preds_test), 2)}')"
   ]
  },
  {
   "cell_type": "code",
   "execution_count": 58,
   "metadata": {},
   "outputs": [
    {
     "data": {
      "text/markdown": [
       "**5% class balance random over**"
      ],
      "text/plain": [
       "<IPython.core.display.Markdown object>"
      ]
     },
     "metadata": {},
     "output_type": "display_data"
    },
    {
     "name": "stdout",
     "output_type": "stream",
     "text": [
      "Accuracy validation: 1.0\n",
      "Accuracy test: 0.5\n"
     ]
    }
   ],
   "source": [
    "rf_cl_five_ro = RandomForestClassifier()\n",
    "rf_cl_five_ro.fit(train_five_ro_X, train_five_ro_y.to_numpy().flatten())\n",
    "printmd('**5% class balance random over**')\n",
    "preds_validation = rf_cl_five_ro.predict(validation_five_ro_X)\n",
    "print(f'Accuracy validation: {round(accuracy_score(validation_five_ro_y, preds_validation), 2)}')\n",
    "preds_test = rf_cl_five_ro.predict(test_X)\n",
    "print(f'Accuracy test: {round(accuracy_score(test_y, preds_test), 2)}')"
   ]
  },
  {
   "cell_type": "code",
   "execution_count": 59,
   "metadata": {},
   "outputs": [
    {
     "data": {
      "text/markdown": [
       "**25% class balance random under**"
      ],
      "text/plain": [
       "<IPython.core.display.Markdown object>"
      ]
     },
     "metadata": {},
     "output_type": "display_data"
    },
    {
     "name": "stdout",
     "output_type": "stream",
     "text": [
      "Accuracy validation: 0.65\n",
      "Accuracy test: 0.63\n"
     ]
    }
   ],
   "source": [
    "rf_cl_twenty_five_ru = RandomForestClassifier()\n",
    "rf_cl_twenty_five_ru.fit(train_twenty_five_ru_X, train_twenty_five_ru_y.to_numpy().flatten())\n",
    "printmd('**25% class balance random under**')\n",
    "preds_validation = rf_cl_twenty_five_ru.predict(validation_twenty_five_ru_X)\n",
    "print(f'Accuracy validation: {round(accuracy_score(validation_twenty_five_ru_y, preds_validation), 2)}')\n",
    "preds_test = rf_cl_twenty_five_ru.predict(test_X)\n",
    "print(f'Accuracy test: {round(accuracy_score(test_y, preds_test), 2)}')"
   ]
  },
  {
   "cell_type": "code",
   "execution_count": 61,
   "metadata": {},
   "outputs": [
    {
     "data": {
      "text/markdown": [
       "**25% class balance near miss under**"
      ],
      "text/plain": [
       "<IPython.core.display.Markdown object>"
      ]
     },
     "metadata": {},
     "output_type": "display_data"
    },
    {
     "name": "stdout",
     "output_type": "stream",
     "text": [
      "Accuracy validation: 0.86\n",
      "Accuracy test: 0.59\n"
     ]
    }
   ],
   "source": [
    "rf_cl_twenty_five_nmu = RandomForestClassifier()\n",
    "rf_cl_twenty_five_nmu.fit(train_twenty_five_nmu_X, train_twenty_five_nmu_y.to_numpy().flatten())\n",
    "printmd('**25% class balance near miss under**')\n",
    "preds_validation = rf_cl_twenty_five_nmu.predict(validation_twenty_five_nmu_X)\n",
    "print(f'Accuracy validation: {round(accuracy_score(validation_twenty_five_nmu_y, preds_validation), 2)}')\n",
    "preds_test = rf_cl_twenty_five_nmu.predict(test_X)\n",
    "print(f'Accuracy test: {round(accuracy_score(test_y, preds_test), 2)}')"
   ]
  },
  {
   "cell_type": "code",
   "execution_count": 62,
   "metadata": {},
   "outputs": [
    {
     "data": {
      "text/markdown": [
       "**25% class balance random over**"
      ],
      "text/plain": [
       "<IPython.core.display.Markdown object>"
      ]
     },
     "metadata": {},
     "output_type": "display_data"
    },
    {
     "name": "stdout",
     "output_type": "stream",
     "text": [
      "Accuracy validation: 0.89\n",
      "Accuracy test: 0.57\n"
     ]
    }
   ],
   "source": [
    "rf_cl_twenty_five_ro = RandomForestClassifier()\n",
    "rf_cl_twenty_five_ro.fit(train_twenty_five_ro_X, train_twenty_five_ro_y.to_numpy().flatten())\n",
    "printmd('**25% class balance random over**')\n",
    "preds_validation = rf_cl_twenty_five_ro.predict(validation_twenty_five_ro_X)\n",
    "print(f'Accuracy validation: {round(accuracy_score(validation_twenty_five_ro_y, preds_validation), 2)}')\n",
    "preds_test = rf_cl_twenty_five_ro.predict(test_X)\n",
    "print(f'Accuracy test: {round(accuracy_score(test_y, preds_test), 2)}')"
   ]
  },
  {
   "cell_type": "code",
   "execution_count": 63,
   "metadata": {},
   "outputs": [
    {
     "data": {
      "text/markdown": [
       "**50% class balance random under**"
      ],
      "text/plain": [
       "<IPython.core.display.Markdown object>"
      ]
     },
     "metadata": {},
     "output_type": "display_data"
    },
    {
     "name": "stdout",
     "output_type": "stream",
     "text": [
      "Accuracy validation: 0.66\n",
      "Accuracy test: 0.64\n"
     ]
    }
   ],
   "source": [
    "rf_cl_fifty_ru = RandomForestClassifier()\n",
    "rf_cl_fifty_ru.fit(train_fifty_ru_X, train_fifty_ru_y.to_numpy().flatten())\n",
    "printmd('**50% class balance random under**')\n",
    "preds_validation = rf_cl_fifty_ru.predict(validation_fifty_ru_X)\n",
    "print(f'Accuracy validation: {round(accuracy_score(validation_fifty_ru_y, preds_validation), 2)}')\n",
    "preds_test = rf_cl_fifty_ru.predict(test_X)\n",
    "print(f'Accuracy test: {round(accuracy_score(test_y, preds_test), 2)}')"
   ]
  },
  {
   "cell_type": "code",
   "execution_count": 65,
   "metadata": {},
   "outputs": [
    {
     "data": {
      "text/markdown": [
       "**50% class balance near miss under**"
      ],
      "text/plain": [
       "<IPython.core.display.Markdown object>"
      ]
     },
     "metadata": {},
     "output_type": "display_data"
    },
    {
     "name": "stdout",
     "output_type": "stream",
     "text": [
      "Accuracy validation: 0.66\n",
      "Accuracy test: 0.64\n"
     ]
    }
   ],
   "source": [
    "rf_cl_fifty_nmu = RandomForestClassifier()\n",
    "rf_cl_fifty_nmu.fit(train_fifty_nmu_X, train_fifty_nmu_y.to_numpy().flatten())\n",
    "printmd('**50% class balance near miss under**')\n",
    "preds_validation = rf_cl_fifty_nmu.predict(validation_fifty_nmu_X)\n",
    "print(f'Accuracy validation: {round(accuracy_score(validation_fifty_nmu_y, preds_validation), 2)}')\n",
    "preds_test = rf_cl_fifty_nmu.predict(test_X)\n",
    "print(f'Accuracy test: {round(accuracy_score(test_y, preds_test), 2)}')"
   ]
  },
  {
   "cell_type": "code",
   "execution_count": 66,
   "metadata": {},
   "outputs": [
    {
     "data": {
      "text/markdown": [
       "**50% class balance random over**"
      ],
      "text/plain": [
       "<IPython.core.display.Markdown object>"
      ]
     },
     "metadata": {},
     "output_type": "display_data"
    },
    {
     "name": "stdout",
     "output_type": "stream",
     "text": [
      "Accuracy validation: 0.65\n",
      "Accuracy test: 0.64\n"
     ]
    }
   ],
   "source": [
    "rf_cl_fifty_ro = RandomForestClassifier()\n",
    "rf_cl_fifty_ro.fit(train_fifty_ro_X, train_fifty_ro_y.to_numpy().flatten())\n",
    "printmd('**50% class balance random over**')\n",
    "preds_validation = rf_cl_fifty_ro.predict(validation_fifty_ro_X)\n",
    "print(f'Accuracy validation: {round(accuracy_score(validation_fifty_ro_y, preds_validation), 2)}')\n",
    "preds_test = rf_cl_fifty_ro.predict(test_X)\n",
    "print(f'Accuracy test: {round(accuracy_score(test_y, preds_test), 2)}')"
   ]
  }
 ],
 "metadata": {
  "kernelspec": {
   "display_name": "Python 3 (ipykernel)",
   "language": "python",
   "name": "python3"
  },
  "language_info": {
   "codemirror_mode": {
    "name": "ipython",
    "version": 3
   },
   "file_extension": ".py",
   "mimetype": "text/x-python",
   "name": "python",
   "nbconvert_exporter": "python",
   "pygments_lexer": "ipython3",
   "version": "3.9.2"
  }
 },
 "nbformat": 4,
 "nbformat_minor": 1
}
