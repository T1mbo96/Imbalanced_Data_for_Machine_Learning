{
 "cells": [
  {
   "cell_type": "code",
   "execution_count": 1,
   "metadata": {},
   "outputs": [],
   "source": [
    "# Necessary imports\n",
    "import xgboost as xgb\n",
    "import pandas as pd\n",
    "import numpy as np\n",
    "\n",
    "from sklearn.metrics import accuracy_score, recall_score, precision_score, f1_score\n",
    "from sklearn.model_selection import train_test_split\n",
    "from sklearn.ensemble import RandomForestClassifier\n",
    "from sklearn.linear_model import LogisticRegression\n",
    "\n",
    "from utils.load_dataset import load_dataset\n",
    "from utils.split_x_y import split_x_y\n",
    "from utils.printmd import printmd\n",
    "from utils.classification import TrainEvaluation"
   ]
  },
  {
   "cell_type": "code",
   "execution_count": 2,
   "metadata": {},
   "outputs": [],
   "source": [
    "# Load test dataset\n",
    "test = load_dataset(dataset_type='test', encoding='oe')"
   ]
  },
  {
   "cell_type": "code",
   "execution_count": 3,
   "metadata": {},
   "outputs": [],
   "source": [
    "# Split test dataset into features and target\n",
    "test_X, test_y = split_x_y(df=test, target='returnShipment')"
   ]
  },
  {
   "cell_type": "code",
   "execution_count": 16,
   "metadata": {},
   "outputs": [
    {
     "data": {
      "text/plain": [
       "(array([0, 1]), array([20310, 29768], dtype=int64))"
      ]
     },
     "execution_count": 16,
     "metadata": {},
     "output_type": "execute_result"
    }
   ],
   "source": [
    "rf = RandomForestClassifier()\n",
    "rf.fit(test_X, test_y.to_numpy().flatte())\n",
    "y_pred = rf.predict(test_X)\n"
   ]
  },
  {
   "cell_type": "code",
   "execution_count": 4,
   "metadata": {},
   "outputs": [],
   "source": [
    "# Benchmark datasets"
   ]
  },
  {
   "cell_type": "code",
   "execution_count": 5,
   "metadata": {},
   "outputs": [],
   "source": [
    "# Load datasets\n",
    "train_one = load_dataset(dataset_type='train', balance=1, encoding='oe')\n",
    "train_three = load_dataset(dataset_type='train', balance=3, encoding='oe')\n",
    "train_five = load_dataset(dataset_type='train', balance=5, encoding='oe')\n",
    "train_twenty_five = load_dataset(dataset_type='train', balance=25, encoding='oe')\n",
    "train_fifty = load_dataset(dataset_type='train', balance=50, encoding='oe')"
   ]
  },
  {
   "cell_type": "code",
   "execution_count": 6,
   "metadata": {},
   "outputs": [],
   "source": [
    "# Split datasets into train and validation\n",
    "train_one, validation_one = train_test_split(train_one, test_size=0.2, stratify=train_one['returnShipment'])\n",
    "train_three, validation_three = train_test_split(train_three, test_size=0.2, stratify=train_three['returnShipment'])\n",
    "train_five, validation_five = train_test_split(train_five, test_size=0.2, stratify=train_five['returnShipment'])\n",
    "train_twenty_five, validation_twenty_five = train_test_split(train_twenty_five, test_size=0.2, stratify=train_twenty_five['returnShipment'])\n",
    "train_fifty, validation_fifty = train_test_split(train_fifty, test_size=0.2, stratify=train_fifty['returnShipment'])"
   ]
  },
  {
   "cell_type": "code",
   "execution_count": 7,
   "metadata": {},
   "outputs": [],
   "source": [
    "# Split datasets into features and target\n",
    "train_one_X, train_one_y = split_x_y(df=train_one, target='returnShipment')\n",
    "validation_one_X, validation_one_y = split_x_y(df=validation_one, target='returnShipment')\n",
    "\n",
    "train_three_X, train_three_y = split_x_y(df=train_three, target='returnShipment')\n",
    "validation_three_X, validation_three_y = split_x_y(df=validation_three, target='returnShipment')\n",
    "\n",
    "train_five_X, train_five_y = split_x_y(df=train_five, target='returnShipment')\n",
    "validation_five_X, validation_five_y = split_x_y(validation_five, target='returnShipment')\n",
    "\n",
    "train_twenty_five_X, train_twenty_five_y = split_x_y(train_twenty_five, target='returnShipment')\n",
    "validation_twenty_five_X, validation_twenty_five_y = split_x_y(validation_twenty_five, target='returnShipment')\n",
    "\n",
    "train_fifty_X, train_fifty_y = split_x_y(train_fifty, target='returnShipment')\n",
    "validation_fifty_X, validation_fifty_y = split_x_y(validation_fifty, target='returnShipment')"
   ]
  },
  {
   "cell_type": "code",
   "execution_count": 14,
   "metadata": {},
   "outputs": [
    {
     "name": "stdout",
     "output_type": "stream",
     "text": [
      "[0 1]\n",
      "[[9.9943632e-01 5.6370621e-04]\n",
      " [9.9849206e-01 1.5079101e-03]\n",
      " [9.9600065e-01 3.9993702e-03]\n",
      " ...\n",
      " [9.9757940e-01 2.4206121e-03]\n",
      " [9.9994642e-01 5.3558702e-05]\n",
      " [9.9988049e-01 1.1948893e-04]]\n",
      "[5.6370621e-04 1.5079101e-03 3.9993702e-03 ... 2.4206121e-03 5.3558702e-05\n",
      " 1.1948893e-04]\n"
     ]
    }
   ],
   "source": [
    "clf = xgb.XGBClassifier(objective='binary:logistic', eval_metric='error', use_label_encoder=False)\n",
    "clf.fit(train_one_X, train_one_y)\n",
    "y_score = clf.predict_proba(test_X)\n",
    "print(clf.classes_)\n",
    "print(y_score)\n",
    "print(y_score[:, 1])"
   ]
  },
  {
   "cell_type": "code",
   "execution_count": 8,
   "metadata": {},
   "outputs": [
    {
     "name": "stdout",
     "output_type": "stream",
     "text": [
      "Fitting 5 folds for each of 10 candidates, totalling 50 fits\n"
     ]
    },
    {
     "data": {
      "text/plain": [
       "LogisticRegressionClassification:\n",
       "AreaUnderTheReceiverOperatingCharacteristicCurve validation: 0.5\n",
       "AreaUnderTheReceiverOperatingCharacteristicCurve test: 0.51\n",
       "LogisticRegressionClassification:\n",
       "GeometricMean validation: 0.0\n",
       "GeometricMean test: 0.0\n",
       "LogisticRegressionClassification:\n",
       "F1Score validation: 0.0\n",
       "F1Score test: 0.0\n",
       "XGBoostClassification:\n",
       "AreaUnderTheReceiverOperatingCharacteristicCurve validation: 0.5\n",
       "AreaUnderTheReceiverOperatingCharacteristicCurve test: 0.62\n",
       "XGBoostClassification:\n",
       "GeometricMean validation: 0.0\n",
       "GeometricMean test: 0.0\n",
       "XGBoostClassification:\n",
       "F1Score validation: 0.0\n",
       "F1Score test: 0.0\n",
       "RandomForestClassification:\n",
       "AreaUnderTheReceiverOperatingCharacteristicCurve validation: 0.5\n",
       "AreaUnderTheReceiverOperatingCharacteristicCurve test: 0.55\n",
       "RandomForestClassification:\n",
       "GeometricMean validation: 0.0\n",
       "GeometricMean test: 0.01\n",
       "RandomForestClassification:\n",
       "F1Score validation: 0.0\n",
       "F1Score test: 0.0"
      ]
     },
     "execution_count": 8,
     "metadata": {},
     "output_type": "execute_result"
    }
   ],
   "source": [
    "# 1% class balance\n",
    "TrainEvaluation(train_one_X, train_one_y, validation_one_X, validation_one_y, test_X, test_y, ('xgboost', 'random_forest', 'logistic_regression'), ('f1_score', 'roc_auc_score', 'geometric_mean_score'))"
   ]
  },
  {
   "cell_type": "code",
   "execution_count": 9,
   "metadata": {},
   "outputs": [
    {
     "name": "stdout",
     "output_type": "stream",
     "text": [
      "Fitting 5 folds for each of 10 candidates, totalling 50 fits\n"
     ]
    },
    {
     "data": {
      "text/plain": [
       "LogisticRegressionClassification:\n",
       "AreaUnderTheReceiverOperatingCharacteristicCurve validation: 0.5\n",
       "AreaUnderTheReceiverOperatingCharacteristicCurve test: 0.54\n",
       "LogisticRegressionClassification:\n",
       "GeometricMean validation: 0.0\n",
       "GeometricMean test: 0.0\n",
       "LogisticRegressionClassification:\n",
       "F1Score validation: 0.0\n",
       "F1Score test: 0.0\n",
       "XGBoostClassification:\n",
       "AreaUnderTheReceiverOperatingCharacteristicCurve validation: 0.5\n",
       "AreaUnderTheReceiverOperatingCharacteristicCurve test: 0.64\n",
       "XGBoostClassification:\n",
       "GeometricMean validation: 0.0\n",
       "GeometricMean test: 0.01\n",
       "XGBoostClassification:\n",
       "F1Score validation: 0.0\n",
       "F1Score test: 0.0\n",
       "RandomForestClassification:\n",
       "AreaUnderTheReceiverOperatingCharacteristicCurve validation: 0.5\n",
       "AreaUnderTheReceiverOperatingCharacteristicCurve test: 0.62\n",
       "RandomForestClassification:\n",
       "GeometricMean validation: 0.0\n",
       "GeometricMean test: 0.03\n",
       "RandomForestClassification:\n",
       "F1Score validation: 0.0\n",
       "F1Score test: 0.0"
      ]
     },
     "execution_count": 9,
     "metadata": {},
     "output_type": "execute_result"
    }
   ],
   "source": [
    "# 3% class balance\n",
    "TrainEvaluation(train_three_X, train_three_y, validation_three_X, validation_three_y, test_X, test_y, ('xgboost', 'random_forest', 'logistic_regression'), ('f1_score', 'roc_auc_score', 'geometric_mean_score'))"
   ]
  },
  {
   "cell_type": "code",
   "execution_count": 10,
   "metadata": {},
   "outputs": [
    {
     "name": "stdout",
     "output_type": "stream",
     "text": [
      "Fitting 5 folds for each of 10 candidates, totalling 50 fits\n"
     ]
    },
    {
     "data": {
      "text/plain": [
       "LogisticRegressionClassification:\n",
       "AreaUnderTheReceiverOperatingCharacteristicCurve validation: 0.5\n",
       "AreaUnderTheReceiverOperatingCharacteristicCurve test: 0.53\n",
       "LogisticRegressionClassification:\n",
       "GeometricMean validation: 0.0\n",
       "GeometricMean test: 0.0\n",
       "LogisticRegressionClassification:\n",
       "F1Score validation: 0.0\n",
       "F1Score test: 0.0\n",
       "XGBoostClassification:\n",
       "AreaUnderTheReceiverOperatingCharacteristicCurve validation: 0.5\n",
       "AreaUnderTheReceiverOperatingCharacteristicCurve test: 0.66\n",
       "XGBoostClassification:\n",
       "GeometricMean validation: 0.0\n",
       "GeometricMean test: 0.03\n",
       "XGBoostClassification:\n",
       "F1Score validation: 0.0\n",
       "F1Score test: 0.0\n",
       "RandomForestClassification:\n",
       "AreaUnderTheReceiverOperatingCharacteristicCurve validation: 0.5\n",
       "AreaUnderTheReceiverOperatingCharacteristicCurve test: 0.63\n",
       "RandomForestClassification:\n",
       "GeometricMean validation: 0.0\n",
       "GeometricMean test: 0.03\n",
       "RandomForestClassification:\n",
       "F1Score validation: 0.0\n",
       "F1Score test: 0.0"
      ]
     },
     "execution_count": 10,
     "metadata": {},
     "output_type": "execute_result"
    }
   ],
   "source": [
    "# 5% class balance\n",
    "TrainEvaluation(train_five_X, train_five_y, validation_five_X, validation_five_y, test_X, test_y, ('xgboost', 'random_forest', 'logistic_regression'), ('f1_score', 'roc_auc_score', 'geometric_mean_score'))"
   ]
  },
  {
   "cell_type": "code",
   "execution_count": 11,
   "metadata": {},
   "outputs": [
    {
     "name": "stdout",
     "output_type": "stream",
     "text": [
      "Fitting 5 folds for each of 10 candidates, totalling 50 fits\n"
     ]
    },
    {
     "data": {
      "text/plain": [
       "LogisticRegressionClassification:\n",
       "AreaUnderTheReceiverOperatingCharacteristicCurve validation: 0.5\n",
       "AreaUnderTheReceiverOperatingCharacteristicCurve test: 0.56\n",
       "LogisticRegressionClassification:\n",
       "GeometricMean validation: 0.04\n",
       "GeometricMean test: 0.04\n",
       "LogisticRegressionClassification:\n",
       "F1Score validation: 0.0\n",
       "F1Score test: 0.0\n",
       "XGBoostClassification:\n",
       "AreaUnderTheReceiverOperatingCharacteristicCurve validation: 0.55\n",
       "AreaUnderTheReceiverOperatingCharacteristicCurve test: 0.66\n",
       "XGBoostClassification:\n",
       "GeometricMean validation: 0.4\n",
       "GeometricMean test: 0.43\n",
       "XGBoostClassification:\n",
       "F1Score validation: 0.25\n",
       "F1Score test: 0.32\n",
       "RandomForestClassification:\n",
       "AreaUnderTheReceiverOperatingCharacteristicCurve validation: 0.53\n",
       "AreaUnderTheReceiverOperatingCharacteristicCurve test: 0.65\n",
       "RandomForestClassification:\n",
       "GeometricMean validation: 0.28\n",
       "GeometricMean test: 0.38\n",
       "RandomForestClassification:\n",
       "F1Score validation: 0.14\n",
       "F1Score test: 0.25"
      ]
     },
     "execution_count": 11,
     "metadata": {},
     "output_type": "execute_result"
    }
   ],
   "source": [
    "# 25% class balance\n",
    "TrainEvaluation(train_twenty_five_X, train_twenty_five_y, validation_twenty_five_X, validation_twenty_five_y, test_X, test_y, ('xgboost', 'random_forest', 'logistic_regression'), ('f1_score', 'roc_auc_score', 'geometric_mean_score'))"
   ]
  },
  {
   "cell_type": "code",
   "execution_count": 12,
   "metadata": {},
   "outputs": [
    {
     "name": "stdout",
     "output_type": "stream",
     "text": [
      "Fitting 5 folds for each of 10 candidates, totalling 50 fits\n"
     ]
    },
    {
     "data": {
      "text/plain": [
       "LogisticRegressionClassification:\n",
       "AreaUnderTheReceiverOperatingCharacteristicCurve validation: 0.56\n",
       "AreaUnderTheReceiverOperatingCharacteristicCurve test: 0.58\n",
       "LogisticRegressionClassification:\n",
       "GeometricMean validation: 0.56\n",
       "GeometricMean test: 0.56\n",
       "LogisticRegressionClassification:\n",
       "F1Score validation: 0.55\n",
       "F1Score test: 0.59\n",
       "XGBoostClassification:\n",
       "AreaUnderTheReceiverOperatingCharacteristicCurve validation: 0.62\n",
       "AreaUnderTheReceiverOperatingCharacteristicCurve test: 0.68\n",
       "XGBoostClassification:\n",
       "GeometricMean validation: 0.61\n",
       "GeometricMean test: 0.6\n",
       "XGBoostClassification:\n",
       "F1Score validation: 0.64\n",
       "F1Score test: 0.69\n",
       "RandomForestClassification:\n",
       "AreaUnderTheReceiverOperatingCharacteristicCurve validation: 0.63\n",
       "AreaUnderTheReceiverOperatingCharacteristicCurve test: 0.68\n",
       "RandomForestClassification:\n",
       "GeometricMean validation: 0.62\n",
       "GeometricMean test: 0.61\n",
       "RandomForestClassification:\n",
       "F1Score validation: 0.66\n",
       "F1Score test: 0.68"
      ]
     },
     "execution_count": 12,
     "metadata": {},
     "output_type": "execute_result"
    }
   ],
   "source": [
    "# 50% class balance\n",
    "TrainEvaluation(train_fifty_X, train_fifty_y, validation_fifty_X, validation_fifty_y, test_X, test_y, ('xgboost', 'random_forest', 'logistic_regression'), ('f1_score', 'roc_auc_score', 'geometric_mean_score'))"
   ]
  },
  {
   "cell_type": "code",
   "execution_count": 15,
   "metadata": {},
   "outputs": [],
   "source": [
    "# Load datasets\n",
    "\n",
    "# 1% class balance\n",
    "train_one_random_under = load_dataset(dataset_type='train', balance=1, technique='ru', encoding='oe')\n",
    "train_one_near_miss_under = load_dataset(dataset_type='train', balance=1, technique='nmu', encoding='oe')\n",
    "train_one_random_over = load_dataset(dataset_type='train', balance=1, technique='ro', encoding='oe')\n",
    "train_one_smote = load_dataset(dataset_type='train', balance=1, technique='snc', encoding='oe')\n",
    "\n",
    "# 3% class balance\n",
    "train_three_random_under = load_dataset(dataset_type='train', balance=3, technique='ru', encoding='oe')\n",
    "train_three_near_miss_under = load_dataset(dataset_type='train', balance=3, technique='nmu', encoding='oe')\n",
    "train_three_random_over = load_dataset(dataset_type='train', balance=3, technique='ro', encoding='oe')\n",
    "train_three_smote = load_dataset(dataset_type='train', balance=3, technique='snc', encoding='oe')\n",
    "\n",
    "# 5% class balance\n",
    "train_five_random_under = load_dataset(dataset_type='train', balance=5, technique='ru', encoding='oe')\n",
    "train_five_near_miss_under = load_dataset(dataset_type='train', balance=5, technique='nmu', encoding='oe')\n",
    "train_five_random_over = load_dataset(dataset_type='train', balance=5, technique='ro', encoding='oe')\n",
    "train_five_smote = load_dataset(dataset_type='train', balance=5, technique='snc', encoding='oe')\n",
    "\n",
    "# 25% class balance\n",
    "train_twenty_five_random_under = load_dataset(dataset_type='train', balance=25, technique='ru', encoding='oe')\n",
    "train_twenty_five_near_miss_under = load_dataset(dataset_type='train', balance=25, technique='nmu', encoding='oe')\n",
    "train_twenty_five_random_over = load_dataset(dataset_type='train', balance=25, technique='ro', encoding='oe')\n",
    "train_twenty_five_smote = load_dataset(dataset_type='train', balance=25, technique='snc', encoding='oe')\n",
    "\n",
    "# 50% class balance\n",
    "train_fifty_random_under = load_dataset(dataset_type='train', balance=50, technique='ru', encoding='oe')\n",
    "train_fifty_near_miss_under = load_dataset(dataset_type='train', balance=50, technique='nmu', encoding='oe')\n",
    "train_fifty_random_over = load_dataset(dataset_type='train', balance=50, technique='ro', encoding='oe')\n",
    "train_fifty_smote = load_dataset(dataset_type='train', balance=50, technique='snc', encoding='oe')"
   ]
  },
  {
   "cell_type": "code",
   "execution_count": 16,
   "metadata": {},
   "outputs": [],
   "source": [
    "# Split datasets into train and validation\n",
    "\n",
    "# 1% class balance\n",
    "train_one_ru, validation_one_ru = train_test_split(train_one_random_under, test_size=0.2, stratify=train_one_random_under['returnShipment'])\n",
    "train_one_nmu, validation_one_nmu = train_test_split(train_one_near_miss_under, test_size=0.2, stratify=train_one_near_miss_under['returnShipment'])\n",
    "train_one_ro, validation_one_ro = train_test_split(train_one_random_over, test_size=0.2, stratify=train_one_random_over['returnShipment'])\n",
    "train_one_snc, validation_one_snc = train_test_split(train_one_smote, test_size=0.2, stratify=train_one_smote['returnShipment'])\n",
    "\n",
    "# 3% class balance\n",
    "train_three_ru, validation_three_ru = train_test_split(train_three_random_under, test_size=0.2, stratify=train_three_random_under['returnShipment'])\n",
    "train_three_nmu, validation_three_nmu = train_test_split(train_three_near_miss_under, test_size=0.2, stratify=train_three_near_miss_under['returnShipment'])\n",
    "train_three_ro, validation_three_ro = train_test_split(train_three_random_over, test_size=0.2, stratify=train_three_random_over['returnShipment'])\n",
    "train_three_snc, validation_three_snc = train_test_split(train_three_smote, test_size=0.2, stratify=train_three_smote['returnShipment'])\n",
    "\n",
    "# 5% class balance\n",
    "train_five_ru, validation_five_ru = train_test_split(train_five_random_under, test_size=0.2, stratify=train_five_random_under['returnShipment'])\n",
    "train_five_nmu, validation_five_nmu = train_test_split(train_five_near_miss_under, test_size=0.2, stratify=train_five_near_miss_under['returnShipment'])\n",
    "train_five_ro, validation_five_ro = train_test_split(train_five_random_over, test_size=0.2, stratify=train_five_random_over['returnShipment'])\n",
    "train_five_snc, validation_five_snc = train_test_split(train_five_smote, test_size=0.2, stratify=train_five_smote['returnShipment'])\n",
    "\n",
    "# 25% class balance\n",
    "train_twenty_five_ru, validation_twenty_five_ru = train_test_split(train_twenty_five_random_under, test_size=0.2, stratify=train_twenty_five_random_under['returnShipment'])\n",
    "train_twenty_five_nmu, validation_twenty_five_nmu = train_test_split(train_twenty_five_near_miss_under, test_size=0.2, stratify=train_twenty_five_near_miss_under['returnShipment'])\n",
    "train_twenty_five_ro, validation_twenty_five_ro = train_test_split(train_twenty_five_random_over, test_size=0.2, stratify=train_twenty_five_random_over['returnShipment'])\n",
    "train_twenty_five_snc, validation_twenty_five_snc = train_test_split(train_twenty_five_smote, test_size=0.2, stratify=train_twenty_five_smote['returnShipment'])\n",
    "\n",
    "# 50% class balance\n",
    "train_fifty_ru, validation_fifty_ru = train_test_split(train_fifty_random_under, test_size=0.2, stratify=train_fifty_random_under['returnShipment'])\n",
    "train_fifty_nmu, validation_fifty_nmu = train_test_split(train_fifty_near_miss_under, test_size=0.2, stratify=train_fifty_near_miss_under['returnShipment'])\n",
    "train_fifty_ro, validation_fifty_ro = train_test_split(train_fifty_random_over, test_size=0.2, stratify=train_fifty_random_over['returnShipment'])\n",
    "train_fifty_snc, validation_fifty_snc = train_test_split(train_fifty_smote, test_size=0.2, stratify=train_fifty_smote['returnShipment'])"
   ]
  },
  {
   "cell_type": "code",
   "execution_count": 17,
   "metadata": {},
   "outputs": [],
   "source": [
    "# Split datasets into features and target\n",
    "\n",
    "# 1% class balance\n",
    "train_one_ru_X, train_one_ru_y = split_x_y(df=train_one_ru, target='returnShipment')\n",
    "validation_one_ru_X, validation_one_ru_y = split_x_y(df=validation_one_ru, target='returnShipment')\n",
    "\n",
    "train_one_nmu_X, train_one_nmu_y = split_x_y(df=train_one_nmu, target='returnShipment')\n",
    "validation_one_nmu_X, validation_one_nmu_y = split_x_y(df=validation_one_nmu, target='returnShipment')\n",
    "\n",
    "train_one_ro_X, train_one_ro_y = split_x_y(df=train_one_ro, target='returnShipment')\n",
    "validation_one_ro_X, validation_one_ro_y = split_x_y(df=validation_one_ro, target='returnShipment')\n",
    "\n",
    "train_one_snc_X, train_one_snc_y = split_x_y(df=train_one_snc, target='returnShipment')\n",
    "validation_one_snc_X, validation_one_snc_y = split_x_y(df=validation_one_snc, target='returnShipment')\n",
    "\n",
    "# 3% class balance\n",
    "train_three_ru_X, train_three_ru_y = split_x_y(df=train_three_ru, target='returnShipment')\n",
    "validation_three_ru_X, validation_three_ru_y = split_x_y(df=validation_three_ru, target='returnShipment')\n",
    "\n",
    "train_three_nmu_X, train_three_nmu_y = split_x_y(df=train_three_nmu, target='returnShipment')\n",
    "validation_three_nmu_X, validation_three_nmu_y = split_x_y(df=validation_three_nmu, target='returnShipment')\n",
    "\n",
    "train_three_ro_X, train_three_ro_y = split_x_y(df=train_three_ro, target='returnShipment')\n",
    "validation_three_ro_X, validation_three_ro_y = split_x_y(df=validation_three_ro, target='returnShipment')\n",
    "\n",
    "train_three_snc_X, train_three_snc_y = split_x_y(df=train_three_snc, target='returnShipment')\n",
    "validation_three_snc_X, validation_three_snc_y = split_x_y(df=validation_three_snc, target='returnShipment')\n",
    "\n",
    "# 5% class balance\n",
    "train_five_ru_X, train_five_ru_y = split_x_y(df=train_five_ru, target='returnShipment')\n",
    "validation_five_ru_X, validation_five_ru_y = split_x_y(df=validation_five_ru, target='returnShipment')\n",
    "\n",
    "train_five_nmu_X, train_five_nmu_y = split_x_y(df=train_five_nmu, target='returnShipment')\n",
    "validation_five_nmu_X, validation_five_nmu_y = split_x_y(df=validation_five_nmu, target='returnShipment')\n",
    "\n",
    "train_five_ro_X, train_five_ro_y = split_x_y(df=train_five_ro, target='returnShipment')\n",
    "validation_five_ro_X, validation_five_ro_y = split_x_y(df=validation_five_ro, target='returnShipment')\n",
    "\n",
    "train_five_snc_X, train_five_snc_y = split_x_y(df=train_five_snc, target='returnShipment')\n",
    "validation_five_snc_X, validation_five_snc_y = split_x_y(df=validation_five_snc, target='returnShipment')\n",
    "\n",
    "# 25% class balance\n",
    "train_twenty_five_ru_X, train_twenty_five_ru_y = split_x_y(df=train_twenty_five_ru, target='returnShipment')\n",
    "validation_twenty_five_ru_X, validation_twenty_five_ru_y = split_x_y(df=validation_twenty_five_ru, target='returnShipment')\n",
    "\n",
    "train_twenty_five_nmu_X, train_twenty_five_nmu_y = split_x_y(df=train_twenty_five_nmu, target='returnShipment')\n",
    "validation_twenty_five_nmu_X, validation_twenty_five_nmu_y = split_x_y(df=validation_five_nmu, target='returnShipment')\n",
    "\n",
    "train_twenty_five_ro_X, train_twenty_five_ro_y = split_x_y(df=train_twenty_five_ro, target='returnShipment')\n",
    "validation_twenty_five_ro_X, validation_twenty_five_ro_y = split_x_y(df=validation_twenty_five_ro, target='returnShipment')\n",
    "\n",
    "train_twenty_five_snc_X, train_twenty_five_snc_y = split_x_y(df=train_twenty_five_snc, target='returnShipment')\n",
    "validation_twenty_five_snc_X, validation_twenty_five_snc_y = split_x_y(df=validation_twenty_five_snc, target='returnShipment')\n",
    "\n",
    "# 50% class balance\n",
    "train_fifty_ru_X, train_fifty_ru_y = split_x_y(df=train_fifty_ru, target='returnShipment')\n",
    "validation_fifty_ru_X, validation_fifty_ru_y = split_x_y(df=validation_fifty_ru, target='returnShipment')\n",
    "\n",
    "train_fifty_nmu_X, train_fifty_nmu_y = split_x_y(df=train_fifty_nmu, target='returnShipment')\n",
    "validation_fifty_nmu_X, validation_fifty_nmu_y = split_x_y(df=validation_fifty_nmu, target='returnShipment')\n",
    "\n",
    "train_fifty_ro_X, train_fifty_ro_y = split_x_y(df=train_fifty_ro, target='returnShipment')\n",
    "validation_fifty_ro_X, validation_fifty_ro_y = split_x_y(df=validation_fifty_ro, target='returnShipment')\n",
    "\n",
    "train_fifty_snc_X, train_fifty_snc_y = split_x_y(df=train_fifty_snc, target='returnShipment')\n",
    "validation_fifty_snc_X, validation_fifty_snc_y = split_x_y(df=validation_fifty_snc, target='returnShipment')"
   ]
  },
  {
   "cell_type": "code",
   "execution_count": 16,
   "metadata": {},
   "outputs": [],
   "source": [
    "# 1% class balance"
   ]
  },
  {
   "cell_type": "code",
   "execution_count": 17,
   "metadata": {},
   "outputs": [
    {
     "name": "stdout",
     "output_type": "stream",
     "text": [
      "Fitting 5 folds for each of 10 candidates, totalling 50 fits\n"
     ]
    },
    {
     "data": {
      "text/plain": [
       "LogisticRegressionClassification:\n",
       "AreaUnderTheReceiverOperatingCharacteristicCurve validation: 0.43\n",
       "AreaUnderTheReceiverOperatingCharacteristicCurve test: 0.54\n",
       "LogisticRegressionClassification:\n",
       "GeometricMean validation: 0.43\n",
       "GeometricMean test: 0.47\n",
       "LogisticRegressionClassification:\n",
       "F1Score validation: 0.41\n",
       "F1Score test: 0.61\n",
       "XGBoostClassification:\n",
       "AreaUnderTheReceiverOperatingCharacteristicCurve validation: 0.48\n",
       "AreaUnderTheReceiverOperatingCharacteristicCurve test: 0.61\n",
       "XGBoostClassification:\n",
       "GeometricMean validation: 0.48\n",
       "GeometricMean test: 0.54\n",
       "XGBoostClassification:\n",
       "F1Score validation: 0.48\n",
       "F1Score test: 0.64\n",
       "RandomForestClassification:\n",
       "AreaUnderTheReceiverOperatingCharacteristicCurve validation: 0.48\n",
       "AreaUnderTheReceiverOperatingCharacteristicCurve test: 0.62\n",
       "RandomForestClassification:\n",
       "GeometricMean validation: 0.48\n",
       "GeometricMean test: 0.55\n",
       "RandomForestClassification:\n",
       "F1Score validation: 0.47\n",
       "F1Score test: 0.65"
      ]
     },
     "execution_count": 17,
     "metadata": {},
     "output_type": "execute_result"
    }
   ],
   "source": [
    "TrainEvaluation(train_one_ru_X, train_one_ru_y, validation_one_ru_X, validation_one_ru_y, test_X, test_y, ('xgboost', 'random_forest', 'logistic_regression'), ('f1_score', 'roc_auc_score', 'geometric_mean_score'))"
   ]
  },
  {
   "cell_type": "code",
   "execution_count": 18,
   "metadata": {},
   "outputs": [
    {
     "name": "stdout",
     "output_type": "stream",
     "text": [
      "Fitting 5 folds for each of 10 candidates, totalling 50 fits\n"
     ]
    },
    {
     "data": {
      "text/plain": [
       "LogisticRegressionClassification:\n",
       "AreaUnderTheReceiverOperatingCharacteristicCurve validation: 0.82\n",
       "AreaUnderTheReceiverOperatingCharacteristicCurve test: 0.51\n",
       "LogisticRegressionClassification:\n",
       "GeometricMean validation: 0.82\n",
       "GeometricMean test: 0.16\n",
       "LogisticRegressionClassification:\n",
       "F1Score validation: 0.81\n",
       "F1Score test: 0.66\n",
       "XGBoostClassification:\n",
       "AreaUnderTheReceiverOperatingCharacteristicCurve validation: 0.8\n",
       "AreaUnderTheReceiverOperatingCharacteristicCurve test: 0.54\n",
       "XGBoostClassification:\n",
       "GeometricMean validation: 0.8\n",
       "GeometricMean test: 0.15\n",
       "XGBoostClassification:\n",
       "F1Score validation: 0.8\n",
       "F1Score test: 0.66\n",
       "RandomForestClassification:\n",
       "AreaUnderTheReceiverOperatingCharacteristicCurve validation: 0.8\n",
       "AreaUnderTheReceiverOperatingCharacteristicCurve test: 0.56\n",
       "RandomForestClassification:\n",
       "GeometricMean validation: 0.8\n",
       "GeometricMean test: 0.16\n",
       "RandomForestClassification:\n",
       "F1Score validation: 0.81\n",
       "F1Score test: 0.67"
      ]
     },
     "execution_count": 18,
     "metadata": {},
     "output_type": "execute_result"
    }
   ],
   "source": [
    "TrainEvaluation(train_one_nmu_X, train_one_nmu_y, validation_one_nmu_X, validation_one_nmu_y, test_X, test_y, ('xgboost', 'random_forest', 'logistic_regression'), ('f1_score', 'roc_auc_score', 'geometric_mean_score'))"
   ]
  },
  {
   "cell_type": "code",
   "execution_count": 19,
   "metadata": {},
   "outputs": [
    {
     "name": "stdout",
     "output_type": "stream",
     "text": [
      "Fitting 5 folds for each of 10 candidates, totalling 50 fits\n"
     ]
    },
    {
     "data": {
      "text/plain": [
       "LogisticRegressionClassification:\n",
       "AreaUnderTheReceiverOperatingCharacteristicCurve validation: 0.57\n",
       "AreaUnderTheReceiverOperatingCharacteristicCurve test: 0.54\n",
       "LogisticRegressionClassification:\n",
       "GeometricMean validation: 0.56\n",
       "GeometricMean test: 0.28\n",
       "LogisticRegressionClassification:\n",
       "F1Score validation: 0.54\n",
       "F1Score test: 0.65\n",
       "XGBoostClassification:\n",
       "AreaUnderTheReceiverOperatingCharacteristicCurve validation: 1.0\n",
       "AreaUnderTheReceiverOperatingCharacteristicCurve test: 0.58\n",
       "XGBoostClassification:\n",
       "GeometricMean validation: 1.0\n",
       "GeometricMean test: 0.02\n",
       "XGBoostClassification:\n",
       "F1Score validation: 1.0\n",
       "F1Score test: 0.0\n",
       "RandomForestClassification:\n",
       "AreaUnderTheReceiverOperatingCharacteristicCurve validation: 1.0\n",
       "AreaUnderTheReceiverOperatingCharacteristicCurve test: 0.57\n",
       "RandomForestClassification:\n",
       "GeometricMean validation: 1.0\n",
       "GeometricMean test: 0.01\n",
       "RandomForestClassification:\n",
       "F1Score validation: 1.0\n",
       "F1Score test: 0.0"
      ]
     },
     "execution_count": 19,
     "metadata": {},
     "output_type": "execute_result"
    }
   ],
   "source": [
    "TrainEvaluation(train_one_ro_X, train_one_ro_y, validation_one_ro_X, validation_one_ro_y, test_X, test_y, ('xgboost', 'random_forest', 'logistic_regression'), ('f1_score', 'roc_auc_score', 'geometric_mean_score'))"
   ]
  },
  {
   "cell_type": "code",
   "execution_count": 20,
   "metadata": {},
   "outputs": [
    {
     "name": "stdout",
     "output_type": "stream",
     "text": [
      "Fitting 5 folds for each of 10 candidates, totalling 50 fits\n"
     ]
    },
    {
     "data": {
      "text/plain": [
       "LogisticRegressionClassification:\n",
       "AreaUnderTheReceiverOperatingCharacteristicCurve validation: 0.6\n",
       "AreaUnderTheReceiverOperatingCharacteristicCurve test: 0.51\n",
       "LogisticRegressionClassification:\n",
       "GeometricMean validation: 0.6\n",
       "GeometricMean test: 0.44\n",
       "LogisticRegressionClassification:\n",
       "F1Score validation: 0.6\n",
       "F1Score test: 0.6\n",
       "XGBoostClassification:\n",
       "AreaUnderTheReceiverOperatingCharacteristicCurve validation: 0.99\n",
       "AreaUnderTheReceiverOperatingCharacteristicCurve test: 0.61\n",
       "XGBoostClassification:\n",
       "GeometricMean validation: 0.99\n",
       "GeometricMean test: 0.16\n",
       "XGBoostClassification:\n",
       "F1Score validation: 0.99\n",
       "F1Score test: 0.05\n",
       "RandomForestClassification:\n",
       "AreaUnderTheReceiverOperatingCharacteristicCurve validation: 0.98\n",
       "AreaUnderTheReceiverOperatingCharacteristicCurve test: 0.63\n",
       "RandomForestClassification:\n",
       "GeometricMean validation: 0.98\n",
       "GeometricMean test: 0.29\n",
       "RandomForestClassification:\n",
       "F1Score validation: 0.98\n",
       "F1Score test: 0.16"
      ]
     },
     "execution_count": 20,
     "metadata": {},
     "output_type": "execute_result"
    }
   ],
   "source": [
    "TrainEvaluation(train_one_snc_X, train_one_snc_y, validation_one_snc_X, validation_one_snc_y, test_X, test_y, ('xgboost', 'random_forest', 'logistic_regression'), ('f1_score', 'roc_auc_score', 'geometric_mean_score'))"
   ]
  },
  {
   "cell_type": "code",
   "execution_count": 21,
   "metadata": {},
   "outputs": [],
   "source": [
    "# 3% class balance"
   ]
  },
  {
   "cell_type": "code",
   "execution_count": 22,
   "metadata": {},
   "outputs": [
    {
     "name": "stdout",
     "output_type": "stream",
     "text": [
      "Fitting 5 folds for each of 10 candidates, totalling 50 fits\n"
     ]
    },
    {
     "data": {
      "text/plain": [
       "LogisticRegressionClassification:\n",
       "AreaUnderTheReceiverOperatingCharacteristicCurve validation: 0.51\n",
       "AreaUnderTheReceiverOperatingCharacteristicCurve test: 0.56\n",
       "LogisticRegressionClassification:\n",
       "GeometricMean validation: 0.51\n",
       "GeometricMean test: 0.54\n",
       "LogisticRegressionClassification:\n",
       "F1Score validation: 0.48\n",
       "F1Score test: 0.54\n",
       "XGBoostClassification:\n",
       "AreaUnderTheReceiverOperatingCharacteristicCurve validation: 0.6\n",
       "AreaUnderTheReceiverOperatingCharacteristicCurve test: 0.65\n",
       "XGBoostClassification:\n",
       "GeometricMean validation: 0.6\n",
       "GeometricMean test: 0.6\n",
       "XGBoostClassification:\n",
       "F1Score validation: 0.61\n",
       "F1Score test: 0.61\n",
       "RandomForestClassification:\n",
       "AreaUnderTheReceiverOperatingCharacteristicCurve validation: 0.55\n",
       "AreaUnderTheReceiverOperatingCharacteristicCurve test: 0.65\n",
       "RandomForestClassification:\n",
       "GeometricMean validation: 0.55\n",
       "GeometricMean test: 0.6\n",
       "RandomForestClassification:\n",
       "F1Score validation: 0.56\n",
       "F1Score test: 0.65"
      ]
     },
     "execution_count": 22,
     "metadata": {},
     "output_type": "execute_result"
    }
   ],
   "source": [
    "TrainEvaluation(train_three_ru_X, train_three_ru_y, validation_three_ru_X, validation_three_ru_y, test_X, test_y, ('xgboost', 'random_forest', 'logistic_regression'), ('f1_score', 'roc_auc_score', 'geometric_mean_score'))"
   ]
  },
  {
   "cell_type": "code",
   "execution_count": 23,
   "metadata": {},
   "outputs": [
    {
     "name": "stdout",
     "output_type": "stream",
     "text": [
      "Fitting 5 folds for each of 10 candidates, totalling 50 fits\n"
     ]
    },
    {
     "data": {
      "text/plain": [
       "LogisticRegressionClassification:\n",
       "AreaUnderTheReceiverOperatingCharacteristicCurve validation: 0.77\n",
       "AreaUnderTheReceiverOperatingCharacteristicCurve test: 0.54\n",
       "LogisticRegressionClassification:\n",
       "GeometricMean validation: 0.77\n",
       "GeometricMean test: 0.22\n",
       "LogisticRegressionClassification:\n",
       "F1Score validation: 0.77\n",
       "F1Score test: 0.66\n",
       "XGBoostClassification:\n",
       "AreaUnderTheReceiverOperatingCharacteristicCurve validation: 0.84\n",
       "AreaUnderTheReceiverOperatingCharacteristicCurve test: 0.61\n",
       "XGBoostClassification:\n",
       "GeometricMean validation: 0.84\n",
       "GeometricMean test: 0.46\n",
       "XGBoostClassification:\n",
       "F1Score validation: 0.84\n",
       "F1Score test: 0.7\n",
       "RandomForestClassification:\n",
       "AreaUnderTheReceiverOperatingCharacteristicCurve validation: 0.84\n",
       "AreaUnderTheReceiverOperatingCharacteristicCurve test: 0.62\n",
       "RandomForestClassification:\n",
       "GeometricMean validation: 0.84\n",
       "GeometricMean test: 0.45\n",
       "RandomForestClassification:\n",
       "F1Score validation: 0.84\n",
       "F1Score test: 0.7"
      ]
     },
     "execution_count": 23,
     "metadata": {},
     "output_type": "execute_result"
    }
   ],
   "source": [
    "TrainEvaluation(train_three_nmu_X, train_three_nmu_y, validation_three_nmu_X, validation_three_nmu_y, test_X, test_y, ('xgboost', 'random_forest', 'logistic_regression'), ('f1_score', 'roc_auc_score', 'geometric_mean_score'))"
   ]
  },
  {
   "cell_type": "code",
   "execution_count": 24,
   "metadata": {},
   "outputs": [
    {
     "name": "stdout",
     "output_type": "stream",
     "text": [
      "Fitting 5 folds for each of 10 candidates, totalling 50 fits\n"
     ]
    },
    {
     "data": {
      "text/plain": [
       "LogisticRegressionClassification:\n",
       "AreaUnderTheReceiverOperatingCharacteristicCurve validation: 0.56\n",
       "AreaUnderTheReceiverOperatingCharacteristicCurve test: 0.57\n",
       "LogisticRegressionClassification:\n",
       "GeometricMean validation: 0.55\n",
       "GeometricMean test: 0.55\n",
       "LogisticRegressionClassification:\n",
       "F1Score validation: 0.53\n",
       "F1Score test: 0.51\n",
       "XGBoostClassification:\n",
       "AreaUnderTheReceiverOperatingCharacteristicCurve validation: 1.0\n",
       "AreaUnderTheReceiverOperatingCharacteristicCurve test: 0.63\n",
       "XGBoostClassification:\n",
       "GeometricMean validation: 1.0\n",
       "GeometricMean test: 0.07\n",
       "XGBoostClassification:\n",
       "F1Score validation: 1.0\n",
       "F1Score test: 0.01\n",
       "RandomForestClassification:\n",
       "AreaUnderTheReceiverOperatingCharacteristicCurve validation: 1.0\n",
       "AreaUnderTheReceiverOperatingCharacteristicCurve test: 0.63\n",
       "RandomForestClassification:\n",
       "GeometricMean validation: 1.0\n",
       "GeometricMean test: 0.01\n",
       "RandomForestClassification:\n",
       "F1Score validation: 1.0\n",
       "F1Score test: 0.0"
      ]
     },
     "execution_count": 24,
     "metadata": {},
     "output_type": "execute_result"
    }
   ],
   "source": [
    "TrainEvaluation(train_three_ro_X, train_three_ro_y, validation_three_ro_X, validation_three_ro_y, test_X, test_y, ('xgboost', 'random_forest', 'logistic_regression'), ('f1_score', 'roc_auc_score', 'geometric_mean_score'))"
   ]
  },
  {
   "cell_type": "code",
   "execution_count": 18,
   "metadata": {},
   "outputs": [
    {
     "name": "stdout",
     "output_type": "stream",
     "text": [
      "Fitting 5 folds for each of 10 candidates, totalling 50 fits\n"
     ]
    },
    {
     "data": {
      "text/plain": [
       "RandomForestClassification:\n",
       "AreaUnderTheReceiverOperatingCharacteristicCurve validation: 0.95\n",
       "AreaUnderTheReceiverOperatingCharacteristicCurve test: 0.65\n",
       "RandomForestClassification:\n",
       "F1Score validation: 0.95\n",
       "F1Score test: 0.24\n",
       "RandomForestClassification:\n",
       "GeometricMean validation: 0.95\n",
       "GeometricMean test: 0.37\n",
       "LogisticRegressionClassification:\n",
       "AreaUnderTheReceiverOperatingCharacteristicCurve validation: 0.6\n",
       "AreaUnderTheReceiverOperatingCharacteristicCurve test: 0.54\n",
       "LogisticRegressionClassification:\n",
       "F1Score validation: 0.62\n",
       "F1Score test: 0.52\n",
       "LogisticRegressionClassification:\n",
       "GeometricMean validation: 0.6\n",
       "GeometricMean test: 0.53\n",
       "XGBoostClassification:\n",
       "AreaUnderTheReceiverOperatingCharacteristicCurve validation: 0.98\n",
       "AreaUnderTheReceiverOperatingCharacteristicCurve test: 0.64\n",
       "XGBoostClassification:\n",
       "F1Score validation: 0.98\n",
       "F1Score test: 0.08\n",
       "XGBoostClassification:\n",
       "GeometricMean validation: 0.98\n",
       "GeometricMean test: 0.2"
      ]
     },
     "execution_count": 18,
     "metadata": {},
     "output_type": "execute_result"
    }
   ],
   "source": [
    "TrainEvaluation(train_three_snc_X, train_three_snc_y, validation_three_snc_X, validation_three_snc_y, test_X, test_y, ('xgboost', 'random_forest', 'logistic_regression'), ('f1_score', 'roc_auc_score', 'geometric_mean_score'))"
   ]
  },
  {
   "cell_type": "code",
   "execution_count": 26,
   "metadata": {},
   "outputs": [],
   "source": [
    "# 5% class balance"
   ]
  },
  {
   "cell_type": "code",
   "execution_count": 27,
   "metadata": {},
   "outputs": [
    {
     "name": "stdout",
     "output_type": "stream",
     "text": [
      "Fitting 5 folds for each of 10 candidates, totalling 50 fits\n"
     ]
    },
    {
     "data": {
      "text/plain": [
       "LogisticRegressionClassification:\n",
       "AreaUnderTheReceiverOperatingCharacteristicCurve validation: 0.56\n",
       "AreaUnderTheReceiverOperatingCharacteristicCurve test: 0.57\n",
       "LogisticRegressionClassification:\n",
       "GeometricMean validation: 0.55\n",
       "GeometricMean test: 0.53\n",
       "LogisticRegressionClassification:\n",
       "F1Score validation: 0.53\n",
       "F1Score test: 0.61\n",
       "XGBoostClassification:\n",
       "AreaUnderTheReceiverOperatingCharacteristicCurve validation: 0.6\n",
       "AreaUnderTheReceiverOperatingCharacteristicCurve test: 0.66\n",
       "XGBoostClassification:\n",
       "GeometricMean validation: 0.6\n",
       "GeometricMean test: 0.61\n",
       "XGBoostClassification:\n",
       "F1Score validation: 0.59\n",
       "F1Score test: 0.65\n",
       "RandomForestClassification:\n",
       "AreaUnderTheReceiverOperatingCharacteristicCurve validation: 0.64\n",
       "AreaUnderTheReceiverOperatingCharacteristicCurve test: 0.66\n",
       "RandomForestClassification:\n",
       "GeometricMean validation: 0.64\n",
       "GeometricMean test: 0.6\n",
       "RandomForestClassification:\n",
       "F1Score validation: 0.64\n",
       "F1Score test: 0.64"
      ]
     },
     "execution_count": 27,
     "metadata": {},
     "output_type": "execute_result"
    }
   ],
   "source": [
    "TrainEvaluation(train_five_ru_X, train_five_ru_y, validation_five_ru_X, validation_five_ru_y, test_X, test_y, ('xgboost', 'random_forest', 'logistic_regression'), ('f1_score', 'roc_auc_score', 'geometric_mean_score'))"
   ]
  },
  {
   "cell_type": "code",
   "execution_count": 28,
   "metadata": {},
   "outputs": [
    {
     "name": "stdout",
     "output_type": "stream",
     "text": [
      "Fitting 5 folds for each of 10 candidates, totalling 50 fits\n"
     ]
    },
    {
     "data": {
      "text/plain": [
       "LogisticRegressionClassification:\n",
       "AreaUnderTheReceiverOperatingCharacteristicCurve validation: 0.72\n",
       "AreaUnderTheReceiverOperatingCharacteristicCurve test: 0.55\n",
       "LogisticRegressionClassification:\n",
       "GeometricMean validation: 0.72\n",
       "GeometricMean test: 0.45\n",
       "LogisticRegressionClassification:\n",
       "F1Score validation: 0.7\n",
       "F1Score test: 0.63\n",
       "XGBoostClassification:\n",
       "AreaUnderTheReceiverOperatingCharacteristicCurve validation: 0.75\n",
       "AreaUnderTheReceiverOperatingCharacteristicCurve test: 0.62\n",
       "XGBoostClassification:\n",
       "GeometricMean validation: 0.75\n",
       "GeometricMean test: 0.52\n",
       "XGBoostClassification:\n",
       "F1Score validation: 0.75\n",
       "F1Score test: 0.68\n",
       "RandomForestClassification:\n",
       "AreaUnderTheReceiverOperatingCharacteristicCurve validation: 0.78\n",
       "AreaUnderTheReceiverOperatingCharacteristicCurve test: 0.62\n",
       "RandomForestClassification:\n",
       "GeometricMean validation: 0.78\n",
       "GeometricMean test: 0.46\n",
       "RandomForestClassification:\n",
       "F1Score validation: 0.78\n",
       "F1Score test: 0.7"
      ]
     },
     "execution_count": 28,
     "metadata": {},
     "output_type": "execute_result"
    }
   ],
   "source": [
    "TrainEvaluation(train_five_nmu_X, train_five_nmu_y, validation_five_nmu_X, validation_five_nmu_y, test_X, test_y, ('xgboost', 'random_forest', 'logistic_regression'), ('f1_score', 'roc_auc_score', 'geometric_mean_score'))"
   ]
  },
  {
   "cell_type": "code",
   "execution_count": 29,
   "metadata": {},
   "outputs": [
    {
     "name": "stdout",
     "output_type": "stream",
     "text": [
      "Fitting 5 folds for each of 10 candidates, totalling 50 fits\n"
     ]
    },
    {
     "data": {
      "text/plain": [
       "LogisticRegressionClassification:\n",
       "AreaUnderTheReceiverOperatingCharacteristicCurve validation: 0.57\n",
       "AreaUnderTheReceiverOperatingCharacteristicCurve test: 0.58\n",
       "LogisticRegressionClassification:\n",
       "GeometricMean validation: 0.57\n",
       "GeometricMean test: 0.52\n",
       "LogisticRegressionClassification:\n",
       "F1Score validation: 0.56\n",
       "F1Score test: 0.62\n",
       "XGBoostClassification:\n",
       "AreaUnderTheReceiverOperatingCharacteristicCurve validation: 1.0\n",
       "AreaUnderTheReceiverOperatingCharacteristicCurve test: 0.63\n",
       "XGBoostClassification:\n",
       "GeometricMean validation: 1.0\n",
       "GeometricMean test: 0.11\n",
       "XGBoostClassification:\n",
       "F1Score validation: 1.0\n",
       "F1Score test: 0.02\n",
       "RandomForestClassification:\n",
       "AreaUnderTheReceiverOperatingCharacteristicCurve validation: 1.0\n",
       "AreaUnderTheReceiverOperatingCharacteristicCurve test: 0.65\n",
       "RandomForestClassification:\n",
       "GeometricMean validation: 1.0\n",
       "GeometricMean test: 0.02\n",
       "RandomForestClassification:\n",
       "F1Score validation: 1.0\n",
       "F1Score test: 0.0"
      ]
     },
     "execution_count": 29,
     "metadata": {},
     "output_type": "execute_result"
    }
   ],
   "source": [
    "TrainEvaluation(train_five_ro_X, train_five_ro_y, validation_five_ro_X, validation_five_ro_y, test_X, test_y, ('xgboost', 'random_forest', 'logistic_regression'), ('f1_score', 'roc_auc_score', 'geometric_mean_score'))"
   ]
  },
  {
   "cell_type": "code",
   "execution_count": 30,
   "metadata": {},
   "outputs": [
    {
     "name": "stdout",
     "output_type": "stream",
     "text": [
      "Fitting 5 folds for each of 10 candidates, totalling 50 fits\n"
     ]
    },
    {
     "data": {
      "text/plain": [
       "LogisticRegressionClassification:\n",
       "AreaUnderTheReceiverOperatingCharacteristicCurve validation: 0.6\n",
       "AreaUnderTheReceiverOperatingCharacteristicCurve test: 0.53\n",
       "LogisticRegressionClassification:\n",
       "GeometricMean validation: 0.6\n",
       "GeometricMean test: 0.52\n",
       "LogisticRegressionClassification:\n",
       "F1Score validation: 0.61\n",
       "F1Score test: 0.52\n",
       "XGBoostClassification:\n",
       "AreaUnderTheReceiverOperatingCharacteristicCurve validation: 0.97\n",
       "AreaUnderTheReceiverOperatingCharacteristicCurve test: 0.64\n",
       "XGBoostClassification:\n",
       "GeometricMean validation: 0.97\n",
       "GeometricMean test: 0.26\n",
       "XGBoostClassification:\n",
       "F1Score validation: 0.97\n",
       "F1Score test: 0.12\n",
       "RandomForestClassification:\n",
       "AreaUnderTheReceiverOperatingCharacteristicCurve validation: 0.93\n",
       "AreaUnderTheReceiverOperatingCharacteristicCurve test: 0.65\n",
       "RandomForestClassification:\n",
       "GeometricMean validation: 0.93\n",
       "GeometricMean test: 0.38\n",
       "RandomForestClassification:\n",
       "F1Score validation: 0.93\n",
       "F1Score test: 0.26"
      ]
     },
     "execution_count": 30,
     "metadata": {},
     "output_type": "execute_result"
    }
   ],
   "source": [
    "TrainEvaluation(train_five_snc_X, train_five_snc_y, validation_five_snc_X, validation_five_snc_y, test_X, test_y, ('xgboost', 'random_forest', 'logistic_regression'), ('f1_score', 'roc_auc_score', 'geometric_mean_score'))"
   ]
  },
  {
   "cell_type": "code",
   "execution_count": 31,
   "metadata": {},
   "outputs": [],
   "source": [
    "# 25% class balance"
   ]
  },
  {
   "cell_type": "code",
   "execution_count": 32,
   "metadata": {},
   "outputs": [
    {
     "name": "stdout",
     "output_type": "stream",
     "text": [
      "Fitting 5 folds for each of 10 candidates, totalling 50 fits\n"
     ]
    },
    {
     "data": {
      "text/plain": [
       "LogisticRegressionClassification:\n",
       "AreaUnderTheReceiverOperatingCharacteristicCurve validation: 0.56\n",
       "AreaUnderTheReceiverOperatingCharacteristicCurve test: 0.58\n",
       "LogisticRegressionClassification:\n",
       "GeometricMean validation: 0.56\n",
       "GeometricMean test: 0.56\n",
       "LogisticRegressionClassification:\n",
       "F1Score validation: 0.54\n",
       "F1Score test: 0.57\n",
       "XGBoostClassification:\n",
       "AreaUnderTheReceiverOperatingCharacteristicCurve validation: 0.61\n",
       "AreaUnderTheReceiverOperatingCharacteristicCurve test: 0.66\n",
       "XGBoostClassification:\n",
       "GeometricMean validation: 0.61\n",
       "GeometricMean test: 0.61\n",
       "XGBoostClassification:\n",
       "F1Score validation: 0.62\n",
       "F1Score test: 0.64\n",
       "RandomForestClassification:\n",
       "AreaUnderTheReceiverOperatingCharacteristicCurve validation: 0.63\n",
       "AreaUnderTheReceiverOperatingCharacteristicCurve test: 0.67\n",
       "RandomForestClassification:\n",
       "GeometricMean validation: 0.62\n",
       "GeometricMean test: 0.61\n",
       "RandomForestClassification:\n",
       "F1Score validation: 0.67\n",
       "F1Score test: 0.64"
      ]
     },
     "execution_count": 32,
     "metadata": {},
     "output_type": "execute_result"
    }
   ],
   "source": [
    "TrainEvaluation(train_twenty_five_ru_X, train_twenty_five_ru_y, validation_twenty_five_ru_X, validation_twenty_five_ru_y, test_X, test_y, ('xgboost', 'random_forest', 'logistic_regression'), ('f1_score', 'roc_auc_score', 'geometric_mean_score'))"
   ]
  },
  {
   "cell_type": "code",
   "execution_count": 33,
   "metadata": {},
   "outputs": [
    {
     "name": "stdout",
     "output_type": "stream",
     "text": [
      "Fitting 5 folds for each of 10 candidates, totalling 50 fits\n"
     ]
    },
    {
     "data": {
      "text/plain": [
       "LogisticRegressionClassification:\n",
       "AreaUnderTheReceiverOperatingCharacteristicCurve validation: 0.67\n",
       "AreaUnderTheReceiverOperatingCharacteristicCurve test: 0.56\n",
       "LogisticRegressionClassification:\n",
       "GeometricMean validation: 0.67\n",
       "GeometricMean test: 0.3\n",
       "LogisticRegressionClassification:\n",
       "F1Score validation: 0.65\n",
       "F1Score test: 0.66\n",
       "XGBoostClassification:\n",
       "AreaUnderTheReceiverOperatingCharacteristicCurve validation: 0.84\n",
       "AreaUnderTheReceiverOperatingCharacteristicCurve test: 0.64\n",
       "XGBoostClassification:\n",
       "GeometricMean validation: 0.84\n",
       "GeometricMean test: 0.51\n",
       "XGBoostClassification:\n",
       "F1Score validation: 0.83\n",
       "F1Score test: 0.69\n",
       "RandomForestClassification:\n",
       "AreaUnderTheReceiverOperatingCharacteristicCurve validation: 0.87\n",
       "AreaUnderTheReceiverOperatingCharacteristicCurve test: 0.65\n",
       "RandomForestClassification:\n",
       "GeometricMean validation: 0.87\n",
       "GeometricMean test: 0.5\n",
       "RandomForestClassification:\n",
       "F1Score validation: 0.86\n",
       "F1Score test: 0.69"
      ]
     },
     "execution_count": 33,
     "metadata": {},
     "output_type": "execute_result"
    }
   ],
   "source": [
    "TrainEvaluation(train_twenty_five_nmu_X, train_twenty_five_nmu_y, validation_twenty_five_nmu_X, validation_twenty_five_nmu_y, test_X, test_y, ('xgboost', 'random_forest', 'logistic_regression'), ('f1_score', 'roc_auc_score', 'geometric_mean_score'))"
   ]
  },
  {
   "cell_type": "code",
   "execution_count": 34,
   "metadata": {},
   "outputs": [
    {
     "name": "stdout",
     "output_type": "stream",
     "text": [
      "Fitting 5 folds for each of 10 candidates, totalling 50 fits\n"
     ]
    },
    {
     "data": {
      "text/plain": [
       "LogisticRegressionClassification:\n",
       "AreaUnderTheReceiverOperatingCharacteristicCurve validation: 0.56\n",
       "AreaUnderTheReceiverOperatingCharacteristicCurve test: 0.58\n",
       "LogisticRegressionClassification:\n",
       "GeometricMean validation: 0.56\n",
       "GeometricMean test: 0.56\n",
       "LogisticRegressionClassification:\n",
       "F1Score validation: 0.54\n",
       "F1Score test: 0.57\n",
       "XGBoostClassification:\n",
       "AreaUnderTheReceiverOperatingCharacteristicCurve validation: 0.88\n",
       "AreaUnderTheReceiverOperatingCharacteristicCurve test: 0.66\n",
       "XGBoostClassification:\n",
       "GeometricMean validation: 0.88\n",
       "GeometricMean test: 0.57\n",
       "XGBoostClassification:\n",
       "F1Score validation: 0.89\n",
       "F1Score test: 0.52\n",
       "RandomForestClassification:\n",
       "AreaUnderTheReceiverOperatingCharacteristicCurve validation: 0.89\n",
       "AreaUnderTheReceiverOperatingCharacteristicCurve test: 0.66\n",
       "RandomForestClassification:\n",
       "GeometricMean validation: 0.89\n",
       "GeometricMean test: 0.43\n",
       "RandomForestClassification:\n",
       "F1Score validation: 0.9\n",
       "F1Score test: 0.32"
      ]
     },
     "execution_count": 34,
     "metadata": {},
     "output_type": "execute_result"
    }
   ],
   "source": [
    "TrainEvaluation(train_twenty_five_ro_X, train_twenty_five_ro_y, validation_twenty_five_ro_X, validation_twenty_five_ro_y, test_X, test_y, ('xgboost', 'random_forest', 'logistic_regression'), ('f1_score', 'roc_auc_score', 'geometric_mean_score'))"
   ]
  },
  {
   "cell_type": "code",
   "execution_count": 35,
   "metadata": {},
   "outputs": [
    {
     "name": "stdout",
     "output_type": "stream",
     "text": [
      "Fitting 5 folds for each of 10 candidates, totalling 50 fits\n"
     ]
    },
    {
     "data": {
      "text/plain": [
       "LogisticRegressionClassification:\n",
       "AreaUnderTheReceiverOperatingCharacteristicCurve validation: 0.57\n",
       "AreaUnderTheReceiverOperatingCharacteristicCurve test: 0.57\n",
       "LogisticRegressionClassification:\n",
       "GeometricMean validation: 0.57\n",
       "GeometricMean test: 0.55\n",
       "LogisticRegressionClassification:\n",
       "F1Score validation: 0.56\n",
       "F1Score test: 0.52\n",
       "XGBoostClassification:\n",
       "AreaUnderTheReceiverOperatingCharacteristicCurve validation: 0.8\n",
       "AreaUnderTheReceiverOperatingCharacteristicCurve test: 0.67\n",
       "XGBoostClassification:\n",
       "GeometricMean validation: 0.8\n",
       "GeometricMean test: 0.54\n",
       "XGBoostClassification:\n",
       "F1Score validation: 0.8\n",
       "F1Score test: 0.47\n",
       "RandomForestClassification:\n",
       "AreaUnderTheReceiverOperatingCharacteristicCurve validation: 0.77\n",
       "AreaUnderTheReceiverOperatingCharacteristicCurve test: 0.67\n",
       "RandomForestClassification:\n",
       "GeometricMean validation: 0.77\n",
       "GeometricMean test: 0.58\n",
       "RandomForestClassification:\n",
       "F1Score validation: 0.77\n",
       "F1Score test: 0.53"
      ]
     },
     "execution_count": 35,
     "metadata": {},
     "output_type": "execute_result"
    }
   ],
   "source": [
    "TrainEvaluation(train_twenty_five_snc_X, train_twenty_five_snc_y, validation_twenty_five_snc_X, validation_twenty_five_snc_y, test_X, test_y, ('xgboost', 'random_forest', 'logistic_regression'), ('f1_score', 'roc_auc_score', 'geometric_mean_score'))"
   ]
  },
  {
   "cell_type": "code",
   "execution_count": 36,
   "metadata": {},
   "outputs": [],
   "source": [
    "# 50% class balance"
   ]
  },
  {
   "cell_type": "code",
   "execution_count": 37,
   "metadata": {},
   "outputs": [
    {
     "name": "stdout",
     "output_type": "stream",
     "text": [
      "Fitting 5 folds for each of 10 candidates, totalling 50 fits\n"
     ]
    },
    {
     "data": {
      "text/plain": [
       "RandomForestClassification:\n",
       "Accuracy validation: 0.63\n",
       "Accuracy test: 0.62\n",
       "RandomForestClassification:\n",
       "AreaUnderTheReceiverOperatingCharacteristicCurve validation: 0.63\n",
       "AreaUnderTheReceiverOperatingCharacteristicCurve test: 0.67\n",
       "RandomForestClassification:\n",
       "F1Score validation: 0.66\n",
       "F1Score test: 0.65\n",
       "LogisticRegressionClassification:\n",
       "Accuracy validation: 0.56\n",
       "Accuracy test: 0.56\n",
       "LogisticRegressionClassification:\n",
       "AreaUnderTheReceiverOperatingCharacteristicCurve validation: 0.56\n",
       "AreaUnderTheReceiverOperatingCharacteristicCurve test: 0.58\n",
       "LogisticRegressionClassification:\n",
       "F1Score validation: 0.55\n",
       "F1Score test: 0.57\n",
       "XGBoostClassification:\n",
       "Accuracy validation: 0.62\n",
       "Accuracy test: 0.62\n",
       "XGBoostClassification:\n",
       "AreaUnderTheReceiverOperatingCharacteristicCurve validation: 0.62\n",
       "AreaUnderTheReceiverOperatingCharacteristicCurve test: 0.67\n",
       "XGBoostClassification:\n",
       "F1Score validation: 0.64\n",
       "F1Score test: 0.64"
      ]
     },
     "execution_count": 37,
     "metadata": {},
     "output_type": "execute_result"
    }
   ],
   "source": [
    "TrainEvaluation(train_fifty_ru_X, train_fifty_ru_y, validation_fifty_ru_X, validation_fifty_ru_y, test_X, test_y, ('xgboost', 'random_forest', 'logistic_regression'), ('f1_score', 'roc_auc_score', 'geometric_mean_score'))"
   ]
  },
  {
   "cell_type": "code",
   "execution_count": 38,
   "metadata": {},
   "outputs": [
    {
     "name": "stdout",
     "output_type": "stream",
     "text": [
      "Fitting 5 folds for each of 10 candidates, totalling 50 fits\n"
     ]
    },
    {
     "data": {
      "text/plain": [
       "RandomForestClassification:\n",
       "Accuracy validation: 0.63\n",
       "Accuracy test: 0.63\n",
       "RandomForestClassification:\n",
       "AreaUnderTheReceiverOperatingCharacteristicCurve validation: 0.63\n",
       "AreaUnderTheReceiverOperatingCharacteristicCurve test: 0.67\n",
       "RandomForestClassification:\n",
       "F1Score validation: 0.66\n",
       "F1Score test: 0.68\n",
       "LogisticRegressionClassification:\n",
       "Accuracy validation: 0.55\n",
       "Accuracy test: 0.56\n",
       "LogisticRegressionClassification:\n",
       "AreaUnderTheReceiverOperatingCharacteristicCurve validation: 0.55\n",
       "AreaUnderTheReceiverOperatingCharacteristicCurve test: 0.58\n",
       "LogisticRegressionClassification:\n",
       "F1Score validation: 0.53\n",
       "F1Score test: 0.59\n",
       "XGBoostClassification:\n",
       "Accuracy validation: 0.61\n",
       "Accuracy test: 0.62\n",
       "XGBoostClassification:\n",
       "AreaUnderTheReceiverOperatingCharacteristicCurve validation: 0.61\n",
       "AreaUnderTheReceiverOperatingCharacteristicCurve test: 0.67\n",
       "XGBoostClassification:\n",
       "F1Score validation: 0.62\n",
       "F1Score test: 0.67"
      ]
     },
     "execution_count": 38,
     "metadata": {},
     "output_type": "execute_result"
    }
   ],
   "source": [
    "TrainEvaluation(train_fifty_nmu_X, train_fifty_nmu_y, validation_fifty_nmu_X, validation_fifty_nmu_y, test_X, test_y, ('xgboost', 'random_forest', 'logistic_regression'), ('f1_score', 'roc_auc_score', 'geometric_mean_score'))"
   ]
  },
  {
   "cell_type": "code",
   "execution_count": 39,
   "metadata": {},
   "outputs": [
    {
     "name": "stdout",
     "output_type": "stream",
     "text": [
      "Fitting 5 folds for each of 10 candidates, totalling 50 fits\n"
     ]
    },
    {
     "data": {
      "text/plain": [
       "RandomForestClassification:\n",
       "Accuracy validation: 0.63\n",
       "Accuracy test: 0.63\n",
       "RandomForestClassification:\n",
       "AreaUnderTheReceiverOperatingCharacteristicCurve validation: 0.63\n",
       "AreaUnderTheReceiverOperatingCharacteristicCurve test: 0.67\n",
       "RandomForestClassification:\n",
       "F1Score validation: 0.65\n",
       "F1Score test: 0.67\n",
       "LogisticRegressionClassification:\n",
       "Accuracy validation: 0.56\n",
       "Accuracy test: 0.56\n",
       "LogisticRegressionClassification:\n",
       "AreaUnderTheReceiverOperatingCharacteristicCurve validation: 0.56\n",
       "AreaUnderTheReceiverOperatingCharacteristicCurve test: 0.58\n",
       "LogisticRegressionClassification:\n",
       "F1Score validation: 0.54\n",
       "F1Score test: 0.57\n",
       "XGBoostClassification:\n",
       "Accuracy validation: 0.62\n",
       "Accuracy test: 0.62\n",
       "XGBoostClassification:\n",
       "AreaUnderTheReceiverOperatingCharacteristicCurve validation: 0.62\n",
       "AreaUnderTheReceiverOperatingCharacteristicCurve test: 0.67\n",
       "XGBoostClassification:\n",
       "F1Score validation: 0.64\n",
       "F1Score test: 0.68"
      ]
     },
     "execution_count": 39,
     "metadata": {},
     "output_type": "execute_result"
    }
   ],
   "source": [
    "TrainEvaluation(train_fifty_ro_X, train_fifty_ro_y, validation_fifty_ro_X, validation_fifty_ro_y, test_X, test_y, ('xgboost', 'random_forest', 'logistic_regression'), ('f1_score', 'roc_auc_score', 'geometric_mean_score'))"
   ]
  },
  {
   "cell_type": "code",
   "execution_count": 40,
   "metadata": {},
   "outputs": [
    {
     "name": "stdout",
     "output_type": "stream",
     "text": [
      "Fitting 5 folds for each of 10 candidates, totalling 50 fits\n"
     ]
    },
    {
     "data": {
      "text/plain": [
       "RandomForestClassification:\n",
       "Accuracy validation: 0.64\n",
       "Accuracy test: 0.63\n",
       "RandomForestClassification:\n",
       "AreaUnderTheReceiverOperatingCharacteristicCurve validation: 0.64\n",
       "AreaUnderTheReceiverOperatingCharacteristicCurve test: 0.67\n",
       "RandomForestClassification:\n",
       "F1Score validation: 0.67\n",
       "F1Score test: 0.68\n",
       "LogisticRegressionClassification:\n",
       "Accuracy validation: 0.55\n",
       "Accuracy test: 0.56\n",
       "LogisticRegressionClassification:\n",
       "AreaUnderTheReceiverOperatingCharacteristicCurve validation: 0.55\n",
       "AreaUnderTheReceiverOperatingCharacteristicCurve test: 0.58\n",
       "LogisticRegressionClassification:\n",
       "F1Score validation: 0.53\n",
       "F1Score test: 0.59\n",
       "XGBoostClassification:\n",
       "Accuracy validation: 0.62\n",
       "Accuracy test: 0.62\n",
       "XGBoostClassification:\n",
       "AreaUnderTheReceiverOperatingCharacteristicCurve validation: 0.62\n",
       "AreaUnderTheReceiverOperatingCharacteristicCurve test: 0.66\n",
       "XGBoostClassification:\n",
       "F1Score validation: 0.64\n",
       "F1Score test: 0.67"
      ]
     },
     "execution_count": 40,
     "metadata": {},
     "output_type": "execute_result"
    }
   ],
   "source": [
    "TrainEvaluation(train_fifty_snc_X, train_fifty_snc_y, validation_fifty_snc_X, validation_fifty_snc_y, test_X, test_y, ('xgboost', 'random_forest', 'logistic_regression'), ('f1_score', 'roc_auc_score', 'geometric_mean_score'))"
   ]
  }
 ],
 "metadata": {
  "kernelspec": {
   "display_name": "Python 3 (ipykernel)",
   "language": "python",
   "name": "python3"
  },
  "language_info": {
   "codemirror_mode": {
    "name": "ipython",
    "version": 3
   },
   "file_extension": ".py",
   "mimetype": "text/x-python",
   "name": "python",
   "nbconvert_exporter": "python",
   "pygments_lexer": "ipython3",
   "version": "3.9.2"
  }
 },
 "nbformat": 4,
 "nbformat_minor": 1
}
