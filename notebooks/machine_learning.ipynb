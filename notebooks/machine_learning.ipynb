{
 "cells": [
  {
   "cell_type": "code",
   "execution_count": 1,
   "metadata": {},
   "outputs": [],
   "source": [
    "# Necessary imports\n",
    "import xgboost as xgb\n",
    "import pandas as pd\n",
    "\n",
    "from sklearn.metrics import accuracy_score, recall_score, precision_score, f1_score\n",
    "from sklearn.model_selection import train_test_split\n",
    "from sklearn.ensemble import RandomForestClassifier\n",
    "from sklearn.linear_model import LogisticRegression\n",
    "\n",
    "from utils.load_dataset import load_dataset\n",
    "from utils.split_x_y import split_x_y\n",
    "from utils.printmd import printmd\n",
    "from utils.classification import TrainEvaluation"
   ]
  },
  {
   "cell_type": "code",
   "execution_count": 2,
   "metadata": {},
   "outputs": [],
   "source": [
    "# Load test dataset\n",
    "test = load_dataset(dataset_type='test', encoding='oe')"
   ]
  },
  {
   "cell_type": "code",
   "execution_count": 3,
   "metadata": {},
   "outputs": [],
   "source": [
    "# Split test dataset into features and target\n",
    "test_X, test_y = split_x_y(df=test, target='returnShipment')"
   ]
  },
  {
   "cell_type": "code",
   "execution_count": 4,
   "metadata": {},
   "outputs": [],
   "source": [
    "# Benchmark datasets"
   ]
  },
  {
   "cell_type": "code",
   "execution_count": 5,
   "metadata": {},
   "outputs": [],
   "source": [
    "# Load datasets\n",
    "train_one = load_dataset(dataset_type='train', balance=1, encoding='oe')\n",
    "train_three = load_dataset(dataset_type='train', balance=3, encoding='oe')\n",
    "train_five = load_dataset(dataset_type='train', balance=5, encoding='oe')\n",
    "train_twenty_five = load_dataset(dataset_type='train', balance=25, encoding='oe')\n",
    "train_fifty = load_dataset(dataset_type='train', balance=50, encoding='oe')"
   ]
  },
  {
   "cell_type": "code",
   "execution_count": 6,
   "metadata": {},
   "outputs": [],
   "source": [
    "# Split datasets into train and validation\n",
    "train_one, validation_one = train_test_split(train_one, test_size=0.2, stratify=train_one['returnShipment'])\n",
    "train_three, validation_three = train_test_split(train_three, test_size=0.2, stratify=train_three['returnShipment'])\n",
    "train_five, validation_five = train_test_split(train_five, test_size=0.2, stratify=train_five['returnShipment'])\n",
    "train_twenty_five, validation_twenty_five = train_test_split(train_twenty_five, test_size=0.2, stratify=train_twenty_five['returnShipment'])\n",
    "train_fifty, validation_fifty = train_test_split(train_fifty, test_size=0.2, stratify=train_fifty['returnShipment'])"
   ]
  },
  {
   "cell_type": "code",
   "execution_count": 7,
   "metadata": {},
   "outputs": [],
   "source": [
    "# Split datasets into features and target\n",
    "train_one_X, train_one_y = split_x_y(df=train_one, target='returnShipment')\n",
    "validation_one_X, validation_one_y = split_x_y(df=validation_one, target='returnShipment')\n",
    "\n",
    "train_three_X, train_three_y = split_x_y(df=train_three, target='returnShipment')\n",
    "validation_three_X, validation_three_y = split_x_y(df=validation_three, target='returnShipment')\n",
    "\n",
    "train_five_X, train_five_y = split_x_y(df=train_five, target='returnShipment')\n",
    "validation_five_X, validation_five_y = split_x_y(validation_five, target='returnShipment')\n",
    "\n",
    "train_twenty_five_X, train_twenty_five_y = split_x_y(train_twenty_five, target='returnShipment')\n",
    "validation_twenty_five_X, validation_twenty_five_y = split_x_y(validation_twenty_five, target='returnShipment')\n",
    "\n",
    "train_fifty_X, train_fifty_y = split_x_y(train_fifty, target='returnShipment')\n",
    "validation_fifty_X, validation_fifty_y = split_x_y(validation_fifty, target='returnShipment')"
   ]
  },
  {
   "cell_type": "code",
   "execution_count": 10,
   "metadata": {},
   "outputs": [
    {
     "name": "stderr",
     "output_type": "stream",
     "text": [
      "C:\\Users\\TimoM\\PycharmProjects\\Imbalanced_Data_for_Machine_Learning\\venv\\lib\\site-packages\\sklearn\\metrics\\_classification.py:1248: UndefinedMetricWarning: Precision is ill-defined and being set to 0.0 due to no predicted samples. Use `zero_division` parameter to control this behavior.\n",
      "  _warn_prf(average, modifier, msg_start, len(result))\n",
      "C:\\Users\\TimoM\\PycharmProjects\\Imbalanced_Data_for_Machine_Learning\\venv\\lib\\site-packages\\sklearn\\metrics\\_classification.py:1248: UndefinedMetricWarning: Precision is ill-defined and being set to 0.0 due to no predicted samples. Use `zero_division` parameter to control this behavior.\n",
      "  _warn_prf(average, modifier, msg_start, len(result))\n",
      "C:\\Users\\TimoM\\PycharmProjects\\Imbalanced_Data_for_Machine_Learning\\venv\\lib\\site-packages\\sklearn\\metrics\\_classification.py:1248: UndefinedMetricWarning: Precision is ill-defined and being set to 0.0 due to no predicted samples. Use `zero_division` parameter to control this behavior.\n",
      "  _warn_prf(average, modifier, msg_start, len(result))\n",
      "C:\\Users\\TimoM\\PycharmProjects\\Imbalanced_Data_for_Machine_Learning\\venv\\lib\\site-packages\\sklearn\\metrics\\_classification.py:1248: UndefinedMetricWarning: Precision is ill-defined and being set to 0.0 due to no predicted samples. Use `zero_division` parameter to control this behavior.\n",
      "  _warn_prf(average, modifier, msg_start, len(result))\n"
     ]
    },
    {
     "data": {
      "text/plain": [
       "XGBoostClassification:\n",
       "F1Score validation: 0.0\n",
       "F1Score test: 0.0\n",
       "XGBoostClassification:\n",
       "Precision validation: 0.0\n",
       "Precision test: 1.0\n",
       "XGBoostClassification:\n",
       "Recall validation: 0.0\n",
       "Recall test: 0.0\n",
       "XGBoostClassification:\n",
       "Accuracy validation: 0.99\n",
       "Accuracy test: 0.5\n",
       "LogisticRegressionClassification:\n",
       "F1Score validation: 0.0\n",
       "F1Score test: 0.0\n",
       "LogisticRegressionClassification:\n",
       "Precision validation: 0.0\n",
       "Precision test: 0.0\n",
       "LogisticRegressionClassification:\n",
       "Recall validation: 0.0\n",
       "Recall test: 0.0\n",
       "LogisticRegressionClassification:\n",
       "Accuracy validation: 0.99\n",
       "Accuracy test: 0.5\n",
       "RandomForestClassification:\n",
       "F1Score validation: 0.0\n",
       "F1Score test: 0.0\n",
       "RandomForestClassification:\n",
       "Precision validation: 0.0\n",
       "Precision test: 0.0\n",
       "RandomForestClassification:\n",
       "Recall validation: 0.0\n",
       "Recall test: 0.0\n",
       "RandomForestClassification:\n",
       "Accuracy validation: 0.99\n",
       "Accuracy test: 0.5"
      ]
     },
     "execution_count": 10,
     "metadata": {},
     "output_type": "execute_result"
    }
   ],
   "source": [
    "# 1% class balance\n",
    "TrainEvaluation(train_one_X, train_one_y, validation_one_X, validation_one_y, test_X, test_y, ('xgboost', 'random_forest', 'logistic_regression'), ('accuracy', 'precision', 'recall', 'f1_score'))"
   ]
  },
  {
   "cell_type": "code",
   "execution_count": 11,
   "metadata": {},
   "outputs": [
    {
     "name": "stderr",
     "output_type": "stream",
     "text": [
      "C:\\Users\\TimoM\\PycharmProjects\\Imbalanced_Data_for_Machine_Learning\\venv\\lib\\site-packages\\sklearn\\metrics\\_classification.py:1248: UndefinedMetricWarning: Precision is ill-defined and being set to 0.0 due to no predicted samples. Use `zero_division` parameter to control this behavior.\n",
      "  _warn_prf(average, modifier, msg_start, len(result))\n",
      "C:\\Users\\TimoM\\PycharmProjects\\Imbalanced_Data_for_Machine_Learning\\venv\\lib\\site-packages\\sklearn\\metrics\\_classification.py:1248: UndefinedMetricWarning: Precision is ill-defined and being set to 0.0 due to no predicted samples. Use `zero_division` parameter to control this behavior.\n",
      "  _warn_prf(average, modifier, msg_start, len(result))\n"
     ]
    },
    {
     "data": {
      "text/plain": [
       "XGBoostClassification:\n",
       "F1Score validation: 0.0\n",
       "F1Score test: 0.0\n",
       "XGBoostClassification:\n",
       "Precision validation: 0.0\n",
       "Precision test: 0.67\n",
       "XGBoostClassification:\n",
       "Recall validation: 0.0\n",
       "Recall test: 0.0\n",
       "XGBoostClassification:\n",
       "Accuracy validation: 0.97\n",
       "Accuracy test: 0.5\n",
       "LogisticRegressionClassification:\n",
       "F1Score validation: 0.0\n",
       "F1Score test: 0.0\n",
       "LogisticRegressionClassification:\n",
       "Precision validation: 0.0\n",
       "Precision test: 0.0\n",
       "LogisticRegressionClassification:\n",
       "Recall validation: 0.0\n",
       "Recall test: 0.0\n",
       "LogisticRegressionClassification:\n",
       "Accuracy validation: 0.97\n",
       "Accuracy test: 0.5\n",
       "RandomForestClassification:\n",
       "F1Score validation: 0.01\n",
       "F1Score test: 0.0\n",
       "RandomForestClassification:\n",
       "Precision validation: 0.09\n",
       "Precision test: 0.67\n",
       "RandomForestClassification:\n",
       "Recall validation: 0.0\n",
       "Recall test: 0.0\n",
       "RandomForestClassification:\n",
       "Accuracy validation: 0.97\n",
       "Accuracy test: 0.5"
      ]
     },
     "execution_count": 11,
     "metadata": {},
     "output_type": "execute_result"
    }
   ],
   "source": [
    "# 3% class balance\n",
    "TrainEvaluation(train_three_X, train_three_y, validation_three_X, validation_three_y, test_X, test_y, ('xgboost', 'random_forest', 'logistic_regression'), ('accuracy', 'precision', 'recall', 'f1_score'))"
   ]
  },
  {
   "cell_type": "code",
   "execution_count": 12,
   "metadata": {},
   "outputs": [
    {
     "name": "stderr",
     "output_type": "stream",
     "text": [
      "C:\\Users\\TimoM\\PycharmProjects\\Imbalanced_Data_for_Machine_Learning\\venv\\lib\\site-packages\\sklearn\\metrics\\_classification.py:1248: UndefinedMetricWarning: Precision is ill-defined and being set to 0.0 due to no predicted samples. Use `zero_division` parameter to control this behavior.\n",
      "  _warn_prf(average, modifier, msg_start, len(result))\n",
      "C:\\Users\\TimoM\\PycharmProjects\\Imbalanced_Data_for_Machine_Learning\\venv\\lib\\site-packages\\sklearn\\metrics\\_classification.py:1248: UndefinedMetricWarning: Precision is ill-defined and being set to 0.0 due to no predicted samples. Use `zero_division` parameter to control this behavior.\n",
      "  _warn_prf(average, modifier, msg_start, len(result))\n"
     ]
    },
    {
     "data": {
      "text/plain": [
       "XGBoostClassification:\n",
       "F1Score validation: 0.0\n",
       "F1Score test: 0.0\n",
       "XGBoostClassification:\n",
       "Precision validation: 0.25\n",
       "Precision test: 0.61\n",
       "XGBoostClassification:\n",
       "Recall validation: 0.0\n",
       "Recall test: 0.0\n",
       "XGBoostClassification:\n",
       "Accuracy validation: 0.95\n",
       "Accuracy test: 0.5\n",
       "LogisticRegressionClassification:\n",
       "F1Score validation: 0.0\n",
       "F1Score test: 0.0\n",
       "LogisticRegressionClassification:\n",
       "Precision validation: 0.0\n",
       "Precision test: 0.0\n",
       "LogisticRegressionClassification:\n",
       "Recall validation: 0.0\n",
       "Recall test: 0.0\n",
       "LogisticRegressionClassification:\n",
       "Accuracy validation: 0.95\n",
       "Accuracy test: 0.5\n",
       "RandomForestClassification:\n",
       "F1Score validation: 0.01\n",
       "F1Score test: 0.0\n",
       "RandomForestClassification:\n",
       "Precision validation: 0.08\n",
       "Precision test: 0.17\n",
       "RandomForestClassification:\n",
       "Recall validation: 0.0\n",
       "Recall test: 0.0\n",
       "RandomForestClassification:\n",
       "Accuracy validation: 0.95\n",
       "Accuracy test: 0.5"
      ]
     },
     "execution_count": 12,
     "metadata": {},
     "output_type": "execute_result"
    }
   ],
   "source": [
    "# 5% class balance\n",
    "TrainEvaluation(train_five_X, train_five_y, validation_five_X, validation_five_y, test_X, test_y, ('xgboost', 'random_forest', 'logistic_regression'), ('accuracy', 'precision', 'recall', 'f1_score'))"
   ]
  },
  {
   "cell_type": "code",
   "execution_count": 13,
   "metadata": {},
   "outputs": [
    {
     "data": {
      "text/plain": [
       "XGBoostClassification:\n",
       "F1Score validation: 0.1\n",
       "F1Score test: 0.37\n",
       "XGBoostClassification:\n",
       "Precision validation: 0.53\n",
       "Precision test: 0.63\n",
       "XGBoostClassification:\n",
       "Recall validation: 0.06\n",
       "Recall test: 0.26\n",
       "XGBoostClassification:\n",
       "Accuracy validation: 0.75\n",
       "Accuracy test: 0.55\n",
       "LogisticRegressionClassification:\n",
       "F1Score validation: 0.0\n",
       "F1Score test: 0.0\n",
       "LogisticRegressionClassification:\n",
       "Precision validation: 0.35\n",
       "Precision test: 0.47\n",
       "LogisticRegressionClassification:\n",
       "Recall validation: 0.0\n",
       "Recall test: 0.0\n",
       "LogisticRegressionClassification:\n",
       "Accuracy validation: 0.75\n",
       "Accuracy test: 0.5\n",
       "RandomForestClassification:\n",
       "F1Score validation: 0.23\n",
       "F1Score test: 0.28\n",
       "RandomForestClassification:\n",
       "Precision validation: 0.5\n",
       "Precision test: 0.66\n",
       "RandomForestClassification:\n",
       "Recall validation: 0.15\n",
       "Recall test: 0.18\n",
       "RandomForestClassification:\n",
       "Accuracy validation: 0.75\n",
       "Accuracy test: 0.54"
      ]
     },
     "execution_count": 13,
     "metadata": {},
     "output_type": "execute_result"
    }
   ],
   "source": [
    "# 25% class balance\n",
    "TrainEvaluation(train_twenty_five_X, train_twenty_five_y, validation_twenty_five_X, validation_twenty_five_y, test_X, test_y, ('xgboost', 'random_forest', 'logistic_regression'), ('accuracy', 'precision', 'recall', 'f1_score'))"
   ]
  },
  {
   "cell_type": "code",
   "execution_count": 14,
   "metadata": {},
   "outputs": [
    {
     "data": {
      "text/plain": [
       "XGBoostClassification:\n",
       "F1Score validation: 0.69\n",
       "F1Score test: 0.69\n",
       "XGBoostClassification:\n",
       "Precision validation: 0.63\n",
       "Precision test: 0.61\n",
       "XGBoostClassification:\n",
       "Recall validation: 0.77\n",
       "Recall test: 0.78\n",
       "XGBoostClassification:\n",
       "Accuracy validation: 0.66\n",
       "Accuracy test: 0.65\n",
       "LogisticRegressionClassification:\n",
       "F1Score validation: 0.54\n",
       "F1Score test: 0.57\n",
       "LogisticRegressionClassification:\n",
       "Precision validation: 0.56\n",
       "Precision test: 0.56\n",
       "LogisticRegressionClassification:\n",
       "Recall validation: 0.52\n",
       "Recall test: 0.58\n",
       "LogisticRegressionClassification:\n",
       "Accuracy validation: 0.56\n",
       "Accuracy test: 0.56\n",
       "RandomForestClassification:\n",
       "F1Score validation: 0.68\n",
       "F1Score test: 0.68\n",
       "RandomForestClassification:\n",
       "Precision validation: 0.64\n",
       "Precision test: 0.61\n",
       "RandomForestClassification:\n",
       "Recall validation: 0.73\n",
       "Recall test: 0.77\n",
       "RandomForestClassification:\n",
       "Accuracy validation: 0.66\n",
       "Accuracy test: 0.64"
      ]
     },
     "execution_count": 14,
     "metadata": {},
     "output_type": "execute_result"
    }
   ],
   "source": [
    "# 50% class balance\n",
    "TrainEvaluation(train_fifty_X, train_fifty_y, validation_fifty_X, validation_fifty_y, test_X, test_y, ('xgboost', 'random_forest', 'logistic_regression'), ('accuracy', 'precision', 'recall', 'f1_score'))"
   ]
  },
  {
   "cell_type": "code",
   "execution_count": 15,
   "metadata": {},
   "outputs": [],
   "source": [
    "# Load datasets\n",
    "\n",
    "# 1% class balance\n",
    "train_one_random_under = load_dataset(dataset_type='train', balance=1, technique='ru', encoding='oe')\n",
    "train_one_near_miss_under = load_dataset(dataset_type='train', balance=1, technique='nmu', encoding='oe')\n",
    "train_one_random_over = load_dataset(dataset_type='train', balance=1, technique='ro', encoding='oe')\n",
    "\n",
    "# 3% class balance\n",
    "train_three_random_under = load_dataset(dataset_type='train', balance=3, technique='ru', encoding='oe')\n",
    "train_three_near_miss_under = load_dataset(dataset_type='train', balance=3, technique='nmu', encoding='oe')\n",
    "train_three_random_over = load_dataset(dataset_type='train', balance=3, technique='ro', encoding='oe')\n",
    "\n",
    "# 5% class balance\n",
    "train_five_random_under = load_dataset(dataset_type='train', balance=5, technique='ru', encoding='oe')\n",
    "train_five_near_miss_under = load_dataset(dataset_type='train', balance=5, technique='nmu', encoding='oe')\n",
    "train_five_random_over = load_dataset(dataset_type='train', balance=5, technique='ro', encoding='oe')\n",
    "\n",
    "# 25% class balance\n",
    "train_twenty_five_random_under = load_dataset(dataset_type='train', balance=25, technique='ru', encoding='oe')\n",
    "train_twenty_five_near_miss_under = load_dataset(dataset_type='train', balance=25, technique='nmu', encoding='oe')\n",
    "train_twenty_five_random_over = load_dataset(dataset_type='train', balance=25, technique='ro', encoding='oe')\n",
    "\n",
    "# 50% class balance\n",
    "train_fifty_random_under = load_dataset(dataset_type='train', balance=50, technique='ru', encoding='oe')\n",
    "train_fifty_near_miss_under = load_dataset(dataset_type='train', balance=50, technique='nmu', encoding='oe')\n",
    "train_fifty_random_over = load_dataset(dataset_type='train', balance=50, technique='ro', encoding='oe')"
   ]
  },
  {
   "cell_type": "code",
   "execution_count": 17,
   "metadata": {},
   "outputs": [],
   "source": [
    "# Split datasets into train and validation\n",
    "\n",
    "# 1% class balance\n",
    "train_one_ru, validation_one_ru = train_test_split(train_one_random_under, test_size=0.2, stratify=train_one_random_under['returnShipment'])\n",
    "train_one_nmu, validation_one_nmu = train_test_split(train_one_near_miss_under, test_size=0.2, stratify=train_one_near_miss_under['returnShipment'])\n",
    "train_one_ro, validation_one_ro = train_test_split(train_one_random_over, test_size=0.2, stratify=train_one_random_over['returnShipment'])\n",
    "\n",
    "# 3% class balance\n",
    "train_three_ru, validation_three_ru = train_test_split(train_three_random_under, test_size=0.2, stratify=train_three_random_under['returnShipment'])\n",
    "train_three_nmu, validation_three_nmu = train_test_split(train_three_near_miss_under, test_size=0.2, stratify=train_three_near_miss_under['returnShipment'])\n",
    "train_three_ro, validation_three_ro = train_test_split(train_three_random_over, test_size=0.2, stratify=train_three_random_over['returnShipment'])\n",
    "\n",
    "# 5% class balance\n",
    "train_five_ru, validation_five_ru = train_test_split(train_five_random_under, test_size=0.2, stratify=train_five_random_under['returnShipment'])\n",
    "train_five_nmu, validation_five_nmu = train_test_split(train_five_near_miss_under, test_size=0.2, stratify=train_five_near_miss_under['returnShipment'])\n",
    "train_five_ro, validation_five_ro = train_test_split(train_five_random_over, test_size=0.2, stratify=train_five_random_over['returnShipment'])\n",
    "\n",
    "# 25% class balance\n",
    "train_twenty_five_ru, validation_twenty_five_ru = train_test_split(train_twenty_five_random_under, test_size=0.2, stratify=train_twenty_five_random_under['returnShipment'])\n",
    "train_twenty_five_nmu, validation_twenty_five_nmu = train_test_split(train_twenty_five_near_miss_under, test_size=0.2, stratify=train_twenty_five_near_miss_under['returnShipment'])\n",
    "train_twenty_five_ro, validation_twenty_five_ro = train_test_split(train_twenty_five_random_over, test_size=0.2, stratify=train_twenty_five_random_over['returnShipment'])\n",
    "\n",
    "# 50% class balance\n",
    "train_fifty_ru, validation_fifty_ru = train_test_split(train_fifty_random_under, test_size=0.2, stratify=train_fifty_random_under['returnShipment'])\n",
    "train_fifty_nmu, validation_fifty_nmu = train_test_split(train_fifty_near_miss_under, test_size=0.2, stratify=train_fifty_near_miss_under['returnShipment'])\n",
    "train_fifty_ro, validation_fifty_ro = train_test_split(train_fifty_random_over, test_size=0.2, stratify=train_fifty_random_over['returnShipment'])"
   ]
  },
  {
   "cell_type": "code",
   "execution_count": 18,
   "metadata": {},
   "outputs": [],
   "source": [
    "# Split datasets into features and target\n",
    "\n",
    "# 1% class balance\n",
    "train_one_ru_X, train_one_ru_y = split_x_y(df=train_one_ru, target='returnShipment')\n",
    "validation_one_ru_X, validation_one_ru_y = split_x_y(df=validation_one_ru, target='returnShipment')\n",
    "\n",
    "train_one_nmu_X, train_one_nmu_y = split_x_y(df=train_one_nmu, target='returnShipment')\n",
    "validation_one_nmu_X, validation_one_nmu_y = split_x_y(df=validation_one_nmu, target='returnShipment')\n",
    "\n",
    "train_one_ro_X, train_one_ro_y = split_x_y(df=train_one_ro, target='returnShipment')\n",
    "validation_one_ro_X, validation_one_ro_y = split_x_y(df=validation_one_ro, target='returnShipment')\n",
    "\n",
    "# 3% class balance\n",
    "train_three_ru_X, train_three_ru_y = split_x_y(df=train_three_ru, target='returnShipment')\n",
    "validation_three_ru_X, validation_three_ru_y = split_x_y(df=validation_three_ru, target='returnShipment')\n",
    "\n",
    "train_three_nmu_X, train_three_nmu_y = split_x_y(df=train_three_nmu, target='returnShipment')\n",
    "validation_three_nmu_X, validation_three_nmu_y = split_x_y(df=validation_three_nmu, target='returnShipment')\n",
    "\n",
    "train_three_ro_X, train_three_ro_y = split_x_y(df=train_three_ro, target='returnShipment')\n",
    "validation_three_ro_X, validation_three_ro_y = split_x_y(df=validation_three_ro, target='returnShipment')\n",
    "\n",
    "# 5% class balance\n",
    "train_five_ru_X, train_five_ru_y = split_x_y(df=train_five_ru, target='returnShipment')\n",
    "validation_five_ru_X, validation_five_ru_y = split_x_y(df=validation_five_ru, target='returnShipment')\n",
    "\n",
    "train_five_nmu_X, train_five_nmu_y = split_x_y(df=train_five_nmu, target='returnShipment')\n",
    "validation_five_nmu_X, validation_five_nmu_y = split_x_y(df=validation_five_nmu, target='returnShipment')\n",
    "\n",
    "train_five_ro_X, train_five_ro_y = split_x_y(df=train_five_ro, target='returnShipment')\n",
    "validation_five_ro_X, validation_five_ro_y = split_x_y(df=validation_five_ro, target='returnShipment')\n",
    "\n",
    "# 25% class balance\n",
    "train_twenty_five_ru_X, train_twenty_five_ru_y = split_x_y(df=train_twenty_five_ru, target='returnShipment')\n",
    "validation_twenty_five_ru_X, validation_twenty_five_ru_y = split_x_y(df=validation_twenty_five_ru, target='returnShipment')\n",
    "\n",
    "train_twenty_five_nmu_X, train_twenty_five_nmu_y = split_x_y(df=train_twenty_five_nmu, target='returnShipment')\n",
    "validation_twenty_five_nmu_X, validation_twenty_five_nmu_y = split_x_y(df=validation_five_nmu, target='returnShipment')\n",
    "\n",
    "train_twenty_five_ro_X, train_twenty_five_ro_y = split_x_y(df=train_twenty_five_ro, target='returnShipment')\n",
    "validation_twenty_five_ro_X, validation_twenty_five_ro_y = split_x_y(df=validation_twenty_five_ro, target='returnShipment')\n",
    "\n",
    "# 50% class balance\n",
    "train_fifty_ru_X, train_fifty_ru_y = split_x_y(df=train_fifty_ru, target='returnShipment')\n",
    "validation_fifty_ru_X, validation_fifty_ru_y = split_x_y(df=validation_fifty_ru, target='returnShipment')\n",
    "\n",
    "train_fifty_nmu_X, train_fifty_nmu_y = split_x_y(df=train_fifty_nmu, target='returnShipment')\n",
    "validation_fifty_nmu_X, validation_fifty_nmu_y = split_x_y(df=validation_fifty_nmu, target='returnShipment')\n",
    "\n",
    "train_fifty_ro_X, train_fifty_ro_y = split_x_y(df=train_fifty_ro, target='returnShipment')\n",
    "validation_fifty_ro_X, validation_fifty_ro_y = split_x_y(df=validation_fifty_ro, target='returnShipment')"
   ]
  },
  {
   "cell_type": "code",
   "execution_count": null,
   "metadata": {},
   "outputs": [],
   "source": [
    "# 1% class balance"
   ]
  },
  {
   "cell_type": "code",
   "execution_count": 19,
   "metadata": {},
   "outputs": [
    {
     "data": {
      "text/plain": [
       "XGBoostClassification:\n",
       "F1Score validation: 0.61\n",
       "F1Score test: 0.6\n",
       "XGBoostClassification:\n",
       "Precision validation: 0.6\n",
       "Precision test: 0.59\n",
       "XGBoostClassification:\n",
       "Recall validation: 0.63\n",
       "Recall test: 0.6\n",
       "XGBoostClassification:\n",
       "Accuracy validation: 0.6\n",
       "Accuracy test: 0.59\n",
       "LogisticRegressionClassification:\n",
       "F1Score validation: 0.55\n",
       "F1Score test: 0.55\n",
       "LogisticRegressionClassification:\n",
       "Precision validation: 0.57\n",
       "Precision test: 0.57\n",
       "LogisticRegressionClassification:\n",
       "Recall validation: 0.54\n",
       "Recall test: 0.53\n",
       "LogisticRegressionClassification:\n",
       "Accuracy validation: 0.57\n",
       "Accuracy test: 0.56\n",
       "RandomForestClassification:\n",
       "F1Score validation: 0.66\n",
       "F1Score test: 0.63\n",
       "RandomForestClassification:\n",
       "Precision validation: 0.61\n",
       "Precision test: 0.6\n",
       "RandomForestClassification:\n",
       "Recall validation: 0.72\n",
       "Recall test: 0.66\n",
       "RandomForestClassification:\n",
       "Accuracy validation: 0.63\n",
       "Accuracy test: 0.61"
      ]
     },
     "execution_count": 19,
     "metadata": {},
     "output_type": "execute_result"
    }
   ],
   "source": [
    "TrainEvaluation(train_one_ru_X, train_one_ru_y, validation_one_ru_X, validation_one_ru_y, test_X, test_y, ('xgboost', 'random_forest', 'logistic_regression'), ('accuracy', 'precision', 'recall', 'f1_score'))"
   ]
  },
  {
   "cell_type": "code",
   "execution_count": 20,
   "metadata": {},
   "outputs": [
    {
     "data": {
      "text/plain": [
       "XGBoostClassification:\n",
       "F1Score validation: 0.86\n",
       "F1Score test: 0.68\n",
       "XGBoostClassification:\n",
       "Precision validation: 0.89\n",
       "Precision test: 0.53\n",
       "XGBoostClassification:\n",
       "Recall validation: 0.84\n",
       "Recall test: 0.94\n",
       "XGBoostClassification:\n",
       "Accuracy validation: 0.87\n",
       "Accuracy test: 0.56\n",
       "LogisticRegressionClassification:\n",
       "F1Score validation: 0.64\n",
       "F1Score test: 0.64\n",
       "LogisticRegressionClassification:\n",
       "Precision validation: 0.67\n",
       "Precision test: 0.52\n",
       "LogisticRegressionClassification:\n",
       "Recall validation: 0.61\n",
       "Recall test: 0.84\n",
       "LogisticRegressionClassification:\n",
       "Accuracy validation: 0.66\n",
       "Accuracy test: 0.53\n",
       "RandomForestClassification:\n",
       "F1Score validation: 0.84\n",
       "F1Score test: 0.69\n",
       "RandomForestClassification:\n",
       "Precision validation: 0.86\n",
       "Precision test: 0.54\n",
       "RandomForestClassification:\n",
       "Recall validation: 0.83\n",
       "Recall test: 0.95\n",
       "RandomForestClassification:\n",
       "Accuracy validation: 0.85\n",
       "Accuracy test: 0.56"
      ]
     },
     "execution_count": 20,
     "metadata": {},
     "output_type": "execute_result"
    }
   ],
   "source": [
    "TrainEvaluation(train_one_nmu_X, train_one_nmu_y, validation_one_nmu_X, validation_one_nmu_y, test_X, test_y, ('xgboost', 'random_forest', 'logistic_regression'), ('accuracy', 'precision', 'recall', 'f1_score'))"
   ]
  },
  {
   "cell_type": "code",
   "execution_count": 21,
   "metadata": {},
   "outputs": [
    {
     "data": {
      "text/plain": [
       "XGBoostClassification:\n",
       "F1Score validation: 0.89\n",
       "F1Score test: 0.26\n",
       "XGBoostClassification:\n",
       "Precision validation: 0.82\n",
       "Precision test: 0.62\n",
       "XGBoostClassification:\n",
       "Recall validation: 0.96\n",
       "Recall test: 0.16\n",
       "XGBoostClassification:\n",
       "Accuracy validation: 0.88\n",
       "Accuracy test: 0.53\n",
       "LogisticRegressionClassification:\n",
       "F1Score validation: 0.54\n",
       "F1Score test: 0.56\n",
       "LogisticRegressionClassification:\n",
       "Precision validation: 0.57\n",
       "Precision test: 0.56\n",
       "LogisticRegressionClassification:\n",
       "Recall validation: 0.52\n",
       "Recall test: 0.55\n",
       "LogisticRegressionClassification:\n",
       "Accuracy validation: 0.56\n",
       "Accuracy test: 0.56\n",
       "RandomForestClassification:\n",
       "F1Score validation: 1.0\n",
       "F1Score test: 0.0\n",
       "RandomForestClassification:\n",
       "Precision validation: 1.0\n",
       "Precision test: 0.33\n",
       "RandomForestClassification:\n",
       "Recall validation: 1.0\n",
       "Recall test: 0.0\n",
       "RandomForestClassification:\n",
       "Accuracy validation: 1.0\n",
       "Accuracy test: 0.5"
      ]
     },
     "execution_count": 21,
     "metadata": {},
     "output_type": "execute_result"
    }
   ],
   "source": [
    "TrainEvaluation(train_one_ro_X, train_one_ro_y, validation_one_ro_X, validation_one_ro_y, test_X, test_y, ('xgboost', 'random_forest', 'logistic_regression'), ('accuracy', 'precision', 'recall', 'f1_score'))"
   ]
  },
  {
   "cell_type": "code",
   "execution_count": null,
   "metadata": {},
   "outputs": [],
   "source": [
    "# 3% class balance"
   ]
  },
  {
   "cell_type": "code",
   "execution_count": 22,
   "metadata": {},
   "outputs": [
    {
     "data": {
      "text/plain": [
       "XGBoostClassification:\n",
       "F1Score validation: 0.65\n",
       "F1Score test: 0.66\n",
       "XGBoostClassification:\n",
       "Precision validation: 0.61\n",
       "Precision test: 0.59\n",
       "XGBoostClassification:\n",
       "Recall validation: 0.71\n",
       "Recall test: 0.73\n",
       "XGBoostClassification:\n",
       "Accuracy validation: 0.63\n",
       "Accuracy test: 0.61\n",
       "LogisticRegressionClassification:\n",
       "F1Score validation: 0.53\n",
       "F1Score test: 0.6\n",
       "LogisticRegressionClassification:\n",
       "Precision validation: 0.55\n",
       "Precision test: 0.55\n",
       "LogisticRegressionClassification:\n",
       "Recall validation: 0.51\n",
       "Recall test: 0.66\n",
       "LogisticRegressionClassification:\n",
       "Accuracy validation: 0.55\n",
       "Accuracy test: 0.56\n",
       "RandomForestClassification:\n",
       "F1Score validation: 0.66\n",
       "F1Score test: 0.67\n",
       "RandomForestClassification:\n",
       "Precision validation: 0.61\n",
       "Precision test: 0.6\n",
       "RandomForestClassification:\n",
       "Recall validation: 0.71\n",
       "Recall test: 0.75\n",
       "RandomForestClassification:\n",
       "Accuracy validation: 0.63\n",
       "Accuracy test: 0.63"
      ]
     },
     "execution_count": 22,
     "metadata": {},
     "output_type": "execute_result"
    }
   ],
   "source": [
    "TrainEvaluation(train_three_ru_X, train_three_ru_y, validation_three_ru_X, validation_three_ru_y, test_X, test_y, ('xgboost', 'random_forest', 'logistic_regression'), ('accuracy', 'precision', 'recall', 'f1_score'))"
   ]
  },
  {
   "cell_type": "code",
   "execution_count": 23,
   "metadata": {},
   "outputs": [
    {
     "data": {
      "text/plain": [
       "XGBoostClassification:\n",
       "F1Score validation: 0.82\n",
       "F1Score test: 0.69\n",
       "XGBoostClassification:\n",
       "Precision validation: 0.82\n",
       "Precision test: 0.54\n",
       "XGBoostClassification:\n",
       "Recall validation: 0.82\n",
       "Recall test: 0.95\n",
       "XGBoostClassification:\n",
       "Accuracy validation: 0.82\n",
       "Accuracy test: 0.57\n",
       "LogisticRegressionClassification:\n",
       "F1Score validation: 0.69\n",
       "F1Score test: 0.65\n",
       "LogisticRegressionClassification:\n",
       "Precision validation: 0.72\n",
       "Precision test: 0.51\n",
       "LogisticRegressionClassification:\n",
       "Recall validation: 0.66\n",
       "Recall test: 0.9\n",
       "LogisticRegressionClassification:\n",
       "Accuracy validation: 0.7\n",
       "Accuracy test: 0.52\n",
       "RandomForestClassification:\n",
       "F1Score validation: 0.82\n",
       "F1Score test: 0.7\n",
       "RandomForestClassification:\n",
       "Precision validation: 0.82\n",
       "Precision test: 0.55\n",
       "RandomForestClassification:\n",
       "Recall validation: 0.82\n",
       "Recall test: 0.96\n",
       "RandomForestClassification:\n",
       "Accuracy validation: 0.82\n",
       "Accuracy test: 0.59"
      ]
     },
     "execution_count": 23,
     "metadata": {},
     "output_type": "execute_result"
    }
   ],
   "source": [
    "TrainEvaluation(train_three_nmu_X, train_three_nmu_y, validation_three_nmu_X, validation_three_nmu_y, test_X, test_y, ('xgboost', 'random_forest', 'logistic_regression'), ('accuracy', 'precision', 'recall', 'f1_score'))"
   ]
  },
  {
   "cell_type": "code",
   "execution_count": 24,
   "metadata": {},
   "outputs": [
    {
     "data": {
      "text/plain": [
       "XGBoostClassification:\n",
       "F1Score validation: 0.81\n",
       "F1Score test: 0.38\n",
       "XGBoostClassification:\n",
       "Precision validation: 0.73\n",
       "Precision test: 0.61\n",
       "XGBoostClassification:\n",
       "Recall validation: 0.89\n",
       "Recall test: 0.27\n",
       "XGBoostClassification:\n",
       "Accuracy validation: 0.78\n",
       "Accuracy test: 0.55\n",
       "LogisticRegressionClassification:\n",
       "F1Score validation: 0.54\n",
       "F1Score test: 0.59\n",
       "LogisticRegressionClassification:\n",
       "Precision validation: 0.56\n",
       "Precision test: 0.55\n",
       "LogisticRegressionClassification:\n",
       "Recall validation: 0.51\n",
       "Recall test: 0.63\n",
       "LogisticRegressionClassification:\n",
       "Accuracy validation: 0.56\n",
       "Accuracy test: 0.56\n",
       "RandomForestClassification:\n",
       "F1Score validation: 1.0\n",
       "F1Score test: 0.0\n",
       "RandomForestClassification:\n",
       "Precision validation: 1.0\n",
       "Precision test: 0.46\n",
       "RandomForestClassification:\n",
       "Recall validation: 1.0\n",
       "Recall test: 0.0\n",
       "RandomForestClassification:\n",
       "Accuracy validation: 1.0\n",
       "Accuracy test: 0.5"
      ]
     },
     "execution_count": 24,
     "metadata": {},
     "output_type": "execute_result"
    }
   ],
   "source": [
    "TrainEvaluation(train_three_ro_X, train_three_ro_y, validation_three_ro_X, validation_three_ro_y, test_X, test_y, ('xgboost', 'random_forest', 'logistic_regression'), ('accuracy', 'precision', 'recall', 'f1_score'))"
   ]
  },
  {
   "cell_type": "code",
   "execution_count": null,
   "metadata": {},
   "outputs": [],
   "source": [
    "# 5% class balance"
   ]
  },
  {
   "cell_type": "code",
   "execution_count": 25,
   "metadata": {},
   "outputs": [
    {
     "data": {
      "text/plain": [
       "XGBoostClassification:\n",
       "F1Score validation: 0.65\n",
       "F1Score test: 0.57\n",
       "XGBoostClassification:\n",
       "Precision validation: 0.61\n",
       "Precision test: 0.6\n",
       "XGBoostClassification:\n",
       "Recall validation: 0.71\n",
       "Recall test: 0.55\n",
       "XGBoostClassification:\n",
       "Accuracy validation: 0.63\n",
       "Accuracy test: 0.59\n",
       "LogisticRegressionClassification:\n",
       "F1Score validation: 0.53\n",
       "F1Score test: 0.57\n",
       "LogisticRegressionClassification:\n",
       "Precision validation: 0.55\n",
       "Precision test: 0.56\n",
       "LogisticRegressionClassification:\n",
       "Recall validation: 0.51\n",
       "Recall test: 0.58\n",
       "LogisticRegressionClassification:\n",
       "Accuracy validation: 0.54\n",
       "Accuracy test: 0.56\n",
       "RandomForestClassification:\n",
       "F1Score validation: 0.66\n",
       "F1Score test: 0.66\n",
       "RandomForestClassification:\n",
       "Precision validation: 0.61\n",
       "Precision test: 0.61\n",
       "RandomForestClassification:\n",
       "Recall validation: 0.72\n",
       "Recall test: 0.71\n",
       "RandomForestClassification:\n",
       "Accuracy validation: 0.62\n",
       "Accuracy test: 0.62"
      ]
     },
     "execution_count": 25,
     "metadata": {},
     "output_type": "execute_result"
    }
   ],
   "source": [
    "TrainEvaluation(train_five_ru_X, train_five_ru_y, validation_five_ru_X, validation_five_ru_y, test_X, test_y, ('xgboost', 'random_forest', 'logistic_regression'), ('accuracy', 'precision', 'recall', 'f1_score'))"
   ]
  },
  {
   "cell_type": "code",
   "execution_count": 26,
   "metadata": {},
   "outputs": [
    {
     "data": {
      "text/plain": [
       "XGBoostClassification:\n",
       "F1Score validation: 0.8\n",
       "F1Score test: 0.69\n",
       "XGBoostClassification:\n",
       "Precision validation: 0.83\n",
       "Precision test: 0.54\n",
       "XGBoostClassification:\n",
       "Recall validation: 0.78\n",
       "Recall test: 0.96\n",
       "XGBoostClassification:\n",
       "Accuracy validation: 0.81\n",
       "Accuracy test: 0.58\n",
       "LogisticRegressionClassification:\n",
       "F1Score validation: 0.67\n",
       "F1Score test: 0.65\n",
       "LogisticRegressionClassification:\n",
       "Precision validation: 0.72\n",
       "Precision test: 0.51\n",
       "LogisticRegressionClassification:\n",
       "Recall validation: 0.62\n",
       "Recall test: 0.88\n",
       "LogisticRegressionClassification:\n",
       "Accuracy validation: 0.69\n",
       "Accuracy test: 0.52\n",
       "RandomForestClassification:\n",
       "F1Score validation: 0.79\n",
       "F1Score test: 0.7\n",
       "RandomForestClassification:\n",
       "Precision validation: 0.81\n",
       "Precision test: 0.55\n",
       "RandomForestClassification:\n",
       "Recall validation: 0.77\n",
       "Recall test: 0.96\n",
       "RandomForestClassification:\n",
       "Accuracy validation: 0.8\n",
       "Accuracy test: 0.58"
      ]
     },
     "execution_count": 26,
     "metadata": {},
     "output_type": "execute_result"
    }
   ],
   "source": [
    "TrainEvaluation(train_five_nmu_X, train_five_nmu_y, validation_five_nmu_X, validation_five_nmu_y, test_X, test_y, ('xgboost', 'random_forest', 'logistic_regression'), ('accuracy', 'precision', 'recall', 'f1_score'))"
   ]
  },
  {
   "cell_type": "code",
   "execution_count": 27,
   "metadata": {},
   "outputs": [
    {
     "data": {
      "text/plain": [
       "XGBoostClassification:\n",
       "F1Score validation: 0.77\n",
       "F1Score test: 0.46\n",
       "XGBoostClassification:\n",
       "Precision validation: 0.69\n",
       "Precision test: 0.62\n",
       "XGBoostClassification:\n",
       "Recall validation: 0.85\n",
       "Recall test: 0.37\n",
       "XGBoostClassification:\n",
       "Accuracy validation: 0.74\n",
       "Accuracy test: 0.57\n",
       "LogisticRegressionClassification:\n",
       "F1Score validation: 0.54\n",
       "F1Score test: 0.58\n",
       "LogisticRegressionClassification:\n",
       "Precision validation: 0.56\n",
       "Precision test: 0.56\n",
       "LogisticRegressionClassification:\n",
       "Recall validation: 0.52\n",
       "Recall test: 0.6\n",
       "LogisticRegressionClassification:\n",
       "Accuracy validation: 0.56\n",
       "Accuracy test: 0.56\n",
       "RandomForestClassification:\n",
       "F1Score validation: 1.0\n",
       "F1Score test: 0.0\n",
       "RandomForestClassification:\n",
       "Precision validation: 0.99\n",
       "Precision test: 0.5\n",
       "RandomForestClassification:\n",
       "Recall validation: 1.0\n",
       "Recall test: 0.0\n",
       "RandomForestClassification:\n",
       "Accuracy validation: 1.0\n",
       "Accuracy test: 0.5"
      ]
     },
     "execution_count": 27,
     "metadata": {},
     "output_type": "execute_result"
    }
   ],
   "source": [
    "TrainEvaluation(train_five_ro_X, train_five_ro_y, validation_five_ro_X, validation_five_ro_y, test_X, test_y, ('xgboost', 'random_forest', 'logistic_regression'), ('accuracy', 'precision', 'recall', 'f1_score'))"
   ]
  },
  {
   "cell_type": "code",
   "execution_count": null,
   "metadata": {},
   "outputs": [],
   "source": [
    "# 25% class balance"
   ]
  },
  {
   "cell_type": "code",
   "execution_count": 28,
   "metadata": {},
   "outputs": [
    {
     "data": {
      "text/plain": [
       "XGBoostClassification:\n",
       "F1Score validation: 0.69\n",
       "F1Score test: 0.7\n",
       "XGBoostClassification:\n",
       "Precision validation: 0.62\n",
       "Precision test: 0.6\n",
       "XGBoostClassification:\n",
       "Recall validation: 0.76\n",
       "Recall test: 0.84\n",
       "XGBoostClassification:\n",
       "Accuracy validation: 0.65\n",
       "Accuracy test: 0.64\n",
       "LogisticRegressionClassification:\n",
       "F1Score validation: 0.54\n",
       "F1Score test: 0.57\n",
       "LogisticRegressionClassification:\n",
       "Precision validation: 0.56\n",
       "Precision test: 0.56\n",
       "LogisticRegressionClassification:\n",
       "Recall validation: 0.52\n",
       "Recall test: 0.58\n",
       "LogisticRegressionClassification:\n",
       "Accuracy validation: 0.56\n",
       "Accuracy test: 0.56\n",
       "RandomForestClassification:\n",
       "F1Score validation: 0.67\n",
       "F1Score test: 0.68\n",
       "RandomForestClassification:\n",
       "Precision validation: 0.62\n",
       "Precision test: 0.61\n",
       "RandomForestClassification:\n",
       "Recall validation: 0.72\n",
       "Recall test: 0.77\n",
       "RandomForestClassification:\n",
       "Accuracy validation: 0.64\n",
       "Accuracy test: 0.64"
      ]
     },
     "execution_count": 28,
     "metadata": {},
     "output_type": "execute_result"
    }
   ],
   "source": [
    "TrainEvaluation(train_twenty_five_ru_X, train_twenty_five_ru_y, validation_twenty_five_ru_X, validation_twenty_five_ru_y, test_X, test_y, ('xgboost', 'random_forest', 'logistic_regression'), ('accuracy', 'precision', 'recall', 'f1_score'))"
   ]
  },
  {
   "cell_type": "code",
   "execution_count": 29,
   "metadata": {},
   "outputs": [
    {
     "data": {
      "text/plain": [
       "XGBoostClassification:\n",
       "F1Score validation: 0.78\n",
       "F1Score test: 0.69\n",
       "XGBoostClassification:\n",
       "Precision validation: 0.88\n",
       "Precision test: 0.56\n",
       "XGBoostClassification:\n",
       "Recall validation: 0.7\n",
       "Recall test: 0.88\n",
       "XGBoostClassification:\n",
       "Accuracy validation: 0.81\n",
       "Accuracy test: 0.6\n",
       "LogisticRegressionClassification:\n",
       "F1Score validation: 0.64\n",
       "F1Score test: 0.63\n",
       "LogisticRegressionClassification:\n",
       "Precision validation: 0.73\n",
       "Precision test: 0.53\n",
       "LogisticRegressionClassification:\n",
       "Recall validation: 0.58\n",
       "Recall test: 0.8\n",
       "LogisticRegressionClassification:\n",
       "Accuracy validation: 0.68\n",
       "Accuracy test: 0.54\n",
       "RandomForestClassification:\n",
       "F1Score validation: 0.86\n",
       "F1Score test: 0.69\n",
       "RandomForestClassification:\n",
       "Precision validation: 0.94\n",
       "Precision test: 0.57\n",
       "RandomForestClassification:\n",
       "Recall validation: 0.8\n",
       "Recall test: 0.88\n",
       "RandomForestClassification:\n",
       "Accuracy validation: 0.87\n",
       "Accuracy test: 0.6"
      ]
     },
     "execution_count": 29,
     "metadata": {},
     "output_type": "execute_result"
    }
   ],
   "source": [
    "TrainEvaluation(train_twenty_five_nmu_X, train_twenty_five_nmu_y, validation_twenty_five_nmu_X, validation_twenty_five_nmu_y, test_X, test_y, ('xgboost', 'random_forest', 'logistic_regression'), ('accuracy', 'precision', 'recall', 'f1_score'))"
   ]
  },
  {
   "cell_type": "code",
   "execution_count": 30,
   "metadata": {},
   "outputs": [
    {
     "data": {
      "text/plain": [
       "XGBoostClassification:\n",
       "F1Score validation: 0.71\n",
       "F1Score test: 0.67\n",
       "XGBoostClassification:\n",
       "Precision validation: 0.64\n",
       "Precision test: 0.61\n",
       "XGBoostClassification:\n",
       "Recall validation: 0.8\n",
       "Recall test: 0.76\n",
       "XGBoostClassification:\n",
       "Accuracy validation: 0.67\n",
       "Accuracy test: 0.63\n",
       "LogisticRegressionClassification:\n",
       "F1Score validation: 0.54\n",
       "F1Score test: 0.57\n",
       "LogisticRegressionClassification:\n",
       "Precision validation: 0.56\n",
       "Precision test: 0.56\n",
       "LogisticRegressionClassification:\n",
       "Recall validation: 0.52\n",
       "Recall test: 0.57\n",
       "LogisticRegressionClassification:\n",
       "Accuracy validation: 0.56\n",
       "Accuracy test: 0.56\n",
       "RandomForestClassification:\n",
       "F1Score validation: 0.9\n",
       "F1Score test: 0.37\n",
       "RandomForestClassification:\n",
       "Precision validation: 0.86\n",
       "Precision test: 0.66\n",
       "RandomForestClassification:\n",
       "Recall validation: 0.94\n",
       "Recall test: 0.26\n",
       "RandomForestClassification:\n",
       "Accuracy validation: 0.89\n",
       "Accuracy test: 0.56"
      ]
     },
     "execution_count": 30,
     "metadata": {},
     "output_type": "execute_result"
    }
   ],
   "source": [
    "TrainEvaluation(train_twenty_five_ro_X, train_twenty_five_ro_y, validation_twenty_five_ro_X, validation_twenty_five_ro_y, test_X, test_y, ('xgboost', 'random_forest', 'logistic_regression'), ('accuracy', 'precision', 'recall', 'f1_score'))"
   ]
  },
  {
   "cell_type": "code",
   "execution_count": null,
   "metadata": {},
   "outputs": [],
   "source": [
    "# 50% class balance"
   ]
  },
  {
   "cell_type": "code",
   "execution_count": 31,
   "metadata": {},
   "outputs": [
    {
     "data": {
      "text/plain": [
       "XGBoostClassification:\n",
       "F1Score validation: 0.69\n",
       "F1Score test: 0.68\n",
       "XGBoostClassification:\n",
       "Precision validation: 0.62\n",
       "Precision test: 0.61\n",
       "XGBoostClassification:\n",
       "Recall validation: 0.77\n",
       "Recall test: 0.78\n",
       "XGBoostClassification:\n",
       "Accuracy validation: 0.65\n",
       "Accuracy test: 0.64\n",
       "LogisticRegressionClassification:\n",
       "F1Score validation: 0.54\n",
       "F1Score test: 0.57\n",
       "LogisticRegressionClassification:\n",
       "Precision validation: 0.57\n",
       "Precision test: 0.56\n",
       "LogisticRegressionClassification:\n",
       "Recall validation: 0.52\n",
       "Recall test: 0.59\n",
       "LogisticRegressionClassification:\n",
       "Accuracy validation: 0.56\n",
       "Accuracy test: 0.56\n",
       "RandomForestClassification:\n",
       "F1Score validation: 0.68\n",
       "F1Score test: 0.68\n",
       "RandomForestClassification:\n",
       "Precision validation: 0.64\n",
       "Precision test: 0.61\n",
       "RandomForestClassification:\n",
       "Recall validation: 0.73\n",
       "Recall test: 0.76\n",
       "RandomForestClassification:\n",
       "Accuracy validation: 0.66\n",
       "Accuracy test: 0.64"
      ]
     },
     "execution_count": 31,
     "metadata": {},
     "output_type": "execute_result"
    }
   ],
   "source": [
    "TrainEvaluation(train_fifty_ru_X, train_fifty_ru_y, validation_fifty_ru_X, validation_fifty_ru_y, test_X, test_y, ('xgboost', 'random_forest', 'logistic_regression'), ('accuracy', 'precision', 'recall', 'f1_score'))"
   ]
  },
  {
   "cell_type": "code",
   "execution_count": 32,
   "metadata": {},
   "outputs": [
    {
     "data": {
      "text/plain": [
       "XGBoostClassification:\n",
       "F1Score validation: 0.69\n",
       "F1Score test: 0.67\n",
       "XGBoostClassification:\n",
       "Precision validation: 0.62\n",
       "Precision test: 0.62\n",
       "XGBoostClassification:\n",
       "Recall validation: 0.78\n",
       "Recall test: 0.74\n",
       "XGBoostClassification:\n",
       "Accuracy validation: 0.66\n",
       "Accuracy test: 0.64\n",
       "LogisticRegressionClassification:\n",
       "F1Score validation: 0.54\n",
       "F1Score test: 0.57\n",
       "LogisticRegressionClassification:\n",
       "Precision validation: 0.56\n",
       "Precision test: 0.56\n",
       "LogisticRegressionClassification:\n",
       "Recall validation: 0.52\n",
       "Recall test: 0.58\n",
       "LogisticRegressionClassification:\n",
       "Accuracy validation: 0.56\n",
       "Accuracy test: 0.56\n",
       "RandomForestClassification:\n",
       "F1Score validation: 0.68\n",
       "F1Score test: 0.68\n",
       "RandomForestClassification:\n",
       "Precision validation: 0.64\n",
       "Precision test: 0.61\n",
       "RandomForestClassification:\n",
       "Recall validation: 0.72\n",
       "Recall test: 0.76\n",
       "RandomForestClassification:\n",
       "Accuracy validation: 0.65\n",
       "Accuracy test: 0.64"
      ]
     },
     "execution_count": 32,
     "metadata": {},
     "output_type": "execute_result"
    }
   ],
   "source": [
    "TrainEvaluation(train_fifty_nmu_X, train_fifty_nmu_y, validation_fifty_nmu_X, validation_fifty_nmu_y, test_X, test_y, ('xgboost', 'random_forest', 'logistic_regression'), ('accuracy', 'precision', 'recall', 'f1_score'))"
   ]
  },
  {
   "cell_type": "code",
   "execution_count": 33,
   "metadata": {},
   "outputs": [
    {
     "data": {
      "text/plain": [
       "XGBoostClassification:\n",
       "F1Score validation: 0.69\n",
       "F1Score test: 0.63\n",
       "XGBoostClassification:\n",
       "Precision validation: 0.62\n",
       "Precision test: 0.62\n",
       "XGBoostClassification:\n",
       "Recall validation: 0.78\n",
       "Recall test: 0.65\n",
       "XGBoostClassification:\n",
       "Accuracy validation: 0.66\n",
       "Accuracy test: 0.62\n",
       "LogisticRegressionClassification:\n",
       "F1Score validation: 0.54\n",
       "F1Score test: 0.57\n",
       "LogisticRegressionClassification:\n",
       "Precision validation: 0.56\n",
       "Precision test: 0.56\n",
       "LogisticRegressionClassification:\n",
       "Recall validation: 0.52\n",
       "Recall test: 0.58\n",
       "LogisticRegressionClassification:\n",
       "Accuracy validation: 0.56\n",
       "Accuracy test: 0.56\n",
       "RandomForestClassification:\n",
       "F1Score validation: 0.68\n",
       "F1Score test: 0.67\n",
       "RandomForestClassification:\n",
       "Precision validation: 0.63\n",
       "Precision test: 0.61\n",
       "RandomForestClassification:\n",
       "Recall validation: 0.73\n",
       "Recall test: 0.75\n",
       "RandomForestClassification:\n",
       "Accuracy validation: 0.65\n",
       "Accuracy test: 0.64"
      ]
     },
     "execution_count": 33,
     "metadata": {},
     "output_type": "execute_result"
    }
   ],
   "source": [
    "TrainEvaluation(train_fifty_ro_X, train_fifty_ro_y, validation_fifty_ro_X, validation_fifty_ro_y, test_X, test_y, ('xgboost', 'random_forest', 'logistic_regression'), ('accuracy', 'precision', 'recall', 'f1_score'))"
   ]
  }
 ],
 "metadata": {
  "kernelspec": {
   "display_name": "Python 3 (ipykernel)",
   "language": "python",
   "name": "python3"
  },
  "language_info": {
   "codemirror_mode": {
    "name": "ipython",
    "version": 3
   },
   "file_extension": ".py",
   "mimetype": "text/x-python",
   "name": "python",
   "nbconvert_exporter": "python",
   "pygments_lexer": "ipython3",
   "version": "3.9.2"
  }
 },
 "nbformat": 4,
 "nbformat_minor": 1
}
